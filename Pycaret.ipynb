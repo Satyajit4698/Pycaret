{
 "cells": [
  {
   "cell_type": "code",
   "execution_count": 1,
   "metadata": {},
   "outputs": [],
   "source": [
    "import pycaret\n",
    "from pycaret.datasets import get_data\n"
   ]
  },
  {
   "cell_type": "code",
   "execution_count": 2,
   "metadata": {},
   "outputs": [
    {
     "data": {
      "text/html": [
       "<div>\n",
       "<style scoped>\n",
       "    .dataframe tbody tr th:only-of-type {\n",
       "        vertical-align: middle;\n",
       "    }\n",
       "\n",
       "    .dataframe tbody tr th {\n",
       "        vertical-align: top;\n",
       "    }\n",
       "\n",
       "    .dataframe thead th {\n",
       "        text-align: right;\n",
       "    }\n",
       "</style>\n",
       "<table border=\"1\" class=\"dataframe\">\n",
       "  <thead>\n",
       "    <tr style=\"text-align: right;\">\n",
       "      <th></th>\n",
       "      <th>Number of times pregnant</th>\n",
       "      <th>Plasma glucose concentration a 2 hours in an oral glucose tolerance test</th>\n",
       "      <th>Diastolic blood pressure (mm Hg)</th>\n",
       "      <th>Triceps skin fold thickness (mm)</th>\n",
       "      <th>2-Hour serum insulin (mu U/ml)</th>\n",
       "      <th>Body mass index (weight in kg/(height in m)^2)</th>\n",
       "      <th>Diabetes pedigree function</th>\n",
       "      <th>Age (years)</th>\n",
       "      <th>Class variable</th>\n",
       "    </tr>\n",
       "  </thead>\n",
       "  <tbody>\n",
       "    <tr>\n",
       "      <th>0</th>\n",
       "      <td>6</td>\n",
       "      <td>148</td>\n",
       "      <td>72</td>\n",
       "      <td>35</td>\n",
       "      <td>0</td>\n",
       "      <td>33.6</td>\n",
       "      <td>0.627</td>\n",
       "      <td>50</td>\n",
       "      <td>1</td>\n",
       "    </tr>\n",
       "    <tr>\n",
       "      <th>1</th>\n",
       "      <td>1</td>\n",
       "      <td>85</td>\n",
       "      <td>66</td>\n",
       "      <td>29</td>\n",
       "      <td>0</td>\n",
       "      <td>26.6</td>\n",
       "      <td>0.351</td>\n",
       "      <td>31</td>\n",
       "      <td>0</td>\n",
       "    </tr>\n",
       "    <tr>\n",
       "      <th>2</th>\n",
       "      <td>8</td>\n",
       "      <td>183</td>\n",
       "      <td>64</td>\n",
       "      <td>0</td>\n",
       "      <td>0</td>\n",
       "      <td>23.3</td>\n",
       "      <td>0.672</td>\n",
       "      <td>32</td>\n",
       "      <td>1</td>\n",
       "    </tr>\n",
       "    <tr>\n",
       "      <th>3</th>\n",
       "      <td>1</td>\n",
       "      <td>89</td>\n",
       "      <td>66</td>\n",
       "      <td>23</td>\n",
       "      <td>94</td>\n",
       "      <td>28.1</td>\n",
       "      <td>0.167</td>\n",
       "      <td>21</td>\n",
       "      <td>0</td>\n",
       "    </tr>\n",
       "    <tr>\n",
       "      <th>4</th>\n",
       "      <td>0</td>\n",
       "      <td>137</td>\n",
       "      <td>40</td>\n",
       "      <td>35</td>\n",
       "      <td>168</td>\n",
       "      <td>43.1</td>\n",
       "      <td>2.288</td>\n",
       "      <td>33</td>\n",
       "      <td>1</td>\n",
       "    </tr>\n",
       "  </tbody>\n",
       "</table>\n",
       "</div>"
      ],
      "text/plain": [
       "   Number of times pregnant  \\\n",
       "0                         6   \n",
       "1                         1   \n",
       "2                         8   \n",
       "3                         1   \n",
       "4                         0   \n",
       "\n",
       "   Plasma glucose concentration a 2 hours in an oral glucose tolerance test  \\\n",
       "0                                                148                          \n",
       "1                                                 85                          \n",
       "2                                                183                          \n",
       "3                                                 89                          \n",
       "4                                                137                          \n",
       "\n",
       "   Diastolic blood pressure (mm Hg)  Triceps skin fold thickness (mm)  \\\n",
       "0                                72                                35   \n",
       "1                                66                                29   \n",
       "2                                64                                 0   \n",
       "3                                66                                23   \n",
       "4                                40                                35   \n",
       "\n",
       "   2-Hour serum insulin (mu U/ml)  \\\n",
       "0                               0   \n",
       "1                               0   \n",
       "2                               0   \n",
       "3                              94   \n",
       "4                             168   \n",
       "\n",
       "   Body mass index (weight in kg/(height in m)^2)  Diabetes pedigree function  \\\n",
       "0                                            33.6                       0.627   \n",
       "1                                            26.6                       0.351   \n",
       "2                                            23.3                       0.672   \n",
       "3                                            28.1                       0.167   \n",
       "4                                            43.1                       2.288   \n",
       "\n",
       "   Age (years)  Class variable  \n",
       "0           50               1  \n",
       "1           31               0  \n",
       "2           32               1  \n",
       "3           21               0  \n",
       "4           33               1  "
      ]
     },
     "metadata": {},
     "output_type": "display_data"
    }
   ],
   "source": [
    "diabetes_df=get_data('diabetes')"
   ]
  },
  {
   "cell_type": "code",
   "execution_count": 3,
   "metadata": {},
   "outputs": [
    {
     "data": {
      "text/plain": [
       "0    500\n",
       "1    268\n",
       "Name: Class variable, dtype: int64"
      ]
     },
     "execution_count": 3,
     "metadata": {},
     "output_type": "execute_result"
    }
   ],
   "source": [
    "diabetes_df['Class variable'].value_counts()"
   ]
  },
  {
   "cell_type": "markdown",
   "metadata": {},
   "source": [
    "# Classification"
   ]
  },
  {
   "cell_type": "code",
   "execution_count": 4,
   "metadata": {},
   "outputs": [
    {
     "name": "stdout",
     "output_type": "stream",
     "text": [
      " \n",
      "Setup Succesfully Completed!\n"
     ]
    },
    {
     "data": {
      "text/html": [
       "<style  type=\"text/css\" >\n",
       "</style><table id=\"T_91c995cc_cf60_11ea_bb7f_98fa9b095f1c\" ><thead>    <tr>        <th class=\"blank level0\" ></th>        <th class=\"col_heading level0 col0\" >Description</th>        <th class=\"col_heading level0 col1\" >Value</th>    </tr></thead><tbody>\n",
       "                <tr>\n",
       "                        <th id=\"T_91c995cc_cf60_11ea_bb7f_98fa9b095f1clevel0_row0\" class=\"row_heading level0 row0\" >0</th>\n",
       "                        <td id=\"T_91c995cc_cf60_11ea_bb7f_98fa9b095f1crow0_col0\" class=\"data row0 col0\" >session_id</td>\n",
       "                        <td id=\"T_91c995cc_cf60_11ea_bb7f_98fa9b095f1crow0_col1\" class=\"data row0 col1\" >5570</td>\n",
       "            </tr>\n",
       "            <tr>\n",
       "                        <th id=\"T_91c995cc_cf60_11ea_bb7f_98fa9b095f1clevel0_row1\" class=\"row_heading level0 row1\" >1</th>\n",
       "                        <td id=\"T_91c995cc_cf60_11ea_bb7f_98fa9b095f1crow1_col0\" class=\"data row1 col0\" >Target Type</td>\n",
       "                        <td id=\"T_91c995cc_cf60_11ea_bb7f_98fa9b095f1crow1_col1\" class=\"data row1 col1\" >Binary</td>\n",
       "            </tr>\n",
       "            <tr>\n",
       "                        <th id=\"T_91c995cc_cf60_11ea_bb7f_98fa9b095f1clevel0_row2\" class=\"row_heading level0 row2\" >2</th>\n",
       "                        <td id=\"T_91c995cc_cf60_11ea_bb7f_98fa9b095f1crow2_col0\" class=\"data row2 col0\" >Label Encoded</td>\n",
       "                        <td id=\"T_91c995cc_cf60_11ea_bb7f_98fa9b095f1crow2_col1\" class=\"data row2 col1\" >None</td>\n",
       "            </tr>\n",
       "            <tr>\n",
       "                        <th id=\"T_91c995cc_cf60_11ea_bb7f_98fa9b095f1clevel0_row3\" class=\"row_heading level0 row3\" >3</th>\n",
       "                        <td id=\"T_91c995cc_cf60_11ea_bb7f_98fa9b095f1crow3_col0\" class=\"data row3 col0\" >Original Data</td>\n",
       "                        <td id=\"T_91c995cc_cf60_11ea_bb7f_98fa9b095f1crow3_col1\" class=\"data row3 col1\" >(768, 9)</td>\n",
       "            </tr>\n",
       "            <tr>\n",
       "                        <th id=\"T_91c995cc_cf60_11ea_bb7f_98fa9b095f1clevel0_row4\" class=\"row_heading level0 row4\" >4</th>\n",
       "                        <td id=\"T_91c995cc_cf60_11ea_bb7f_98fa9b095f1crow4_col0\" class=\"data row4 col0\" >Missing Values </td>\n",
       "                        <td id=\"T_91c995cc_cf60_11ea_bb7f_98fa9b095f1crow4_col1\" class=\"data row4 col1\" >False</td>\n",
       "            </tr>\n",
       "            <tr>\n",
       "                        <th id=\"T_91c995cc_cf60_11ea_bb7f_98fa9b095f1clevel0_row5\" class=\"row_heading level0 row5\" >5</th>\n",
       "                        <td id=\"T_91c995cc_cf60_11ea_bb7f_98fa9b095f1crow5_col0\" class=\"data row5 col0\" >Numeric Features </td>\n",
       "                        <td id=\"T_91c995cc_cf60_11ea_bb7f_98fa9b095f1crow5_col1\" class=\"data row5 col1\" >7</td>\n",
       "            </tr>\n",
       "            <tr>\n",
       "                        <th id=\"T_91c995cc_cf60_11ea_bb7f_98fa9b095f1clevel0_row6\" class=\"row_heading level0 row6\" >6</th>\n",
       "                        <td id=\"T_91c995cc_cf60_11ea_bb7f_98fa9b095f1crow6_col0\" class=\"data row6 col0\" >Categorical Features </td>\n",
       "                        <td id=\"T_91c995cc_cf60_11ea_bb7f_98fa9b095f1crow6_col1\" class=\"data row6 col1\" >1</td>\n",
       "            </tr>\n",
       "            <tr>\n",
       "                        <th id=\"T_91c995cc_cf60_11ea_bb7f_98fa9b095f1clevel0_row7\" class=\"row_heading level0 row7\" >7</th>\n",
       "                        <td id=\"T_91c995cc_cf60_11ea_bb7f_98fa9b095f1crow7_col0\" class=\"data row7 col0\" >Ordinal Features </td>\n",
       "                        <td id=\"T_91c995cc_cf60_11ea_bb7f_98fa9b095f1crow7_col1\" class=\"data row7 col1\" >False</td>\n",
       "            </tr>\n",
       "            <tr>\n",
       "                        <th id=\"T_91c995cc_cf60_11ea_bb7f_98fa9b095f1clevel0_row8\" class=\"row_heading level0 row8\" >8</th>\n",
       "                        <td id=\"T_91c995cc_cf60_11ea_bb7f_98fa9b095f1crow8_col0\" class=\"data row8 col0\" >High Cardinality Features </td>\n",
       "                        <td id=\"T_91c995cc_cf60_11ea_bb7f_98fa9b095f1crow8_col1\" class=\"data row8 col1\" >False</td>\n",
       "            </tr>\n",
       "            <tr>\n",
       "                        <th id=\"T_91c995cc_cf60_11ea_bb7f_98fa9b095f1clevel0_row9\" class=\"row_heading level0 row9\" >9</th>\n",
       "                        <td id=\"T_91c995cc_cf60_11ea_bb7f_98fa9b095f1crow9_col0\" class=\"data row9 col0\" >High Cardinality Method </td>\n",
       "                        <td id=\"T_91c995cc_cf60_11ea_bb7f_98fa9b095f1crow9_col1\" class=\"data row9 col1\" >None</td>\n",
       "            </tr>\n",
       "            <tr>\n",
       "                        <th id=\"T_91c995cc_cf60_11ea_bb7f_98fa9b095f1clevel0_row10\" class=\"row_heading level0 row10\" >10</th>\n",
       "                        <td id=\"T_91c995cc_cf60_11ea_bb7f_98fa9b095f1crow10_col0\" class=\"data row10 col0\" >Sampled Data</td>\n",
       "                        <td id=\"T_91c995cc_cf60_11ea_bb7f_98fa9b095f1crow10_col1\" class=\"data row10 col1\" >(768, 9)</td>\n",
       "            </tr>\n",
       "            <tr>\n",
       "                        <th id=\"T_91c995cc_cf60_11ea_bb7f_98fa9b095f1clevel0_row11\" class=\"row_heading level0 row11\" >11</th>\n",
       "                        <td id=\"T_91c995cc_cf60_11ea_bb7f_98fa9b095f1crow11_col0\" class=\"data row11 col0\" >Transformed Train Set</td>\n",
       "                        <td id=\"T_91c995cc_cf60_11ea_bb7f_98fa9b095f1crow11_col1\" class=\"data row11 col1\" >(537, 24)</td>\n",
       "            </tr>\n",
       "            <tr>\n",
       "                        <th id=\"T_91c995cc_cf60_11ea_bb7f_98fa9b095f1clevel0_row12\" class=\"row_heading level0 row12\" >12</th>\n",
       "                        <td id=\"T_91c995cc_cf60_11ea_bb7f_98fa9b095f1crow12_col0\" class=\"data row12 col0\" >Transformed Test Set</td>\n",
       "                        <td id=\"T_91c995cc_cf60_11ea_bb7f_98fa9b095f1crow12_col1\" class=\"data row12 col1\" >(231, 24)</td>\n",
       "            </tr>\n",
       "            <tr>\n",
       "                        <th id=\"T_91c995cc_cf60_11ea_bb7f_98fa9b095f1clevel0_row13\" class=\"row_heading level0 row13\" >13</th>\n",
       "                        <td id=\"T_91c995cc_cf60_11ea_bb7f_98fa9b095f1crow13_col0\" class=\"data row13 col0\" >Numeric Imputer </td>\n",
       "                        <td id=\"T_91c995cc_cf60_11ea_bb7f_98fa9b095f1crow13_col1\" class=\"data row13 col1\" >mean</td>\n",
       "            </tr>\n",
       "            <tr>\n",
       "                        <th id=\"T_91c995cc_cf60_11ea_bb7f_98fa9b095f1clevel0_row14\" class=\"row_heading level0 row14\" >14</th>\n",
       "                        <td id=\"T_91c995cc_cf60_11ea_bb7f_98fa9b095f1crow14_col0\" class=\"data row14 col0\" >Categorical Imputer </td>\n",
       "                        <td id=\"T_91c995cc_cf60_11ea_bb7f_98fa9b095f1crow14_col1\" class=\"data row14 col1\" >constant</td>\n",
       "            </tr>\n",
       "            <tr>\n",
       "                        <th id=\"T_91c995cc_cf60_11ea_bb7f_98fa9b095f1clevel0_row15\" class=\"row_heading level0 row15\" >15</th>\n",
       "                        <td id=\"T_91c995cc_cf60_11ea_bb7f_98fa9b095f1crow15_col0\" class=\"data row15 col0\" >Normalize </td>\n",
       "                        <td id=\"T_91c995cc_cf60_11ea_bb7f_98fa9b095f1crow15_col1\" class=\"data row15 col1\" >False</td>\n",
       "            </tr>\n",
       "            <tr>\n",
       "                        <th id=\"T_91c995cc_cf60_11ea_bb7f_98fa9b095f1clevel0_row16\" class=\"row_heading level0 row16\" >16</th>\n",
       "                        <td id=\"T_91c995cc_cf60_11ea_bb7f_98fa9b095f1crow16_col0\" class=\"data row16 col0\" >Normalize Method </td>\n",
       "                        <td id=\"T_91c995cc_cf60_11ea_bb7f_98fa9b095f1crow16_col1\" class=\"data row16 col1\" >None</td>\n",
       "            </tr>\n",
       "            <tr>\n",
       "                        <th id=\"T_91c995cc_cf60_11ea_bb7f_98fa9b095f1clevel0_row17\" class=\"row_heading level0 row17\" >17</th>\n",
       "                        <td id=\"T_91c995cc_cf60_11ea_bb7f_98fa9b095f1crow17_col0\" class=\"data row17 col0\" >Transformation </td>\n",
       "                        <td id=\"T_91c995cc_cf60_11ea_bb7f_98fa9b095f1crow17_col1\" class=\"data row17 col1\" >False</td>\n",
       "            </tr>\n",
       "            <tr>\n",
       "                        <th id=\"T_91c995cc_cf60_11ea_bb7f_98fa9b095f1clevel0_row18\" class=\"row_heading level0 row18\" >18</th>\n",
       "                        <td id=\"T_91c995cc_cf60_11ea_bb7f_98fa9b095f1crow18_col0\" class=\"data row18 col0\" >Transformation Method </td>\n",
       "                        <td id=\"T_91c995cc_cf60_11ea_bb7f_98fa9b095f1crow18_col1\" class=\"data row18 col1\" >None</td>\n",
       "            </tr>\n",
       "            <tr>\n",
       "                        <th id=\"T_91c995cc_cf60_11ea_bb7f_98fa9b095f1clevel0_row19\" class=\"row_heading level0 row19\" >19</th>\n",
       "                        <td id=\"T_91c995cc_cf60_11ea_bb7f_98fa9b095f1crow19_col0\" class=\"data row19 col0\" >PCA </td>\n",
       "                        <td id=\"T_91c995cc_cf60_11ea_bb7f_98fa9b095f1crow19_col1\" class=\"data row19 col1\" >False</td>\n",
       "            </tr>\n",
       "            <tr>\n",
       "                        <th id=\"T_91c995cc_cf60_11ea_bb7f_98fa9b095f1clevel0_row20\" class=\"row_heading level0 row20\" >20</th>\n",
       "                        <td id=\"T_91c995cc_cf60_11ea_bb7f_98fa9b095f1crow20_col0\" class=\"data row20 col0\" >PCA Method </td>\n",
       "                        <td id=\"T_91c995cc_cf60_11ea_bb7f_98fa9b095f1crow20_col1\" class=\"data row20 col1\" >None</td>\n",
       "            </tr>\n",
       "            <tr>\n",
       "                        <th id=\"T_91c995cc_cf60_11ea_bb7f_98fa9b095f1clevel0_row21\" class=\"row_heading level0 row21\" >21</th>\n",
       "                        <td id=\"T_91c995cc_cf60_11ea_bb7f_98fa9b095f1crow21_col0\" class=\"data row21 col0\" >PCA Components </td>\n",
       "                        <td id=\"T_91c995cc_cf60_11ea_bb7f_98fa9b095f1crow21_col1\" class=\"data row21 col1\" >None</td>\n",
       "            </tr>\n",
       "            <tr>\n",
       "                        <th id=\"T_91c995cc_cf60_11ea_bb7f_98fa9b095f1clevel0_row22\" class=\"row_heading level0 row22\" >22</th>\n",
       "                        <td id=\"T_91c995cc_cf60_11ea_bb7f_98fa9b095f1crow22_col0\" class=\"data row22 col0\" >Ignore Low Variance </td>\n",
       "                        <td id=\"T_91c995cc_cf60_11ea_bb7f_98fa9b095f1crow22_col1\" class=\"data row22 col1\" >False</td>\n",
       "            </tr>\n",
       "            <tr>\n",
       "                        <th id=\"T_91c995cc_cf60_11ea_bb7f_98fa9b095f1clevel0_row23\" class=\"row_heading level0 row23\" >23</th>\n",
       "                        <td id=\"T_91c995cc_cf60_11ea_bb7f_98fa9b095f1crow23_col0\" class=\"data row23 col0\" >Combine Rare Levels </td>\n",
       "                        <td id=\"T_91c995cc_cf60_11ea_bb7f_98fa9b095f1crow23_col1\" class=\"data row23 col1\" >False</td>\n",
       "            </tr>\n",
       "            <tr>\n",
       "                        <th id=\"T_91c995cc_cf60_11ea_bb7f_98fa9b095f1clevel0_row24\" class=\"row_heading level0 row24\" >24</th>\n",
       "                        <td id=\"T_91c995cc_cf60_11ea_bb7f_98fa9b095f1crow24_col0\" class=\"data row24 col0\" >Rare Level Threshold </td>\n",
       "                        <td id=\"T_91c995cc_cf60_11ea_bb7f_98fa9b095f1crow24_col1\" class=\"data row24 col1\" >None</td>\n",
       "            </tr>\n",
       "            <tr>\n",
       "                        <th id=\"T_91c995cc_cf60_11ea_bb7f_98fa9b095f1clevel0_row25\" class=\"row_heading level0 row25\" >25</th>\n",
       "                        <td id=\"T_91c995cc_cf60_11ea_bb7f_98fa9b095f1crow25_col0\" class=\"data row25 col0\" >Numeric Binning </td>\n",
       "                        <td id=\"T_91c995cc_cf60_11ea_bb7f_98fa9b095f1crow25_col1\" class=\"data row25 col1\" >False</td>\n",
       "            </tr>\n",
       "            <tr>\n",
       "                        <th id=\"T_91c995cc_cf60_11ea_bb7f_98fa9b095f1clevel0_row26\" class=\"row_heading level0 row26\" >26</th>\n",
       "                        <td id=\"T_91c995cc_cf60_11ea_bb7f_98fa9b095f1crow26_col0\" class=\"data row26 col0\" >Remove Outliers </td>\n",
       "                        <td id=\"T_91c995cc_cf60_11ea_bb7f_98fa9b095f1crow26_col1\" class=\"data row26 col1\" >False</td>\n",
       "            </tr>\n",
       "            <tr>\n",
       "                        <th id=\"T_91c995cc_cf60_11ea_bb7f_98fa9b095f1clevel0_row27\" class=\"row_heading level0 row27\" >27</th>\n",
       "                        <td id=\"T_91c995cc_cf60_11ea_bb7f_98fa9b095f1crow27_col0\" class=\"data row27 col0\" >Outliers Threshold </td>\n",
       "                        <td id=\"T_91c995cc_cf60_11ea_bb7f_98fa9b095f1crow27_col1\" class=\"data row27 col1\" >None</td>\n",
       "            </tr>\n",
       "            <tr>\n",
       "                        <th id=\"T_91c995cc_cf60_11ea_bb7f_98fa9b095f1clevel0_row28\" class=\"row_heading level0 row28\" >28</th>\n",
       "                        <td id=\"T_91c995cc_cf60_11ea_bb7f_98fa9b095f1crow28_col0\" class=\"data row28 col0\" >Remove Multicollinearity </td>\n",
       "                        <td id=\"T_91c995cc_cf60_11ea_bb7f_98fa9b095f1crow28_col1\" class=\"data row28 col1\" >False</td>\n",
       "            </tr>\n",
       "            <tr>\n",
       "                        <th id=\"T_91c995cc_cf60_11ea_bb7f_98fa9b095f1clevel0_row29\" class=\"row_heading level0 row29\" >29</th>\n",
       "                        <td id=\"T_91c995cc_cf60_11ea_bb7f_98fa9b095f1crow29_col0\" class=\"data row29 col0\" >Multicollinearity Threshold </td>\n",
       "                        <td id=\"T_91c995cc_cf60_11ea_bb7f_98fa9b095f1crow29_col1\" class=\"data row29 col1\" >None</td>\n",
       "            </tr>\n",
       "            <tr>\n",
       "                        <th id=\"T_91c995cc_cf60_11ea_bb7f_98fa9b095f1clevel0_row30\" class=\"row_heading level0 row30\" >30</th>\n",
       "                        <td id=\"T_91c995cc_cf60_11ea_bb7f_98fa9b095f1crow30_col0\" class=\"data row30 col0\" >Clustering </td>\n",
       "                        <td id=\"T_91c995cc_cf60_11ea_bb7f_98fa9b095f1crow30_col1\" class=\"data row30 col1\" >False</td>\n",
       "            </tr>\n",
       "            <tr>\n",
       "                        <th id=\"T_91c995cc_cf60_11ea_bb7f_98fa9b095f1clevel0_row31\" class=\"row_heading level0 row31\" >31</th>\n",
       "                        <td id=\"T_91c995cc_cf60_11ea_bb7f_98fa9b095f1crow31_col0\" class=\"data row31 col0\" >Clustering Iteration </td>\n",
       "                        <td id=\"T_91c995cc_cf60_11ea_bb7f_98fa9b095f1crow31_col1\" class=\"data row31 col1\" >None</td>\n",
       "            </tr>\n",
       "            <tr>\n",
       "                        <th id=\"T_91c995cc_cf60_11ea_bb7f_98fa9b095f1clevel0_row32\" class=\"row_heading level0 row32\" >32</th>\n",
       "                        <td id=\"T_91c995cc_cf60_11ea_bb7f_98fa9b095f1crow32_col0\" class=\"data row32 col0\" >Polynomial Features </td>\n",
       "                        <td id=\"T_91c995cc_cf60_11ea_bb7f_98fa9b095f1crow32_col1\" class=\"data row32 col1\" >False</td>\n",
       "            </tr>\n",
       "            <tr>\n",
       "                        <th id=\"T_91c995cc_cf60_11ea_bb7f_98fa9b095f1clevel0_row33\" class=\"row_heading level0 row33\" >33</th>\n",
       "                        <td id=\"T_91c995cc_cf60_11ea_bb7f_98fa9b095f1crow33_col0\" class=\"data row33 col0\" >Polynomial Degree </td>\n",
       "                        <td id=\"T_91c995cc_cf60_11ea_bb7f_98fa9b095f1crow33_col1\" class=\"data row33 col1\" >None</td>\n",
       "            </tr>\n",
       "            <tr>\n",
       "                        <th id=\"T_91c995cc_cf60_11ea_bb7f_98fa9b095f1clevel0_row34\" class=\"row_heading level0 row34\" >34</th>\n",
       "                        <td id=\"T_91c995cc_cf60_11ea_bb7f_98fa9b095f1crow34_col0\" class=\"data row34 col0\" >Trignometry Features </td>\n",
       "                        <td id=\"T_91c995cc_cf60_11ea_bb7f_98fa9b095f1crow34_col1\" class=\"data row34 col1\" >False</td>\n",
       "            </tr>\n",
       "            <tr>\n",
       "                        <th id=\"T_91c995cc_cf60_11ea_bb7f_98fa9b095f1clevel0_row35\" class=\"row_heading level0 row35\" >35</th>\n",
       "                        <td id=\"T_91c995cc_cf60_11ea_bb7f_98fa9b095f1crow35_col0\" class=\"data row35 col0\" >Polynomial Threshold </td>\n",
       "                        <td id=\"T_91c995cc_cf60_11ea_bb7f_98fa9b095f1crow35_col1\" class=\"data row35 col1\" >None</td>\n",
       "            </tr>\n",
       "            <tr>\n",
       "                        <th id=\"T_91c995cc_cf60_11ea_bb7f_98fa9b095f1clevel0_row36\" class=\"row_heading level0 row36\" >36</th>\n",
       "                        <td id=\"T_91c995cc_cf60_11ea_bb7f_98fa9b095f1crow36_col0\" class=\"data row36 col0\" >Group Features </td>\n",
       "                        <td id=\"T_91c995cc_cf60_11ea_bb7f_98fa9b095f1crow36_col1\" class=\"data row36 col1\" >False</td>\n",
       "            </tr>\n",
       "            <tr>\n",
       "                        <th id=\"T_91c995cc_cf60_11ea_bb7f_98fa9b095f1clevel0_row37\" class=\"row_heading level0 row37\" >37</th>\n",
       "                        <td id=\"T_91c995cc_cf60_11ea_bb7f_98fa9b095f1crow37_col0\" class=\"data row37 col0\" >Feature Selection </td>\n",
       "                        <td id=\"T_91c995cc_cf60_11ea_bb7f_98fa9b095f1crow37_col1\" class=\"data row37 col1\" >False</td>\n",
       "            </tr>\n",
       "            <tr>\n",
       "                        <th id=\"T_91c995cc_cf60_11ea_bb7f_98fa9b095f1clevel0_row38\" class=\"row_heading level0 row38\" >38</th>\n",
       "                        <td id=\"T_91c995cc_cf60_11ea_bb7f_98fa9b095f1crow38_col0\" class=\"data row38 col0\" >Features Selection Threshold </td>\n",
       "                        <td id=\"T_91c995cc_cf60_11ea_bb7f_98fa9b095f1crow38_col1\" class=\"data row38 col1\" >None</td>\n",
       "            </tr>\n",
       "            <tr>\n",
       "                        <th id=\"T_91c995cc_cf60_11ea_bb7f_98fa9b095f1clevel0_row39\" class=\"row_heading level0 row39\" >39</th>\n",
       "                        <td id=\"T_91c995cc_cf60_11ea_bb7f_98fa9b095f1crow39_col0\" class=\"data row39 col0\" >Feature Interaction </td>\n",
       "                        <td id=\"T_91c995cc_cf60_11ea_bb7f_98fa9b095f1crow39_col1\" class=\"data row39 col1\" >False</td>\n",
       "            </tr>\n",
       "            <tr>\n",
       "                        <th id=\"T_91c995cc_cf60_11ea_bb7f_98fa9b095f1clevel0_row40\" class=\"row_heading level0 row40\" >40</th>\n",
       "                        <td id=\"T_91c995cc_cf60_11ea_bb7f_98fa9b095f1crow40_col0\" class=\"data row40 col0\" >Feature Ratio </td>\n",
       "                        <td id=\"T_91c995cc_cf60_11ea_bb7f_98fa9b095f1crow40_col1\" class=\"data row40 col1\" >False</td>\n",
       "            </tr>\n",
       "            <tr>\n",
       "                        <th id=\"T_91c995cc_cf60_11ea_bb7f_98fa9b095f1clevel0_row41\" class=\"row_heading level0 row41\" >41</th>\n",
       "                        <td id=\"T_91c995cc_cf60_11ea_bb7f_98fa9b095f1crow41_col0\" class=\"data row41 col0\" >Interaction Threshold </td>\n",
       "                        <td id=\"T_91c995cc_cf60_11ea_bb7f_98fa9b095f1crow41_col1\" class=\"data row41 col1\" >None</td>\n",
       "            </tr>\n",
       "    </tbody></table>"
      ],
      "text/plain": [
       "<pandas.io.formats.style.Styler at 0x1f9e85dec88>"
      ]
     },
     "metadata": {},
     "output_type": "display_data"
    }
   ],
   "source": [
    "from pycaret.classification import *\n",
    "clf=setup(data=diabetes_df,target='Class variable')"
   ]
  },
  {
   "cell_type": "code",
   "execution_count": 5,
   "metadata": {},
   "outputs": [
    {
     "data": {
      "text/html": [
       "<style  type=\"text/css\" >\n",
       "    #T_06783e50_cf61_11ea_8e20_98fa9b095f1c th {\n",
       "          text-align: left;\n",
       "    }    #T_06783e50_cf61_11ea_8e20_98fa9b095f1crow0_col0 {\n",
       "            text-align:  left;\n",
       "        }    #T_06783e50_cf61_11ea_8e20_98fa9b095f1crow0_col1 {\n",
       "            background-color:  yellow;\n",
       "            text-align:  left;\n",
       "        }    #T_06783e50_cf61_11ea_8e20_98fa9b095f1crow0_col2 {\n",
       "            : ;\n",
       "            text-align:  left;\n",
       "        }    #T_06783e50_cf61_11ea_8e20_98fa9b095f1crow0_col3 {\n",
       "            : ;\n",
       "            text-align:  left;\n",
       "        }    #T_06783e50_cf61_11ea_8e20_98fa9b095f1crow0_col4 {\n",
       "            background-color:  yellow;\n",
       "            text-align:  left;\n",
       "        }    #T_06783e50_cf61_11ea_8e20_98fa9b095f1crow0_col5 {\n",
       "            : ;\n",
       "            text-align:  left;\n",
       "        }    #T_06783e50_cf61_11ea_8e20_98fa9b095f1crow0_col6 {\n",
       "            : ;\n",
       "            text-align:  left;\n",
       "        }    #T_06783e50_cf61_11ea_8e20_98fa9b095f1crow1_col0 {\n",
       "            text-align:  left;\n",
       "        }    #T_06783e50_cf61_11ea_8e20_98fa9b095f1crow1_col1 {\n",
       "            background-color:  yellow;\n",
       "            text-align:  left;\n",
       "        }    #T_06783e50_cf61_11ea_8e20_98fa9b095f1crow1_col2 {\n",
       "            background-color:  yellow;\n",
       "            text-align:  left;\n",
       "        }    #T_06783e50_cf61_11ea_8e20_98fa9b095f1crow1_col3 {\n",
       "            : ;\n",
       "            text-align:  left;\n",
       "        }    #T_06783e50_cf61_11ea_8e20_98fa9b095f1crow1_col4 {\n",
       "            : ;\n",
       "            text-align:  left;\n",
       "        }    #T_06783e50_cf61_11ea_8e20_98fa9b095f1crow1_col5 {\n",
       "            : ;\n",
       "            text-align:  left;\n",
       "        }    #T_06783e50_cf61_11ea_8e20_98fa9b095f1crow1_col6 {\n",
       "            : ;\n",
       "            text-align:  left;\n",
       "        }    #T_06783e50_cf61_11ea_8e20_98fa9b095f1crow2_col0 {\n",
       "            text-align:  left;\n",
       "        }    #T_06783e50_cf61_11ea_8e20_98fa9b095f1crow2_col1 {\n",
       "            : ;\n",
       "            text-align:  left;\n",
       "        }    #T_06783e50_cf61_11ea_8e20_98fa9b095f1crow2_col2 {\n",
       "            : ;\n",
       "            text-align:  left;\n",
       "        }    #T_06783e50_cf61_11ea_8e20_98fa9b095f1crow2_col3 {\n",
       "            background-color:  yellow;\n",
       "            text-align:  left;\n",
       "        }    #T_06783e50_cf61_11ea_8e20_98fa9b095f1crow2_col4 {\n",
       "            : ;\n",
       "            text-align:  left;\n",
       "        }    #T_06783e50_cf61_11ea_8e20_98fa9b095f1crow2_col5 {\n",
       "            background-color:  yellow;\n",
       "            text-align:  left;\n",
       "        }    #T_06783e50_cf61_11ea_8e20_98fa9b095f1crow2_col6 {\n",
       "            background-color:  yellow;\n",
       "            text-align:  left;\n",
       "        }    #T_06783e50_cf61_11ea_8e20_98fa9b095f1crow3_col0 {\n",
       "            text-align:  left;\n",
       "        }    #T_06783e50_cf61_11ea_8e20_98fa9b095f1crow3_col1 {\n",
       "            : ;\n",
       "            text-align:  left;\n",
       "        }    #T_06783e50_cf61_11ea_8e20_98fa9b095f1crow3_col2 {\n",
       "            : ;\n",
       "            text-align:  left;\n",
       "        }    #T_06783e50_cf61_11ea_8e20_98fa9b095f1crow3_col3 {\n",
       "            : ;\n",
       "            text-align:  left;\n",
       "        }    #T_06783e50_cf61_11ea_8e20_98fa9b095f1crow3_col4 {\n",
       "            : ;\n",
       "            text-align:  left;\n",
       "        }    #T_06783e50_cf61_11ea_8e20_98fa9b095f1crow3_col5 {\n",
       "            : ;\n",
       "            text-align:  left;\n",
       "        }    #T_06783e50_cf61_11ea_8e20_98fa9b095f1crow3_col6 {\n",
       "            : ;\n",
       "            text-align:  left;\n",
       "        }    #T_06783e50_cf61_11ea_8e20_98fa9b095f1crow4_col0 {\n",
       "            text-align:  left;\n",
       "        }    #T_06783e50_cf61_11ea_8e20_98fa9b095f1crow4_col1 {\n",
       "            : ;\n",
       "            text-align:  left;\n",
       "        }    #T_06783e50_cf61_11ea_8e20_98fa9b095f1crow4_col2 {\n",
       "            : ;\n",
       "            text-align:  left;\n",
       "        }    #T_06783e50_cf61_11ea_8e20_98fa9b095f1crow4_col3 {\n",
       "            : ;\n",
       "            text-align:  left;\n",
       "        }    #T_06783e50_cf61_11ea_8e20_98fa9b095f1crow4_col4 {\n",
       "            : ;\n",
       "            text-align:  left;\n",
       "        }    #T_06783e50_cf61_11ea_8e20_98fa9b095f1crow4_col5 {\n",
       "            : ;\n",
       "            text-align:  left;\n",
       "        }    #T_06783e50_cf61_11ea_8e20_98fa9b095f1crow4_col6 {\n",
       "            : ;\n",
       "            text-align:  left;\n",
       "        }    #T_06783e50_cf61_11ea_8e20_98fa9b095f1crow5_col0 {\n",
       "            text-align:  left;\n",
       "        }    #T_06783e50_cf61_11ea_8e20_98fa9b095f1crow5_col1 {\n",
       "            : ;\n",
       "            text-align:  left;\n",
       "        }    #T_06783e50_cf61_11ea_8e20_98fa9b095f1crow5_col2 {\n",
       "            : ;\n",
       "            text-align:  left;\n",
       "        }    #T_06783e50_cf61_11ea_8e20_98fa9b095f1crow5_col3 {\n",
       "            : ;\n",
       "            text-align:  left;\n",
       "        }    #T_06783e50_cf61_11ea_8e20_98fa9b095f1crow5_col4 {\n",
       "            : ;\n",
       "            text-align:  left;\n",
       "        }    #T_06783e50_cf61_11ea_8e20_98fa9b095f1crow5_col5 {\n",
       "            : ;\n",
       "            text-align:  left;\n",
       "        }    #T_06783e50_cf61_11ea_8e20_98fa9b095f1crow5_col6 {\n",
       "            : ;\n",
       "            text-align:  left;\n",
       "        }    #T_06783e50_cf61_11ea_8e20_98fa9b095f1crow6_col0 {\n",
       "            text-align:  left;\n",
       "        }    #T_06783e50_cf61_11ea_8e20_98fa9b095f1crow6_col1 {\n",
       "            : ;\n",
       "            text-align:  left;\n",
       "        }    #T_06783e50_cf61_11ea_8e20_98fa9b095f1crow6_col2 {\n",
       "            : ;\n",
       "            text-align:  left;\n",
       "        }    #T_06783e50_cf61_11ea_8e20_98fa9b095f1crow6_col3 {\n",
       "            : ;\n",
       "            text-align:  left;\n",
       "        }    #T_06783e50_cf61_11ea_8e20_98fa9b095f1crow6_col4 {\n",
       "            : ;\n",
       "            text-align:  left;\n",
       "        }    #T_06783e50_cf61_11ea_8e20_98fa9b095f1crow6_col5 {\n",
       "            : ;\n",
       "            text-align:  left;\n",
       "        }    #T_06783e50_cf61_11ea_8e20_98fa9b095f1crow6_col6 {\n",
       "            : ;\n",
       "            text-align:  left;\n",
       "        }    #T_06783e50_cf61_11ea_8e20_98fa9b095f1crow7_col0 {\n",
       "            text-align:  left;\n",
       "        }    #T_06783e50_cf61_11ea_8e20_98fa9b095f1crow7_col1 {\n",
       "            : ;\n",
       "            text-align:  left;\n",
       "        }    #T_06783e50_cf61_11ea_8e20_98fa9b095f1crow7_col2 {\n",
       "            : ;\n",
       "            text-align:  left;\n",
       "        }    #T_06783e50_cf61_11ea_8e20_98fa9b095f1crow7_col3 {\n",
       "            : ;\n",
       "            text-align:  left;\n",
       "        }    #T_06783e50_cf61_11ea_8e20_98fa9b095f1crow7_col4 {\n",
       "            : ;\n",
       "            text-align:  left;\n",
       "        }    #T_06783e50_cf61_11ea_8e20_98fa9b095f1crow7_col5 {\n",
       "            : ;\n",
       "            text-align:  left;\n",
       "        }    #T_06783e50_cf61_11ea_8e20_98fa9b095f1crow7_col6 {\n",
       "            : ;\n",
       "            text-align:  left;\n",
       "        }    #T_06783e50_cf61_11ea_8e20_98fa9b095f1crow8_col0 {\n",
       "            text-align:  left;\n",
       "        }    #T_06783e50_cf61_11ea_8e20_98fa9b095f1crow8_col1 {\n",
       "            : ;\n",
       "            text-align:  left;\n",
       "        }    #T_06783e50_cf61_11ea_8e20_98fa9b095f1crow8_col2 {\n",
       "            : ;\n",
       "            text-align:  left;\n",
       "        }    #T_06783e50_cf61_11ea_8e20_98fa9b095f1crow8_col3 {\n",
       "            : ;\n",
       "            text-align:  left;\n",
       "        }    #T_06783e50_cf61_11ea_8e20_98fa9b095f1crow8_col4 {\n",
       "            : ;\n",
       "            text-align:  left;\n",
       "        }    #T_06783e50_cf61_11ea_8e20_98fa9b095f1crow8_col5 {\n",
       "            : ;\n",
       "            text-align:  left;\n",
       "        }    #T_06783e50_cf61_11ea_8e20_98fa9b095f1crow8_col6 {\n",
       "            : ;\n",
       "            text-align:  left;\n",
       "        }    #T_06783e50_cf61_11ea_8e20_98fa9b095f1crow9_col0 {\n",
       "            text-align:  left;\n",
       "        }    #T_06783e50_cf61_11ea_8e20_98fa9b095f1crow9_col1 {\n",
       "            : ;\n",
       "            text-align:  left;\n",
       "        }    #T_06783e50_cf61_11ea_8e20_98fa9b095f1crow9_col2 {\n",
       "            : ;\n",
       "            text-align:  left;\n",
       "        }    #T_06783e50_cf61_11ea_8e20_98fa9b095f1crow9_col3 {\n",
       "            : ;\n",
       "            text-align:  left;\n",
       "        }    #T_06783e50_cf61_11ea_8e20_98fa9b095f1crow9_col4 {\n",
       "            : ;\n",
       "            text-align:  left;\n",
       "        }    #T_06783e50_cf61_11ea_8e20_98fa9b095f1crow9_col5 {\n",
       "            : ;\n",
       "            text-align:  left;\n",
       "        }    #T_06783e50_cf61_11ea_8e20_98fa9b095f1crow9_col6 {\n",
       "            : ;\n",
       "            text-align:  left;\n",
       "        }    #T_06783e50_cf61_11ea_8e20_98fa9b095f1crow10_col0 {\n",
       "            text-align:  left;\n",
       "        }    #T_06783e50_cf61_11ea_8e20_98fa9b095f1crow10_col1 {\n",
       "            : ;\n",
       "            text-align:  left;\n",
       "        }    #T_06783e50_cf61_11ea_8e20_98fa9b095f1crow10_col2 {\n",
       "            : ;\n",
       "            text-align:  left;\n",
       "        }    #T_06783e50_cf61_11ea_8e20_98fa9b095f1crow10_col3 {\n",
       "            : ;\n",
       "            text-align:  left;\n",
       "        }    #T_06783e50_cf61_11ea_8e20_98fa9b095f1crow10_col4 {\n",
       "            : ;\n",
       "            text-align:  left;\n",
       "        }    #T_06783e50_cf61_11ea_8e20_98fa9b095f1crow10_col5 {\n",
       "            : ;\n",
       "            text-align:  left;\n",
       "        }    #T_06783e50_cf61_11ea_8e20_98fa9b095f1crow10_col6 {\n",
       "            : ;\n",
       "            text-align:  left;\n",
       "        }    #T_06783e50_cf61_11ea_8e20_98fa9b095f1crow11_col0 {\n",
       "            text-align:  left;\n",
       "        }    #T_06783e50_cf61_11ea_8e20_98fa9b095f1crow11_col1 {\n",
       "            : ;\n",
       "            text-align:  left;\n",
       "        }    #T_06783e50_cf61_11ea_8e20_98fa9b095f1crow11_col2 {\n",
       "            : ;\n",
       "            text-align:  left;\n",
       "        }    #T_06783e50_cf61_11ea_8e20_98fa9b095f1crow11_col3 {\n",
       "            : ;\n",
       "            text-align:  left;\n",
       "        }    #T_06783e50_cf61_11ea_8e20_98fa9b095f1crow11_col4 {\n",
       "            : ;\n",
       "            text-align:  left;\n",
       "        }    #T_06783e50_cf61_11ea_8e20_98fa9b095f1crow11_col5 {\n",
       "            : ;\n",
       "            text-align:  left;\n",
       "        }    #T_06783e50_cf61_11ea_8e20_98fa9b095f1crow11_col6 {\n",
       "            : ;\n",
       "            text-align:  left;\n",
       "        }    #T_06783e50_cf61_11ea_8e20_98fa9b095f1crow12_col0 {\n",
       "            text-align:  left;\n",
       "        }    #T_06783e50_cf61_11ea_8e20_98fa9b095f1crow12_col1 {\n",
       "            : ;\n",
       "            text-align:  left;\n",
       "        }    #T_06783e50_cf61_11ea_8e20_98fa9b095f1crow12_col2 {\n",
       "            : ;\n",
       "            text-align:  left;\n",
       "        }    #T_06783e50_cf61_11ea_8e20_98fa9b095f1crow12_col3 {\n",
       "            : ;\n",
       "            text-align:  left;\n",
       "        }    #T_06783e50_cf61_11ea_8e20_98fa9b095f1crow12_col4 {\n",
       "            : ;\n",
       "            text-align:  left;\n",
       "        }    #T_06783e50_cf61_11ea_8e20_98fa9b095f1crow12_col5 {\n",
       "            : ;\n",
       "            text-align:  left;\n",
       "        }    #T_06783e50_cf61_11ea_8e20_98fa9b095f1crow12_col6 {\n",
       "            : ;\n",
       "            text-align:  left;\n",
       "        }    #T_06783e50_cf61_11ea_8e20_98fa9b095f1crow13_col0 {\n",
       "            text-align:  left;\n",
       "        }    #T_06783e50_cf61_11ea_8e20_98fa9b095f1crow13_col1 {\n",
       "            : ;\n",
       "            text-align:  left;\n",
       "        }    #T_06783e50_cf61_11ea_8e20_98fa9b095f1crow13_col2 {\n",
       "            : ;\n",
       "            text-align:  left;\n",
       "        }    #T_06783e50_cf61_11ea_8e20_98fa9b095f1crow13_col3 {\n",
       "            : ;\n",
       "            text-align:  left;\n",
       "        }    #T_06783e50_cf61_11ea_8e20_98fa9b095f1crow13_col4 {\n",
       "            : ;\n",
       "            text-align:  left;\n",
       "        }    #T_06783e50_cf61_11ea_8e20_98fa9b095f1crow13_col5 {\n",
       "            : ;\n",
       "            text-align:  left;\n",
       "        }    #T_06783e50_cf61_11ea_8e20_98fa9b095f1crow13_col6 {\n",
       "            : ;\n",
       "            text-align:  left;\n",
       "        }    #T_06783e50_cf61_11ea_8e20_98fa9b095f1crow14_col0 {\n",
       "            text-align:  left;\n",
       "        }    #T_06783e50_cf61_11ea_8e20_98fa9b095f1crow14_col1 {\n",
       "            : ;\n",
       "            text-align:  left;\n",
       "        }    #T_06783e50_cf61_11ea_8e20_98fa9b095f1crow14_col2 {\n",
       "            : ;\n",
       "            text-align:  left;\n",
       "        }    #T_06783e50_cf61_11ea_8e20_98fa9b095f1crow14_col3 {\n",
       "            : ;\n",
       "            text-align:  left;\n",
       "        }    #T_06783e50_cf61_11ea_8e20_98fa9b095f1crow14_col4 {\n",
       "            : ;\n",
       "            text-align:  left;\n",
       "        }    #T_06783e50_cf61_11ea_8e20_98fa9b095f1crow14_col5 {\n",
       "            : ;\n",
       "            text-align:  left;\n",
       "        }    #T_06783e50_cf61_11ea_8e20_98fa9b095f1crow14_col6 {\n",
       "            : ;\n",
       "            text-align:  left;\n",
       "        }</style><table id=\"T_06783e50_cf61_11ea_8e20_98fa9b095f1c\" ><thead>    <tr>        <th class=\"blank level0\" ></th>        <th class=\"col_heading level0 col0\" >Model</th>        <th class=\"col_heading level0 col1\" >Accuracy</th>        <th class=\"col_heading level0 col2\" >AUC</th>        <th class=\"col_heading level0 col3\" >Recall</th>        <th class=\"col_heading level0 col4\" >Prec.</th>        <th class=\"col_heading level0 col5\" >F1</th>        <th class=\"col_heading level0 col6\" >Kappa</th>    </tr></thead><tbody>\n",
       "                <tr>\n",
       "                        <th id=\"T_06783e50_cf61_11ea_8e20_98fa9b095f1clevel0_row0\" class=\"row_heading level0 row0\" >0</th>\n",
       "                        <td id=\"T_06783e50_cf61_11ea_8e20_98fa9b095f1crow0_col0\" class=\"data row0 col0\" >Ridge Classifier</td>\n",
       "                        <td id=\"T_06783e50_cf61_11ea_8e20_98fa9b095f1crow0_col1\" class=\"data row0 col1\" >0.778300</td>\n",
       "                        <td id=\"T_06783e50_cf61_11ea_8e20_98fa9b095f1crow0_col2\" class=\"data row0 col2\" >0.000000</td>\n",
       "                        <td id=\"T_06783e50_cf61_11ea_8e20_98fa9b095f1crow0_col3\" class=\"data row0 col3\" >0.577500</td>\n",
       "                        <td id=\"T_06783e50_cf61_11ea_8e20_98fa9b095f1crow0_col4\" class=\"data row0 col4\" >0.728900</td>\n",
       "                        <td id=\"T_06783e50_cf61_11ea_8e20_98fa9b095f1crow0_col5\" class=\"data row0 col5\" >0.639500</td>\n",
       "                        <td id=\"T_06783e50_cf61_11ea_8e20_98fa9b095f1crow0_col6\" class=\"data row0 col6\" >0.484200</td>\n",
       "            </tr>\n",
       "            <tr>\n",
       "                        <th id=\"T_06783e50_cf61_11ea_8e20_98fa9b095f1clevel0_row1\" class=\"row_heading level0 row1\" >1</th>\n",
       "                        <td id=\"T_06783e50_cf61_11ea_8e20_98fa9b095f1crow1_col0\" class=\"data row1 col0\" >Linear Discriminant Analysis</td>\n",
       "                        <td id=\"T_06783e50_cf61_11ea_8e20_98fa9b095f1crow1_col1\" class=\"data row1 col1\" >0.778300</td>\n",
       "                        <td id=\"T_06783e50_cf61_11ea_8e20_98fa9b095f1crow1_col2\" class=\"data row1 col2\" >0.836000</td>\n",
       "                        <td id=\"T_06783e50_cf61_11ea_8e20_98fa9b095f1crow1_col3\" class=\"data row1 col3\" >0.582700</td>\n",
       "                        <td id=\"T_06783e50_cf61_11ea_8e20_98fa9b095f1crow1_col4\" class=\"data row1 col4\" >0.727400</td>\n",
       "                        <td id=\"T_06783e50_cf61_11ea_8e20_98fa9b095f1crow1_col5\" class=\"data row1 col5\" >0.640700</td>\n",
       "                        <td id=\"T_06783e50_cf61_11ea_8e20_98fa9b095f1crow1_col6\" class=\"data row1 col6\" >0.485100</td>\n",
       "            </tr>\n",
       "            <tr>\n",
       "                        <th id=\"T_06783e50_cf61_11ea_8e20_98fa9b095f1clevel0_row2\" class=\"row_heading level0 row2\" >2</th>\n",
       "                        <td id=\"T_06783e50_cf61_11ea_8e20_98fa9b095f1crow2_col0\" class=\"data row2 col0\" >Logistic Regression</td>\n",
       "                        <td id=\"T_06783e50_cf61_11ea_8e20_98fa9b095f1crow2_col1\" class=\"data row2 col1\" >0.774500</td>\n",
       "                        <td id=\"T_06783e50_cf61_11ea_8e20_98fa9b095f1crow2_col2\" class=\"data row2 col2\" >0.817700</td>\n",
       "                        <td id=\"T_06783e50_cf61_11ea_8e20_98fa9b095f1crow2_col3\" class=\"data row2 col3\" >0.609600</td>\n",
       "                        <td id=\"T_06783e50_cf61_11ea_8e20_98fa9b095f1crow2_col4\" class=\"data row2 col4\" >0.710900</td>\n",
       "                        <td id=\"T_06783e50_cf61_11ea_8e20_98fa9b095f1crow2_col5\" class=\"data row2 col5\" >0.649000</td>\n",
       "                        <td id=\"T_06783e50_cf61_11ea_8e20_98fa9b095f1crow2_col6\" class=\"data row2 col6\" >0.485900</td>\n",
       "            </tr>\n",
       "            <tr>\n",
       "                        <th id=\"T_06783e50_cf61_11ea_8e20_98fa9b095f1clevel0_row3\" class=\"row_heading level0 row3\" >3</th>\n",
       "                        <td id=\"T_06783e50_cf61_11ea_8e20_98fa9b095f1crow3_col0\" class=\"data row3 col0\" >Extra Trees Classifier</td>\n",
       "                        <td id=\"T_06783e50_cf61_11ea_8e20_98fa9b095f1crow3_col1\" class=\"data row3 col1\" >0.763400</td>\n",
       "                        <td id=\"T_06783e50_cf61_11ea_8e20_98fa9b095f1crow3_col2\" class=\"data row3 col2\" >0.808500</td>\n",
       "                        <td id=\"T_06783e50_cf61_11ea_8e20_98fa9b095f1crow3_col3\" class=\"data row3 col3\" >0.555800</td>\n",
       "                        <td id=\"T_06783e50_cf61_11ea_8e20_98fa9b095f1crow3_col4\" class=\"data row3 col4\" >0.700700</td>\n",
       "                        <td id=\"T_06783e50_cf61_11ea_8e20_98fa9b095f1crow3_col5\" class=\"data row3 col5\" >0.611200</td>\n",
       "                        <td id=\"T_06783e50_cf61_11ea_8e20_98fa9b095f1crow3_col6\" class=\"data row3 col6\" >0.447800</td>\n",
       "            </tr>\n",
       "            <tr>\n",
       "                        <th id=\"T_06783e50_cf61_11ea_8e20_98fa9b095f1clevel0_row4\" class=\"row_heading level0 row4\" >4</th>\n",
       "                        <td id=\"T_06783e50_cf61_11ea_8e20_98fa9b095f1crow4_col0\" class=\"data row4 col0\" >Ada Boost Classifier</td>\n",
       "                        <td id=\"T_06783e50_cf61_11ea_8e20_98fa9b095f1crow4_col1\" class=\"data row4 col1\" >0.761400</td>\n",
       "                        <td id=\"T_06783e50_cf61_11ea_8e20_98fa9b095f1crow4_col2\" class=\"data row4 col2\" >0.818200</td>\n",
       "                        <td id=\"T_06783e50_cf61_11ea_8e20_98fa9b095f1crow4_col3\" class=\"data row4 col3\" >0.609100</td>\n",
       "                        <td id=\"T_06783e50_cf61_11ea_8e20_98fa9b095f1crow4_col4\" class=\"data row4 col4\" >0.683200</td>\n",
       "                        <td id=\"T_06783e50_cf61_11ea_8e20_98fa9b095f1crow4_col5\" class=\"data row4 col5\" >0.633800</td>\n",
       "                        <td id=\"T_06783e50_cf61_11ea_8e20_98fa9b095f1crow4_col6\" class=\"data row4 col6\" >0.459900</td>\n",
       "            </tr>\n",
       "            <tr>\n",
       "                        <th id=\"T_06783e50_cf61_11ea_8e20_98fa9b095f1clevel0_row5\" class=\"row_heading level0 row5\" >5</th>\n",
       "                        <td id=\"T_06783e50_cf61_11ea_8e20_98fa9b095f1crow5_col0\" class=\"data row5 col0\" >CatBoost Classifier</td>\n",
       "                        <td id=\"T_06783e50_cf61_11ea_8e20_98fa9b095f1crow5_col1\" class=\"data row5 col1\" >0.750300</td>\n",
       "                        <td id=\"T_06783e50_cf61_11ea_8e20_98fa9b095f1crow5_col2\" class=\"data row5 col2\" >0.820500</td>\n",
       "                        <td id=\"T_06783e50_cf61_11ea_8e20_98fa9b095f1crow5_col3\" class=\"data row5 col3\" >0.577200</td>\n",
       "                        <td id=\"T_06783e50_cf61_11ea_8e20_98fa9b095f1crow5_col4\" class=\"data row5 col4\" >0.665300</td>\n",
       "                        <td id=\"T_06783e50_cf61_11ea_8e20_98fa9b095f1crow5_col5\" class=\"data row5 col5\" >0.615300</td>\n",
       "                        <td id=\"T_06783e50_cf61_11ea_8e20_98fa9b095f1crow5_col6\" class=\"data row5 col6\" >0.432600</td>\n",
       "            </tr>\n",
       "            <tr>\n",
       "                        <th id=\"T_06783e50_cf61_11ea_8e20_98fa9b095f1clevel0_row6\" class=\"row_heading level0 row6\" >6</th>\n",
       "                        <td id=\"T_06783e50_cf61_11ea_8e20_98fa9b095f1crow6_col0\" class=\"data row6 col0\" >K Neighbors Classifier</td>\n",
       "                        <td id=\"T_06783e50_cf61_11ea_8e20_98fa9b095f1crow6_col1\" class=\"data row6 col1\" >0.750200</td>\n",
       "                        <td id=\"T_06783e50_cf61_11ea_8e20_98fa9b095f1crow6_col2\" class=\"data row6 col2\" >0.778300</td>\n",
       "                        <td id=\"T_06783e50_cf61_11ea_8e20_98fa9b095f1crow6_col3\" class=\"data row6 col3\" >0.608800</td>\n",
       "                        <td id=\"T_06783e50_cf61_11ea_8e20_98fa9b095f1crow6_col4\" class=\"data row6 col4\" >0.664400</td>\n",
       "                        <td id=\"T_06783e50_cf61_11ea_8e20_98fa9b095f1crow6_col5\" class=\"data row6 col5\" >0.627300</td>\n",
       "                        <td id=\"T_06783e50_cf61_11ea_8e20_98fa9b095f1crow6_col6\" class=\"data row6 col6\" >0.441300</td>\n",
       "            </tr>\n",
       "            <tr>\n",
       "                        <th id=\"T_06783e50_cf61_11ea_8e20_98fa9b095f1clevel0_row7\" class=\"row_heading level0 row7\" >7</th>\n",
       "                        <td id=\"T_06783e50_cf61_11ea_8e20_98fa9b095f1crow7_col0\" class=\"data row7 col0\" >Extreme Gradient Boosting</td>\n",
       "                        <td id=\"T_06783e50_cf61_11ea_8e20_98fa9b095f1crow7_col1\" class=\"data row7 col1\" >0.746600</td>\n",
       "                        <td id=\"T_06783e50_cf61_11ea_8e20_98fa9b095f1crow7_col2\" class=\"data row7 col2\" >0.820900</td>\n",
       "                        <td id=\"T_06783e50_cf61_11ea_8e20_98fa9b095f1crow7_col3\" class=\"data row7 col3\" >0.604400</td>\n",
       "                        <td id=\"T_06783e50_cf61_11ea_8e20_98fa9b095f1crow7_col4\" class=\"data row7 col4\" >0.660100</td>\n",
       "                        <td id=\"T_06783e50_cf61_11ea_8e20_98fa9b095f1crow7_col5\" class=\"data row7 col5\" >0.621100</td>\n",
       "                        <td id=\"T_06783e50_cf61_11ea_8e20_98fa9b095f1crow7_col6\" class=\"data row7 col6\" >0.433400</td>\n",
       "            </tr>\n",
       "            <tr>\n",
       "                        <th id=\"T_06783e50_cf61_11ea_8e20_98fa9b095f1clevel0_row8\" class=\"row_heading level0 row8\" >8</th>\n",
       "                        <td id=\"T_06783e50_cf61_11ea_8e20_98fa9b095f1crow8_col0\" class=\"data row8 col0\" >Random Forest Classifier</td>\n",
       "                        <td id=\"T_06783e50_cf61_11ea_8e20_98fa9b095f1crow8_col1\" class=\"data row8 col1\" >0.735500</td>\n",
       "                        <td id=\"T_06783e50_cf61_11ea_8e20_98fa9b095f1crow8_col2\" class=\"data row8 col2\" >0.771500</td>\n",
       "                        <td id=\"T_06783e50_cf61_11ea_8e20_98fa9b095f1crow8_col3\" class=\"data row8 col3\" >0.502600</td>\n",
       "                        <td id=\"T_06783e50_cf61_11ea_8e20_98fa9b095f1crow8_col4\" class=\"data row8 col4\" >0.691100</td>\n",
       "                        <td id=\"T_06783e50_cf61_11ea_8e20_98fa9b095f1crow8_col5\" class=\"data row8 col5\" >0.566600</td>\n",
       "                        <td id=\"T_06783e50_cf61_11ea_8e20_98fa9b095f1crow8_col6\" class=\"data row8 col6\" >0.384600</td>\n",
       "            </tr>\n",
       "            <tr>\n",
       "                        <th id=\"T_06783e50_cf61_11ea_8e20_98fa9b095f1clevel0_row9\" class=\"row_heading level0 row9\" >9</th>\n",
       "                        <td id=\"T_06783e50_cf61_11ea_8e20_98fa9b095f1crow9_col0\" class=\"data row9 col0\" >Gradient Boosting Classifier</td>\n",
       "                        <td id=\"T_06783e50_cf61_11ea_8e20_98fa9b095f1crow9_col1\" class=\"data row9 col1\" >0.729800</td>\n",
       "                        <td id=\"T_06783e50_cf61_11ea_8e20_98fa9b095f1crow9_col2\" class=\"data row9 col2\" >0.819200</td>\n",
       "                        <td id=\"T_06783e50_cf61_11ea_8e20_98fa9b095f1crow9_col3\" class=\"data row9 col3\" >0.598500</td>\n",
       "                        <td id=\"T_06783e50_cf61_11ea_8e20_98fa9b095f1crow9_col4\" class=\"data row9 col4\" >0.631000</td>\n",
       "                        <td id=\"T_06783e50_cf61_11ea_8e20_98fa9b095f1crow9_col5\" class=\"data row9 col5\" >0.605800</td>\n",
       "                        <td id=\"T_06783e50_cf61_11ea_8e20_98fa9b095f1crow9_col6\" class=\"data row9 col6\" >0.402100</td>\n",
       "            </tr>\n",
       "            <tr>\n",
       "                        <th id=\"T_06783e50_cf61_11ea_8e20_98fa9b095f1clevel0_row10\" class=\"row_heading level0 row10\" >10</th>\n",
       "                        <td id=\"T_06783e50_cf61_11ea_8e20_98fa9b095f1crow10_col0\" class=\"data row10 col0\" >Light Gradient Boosting Machine</td>\n",
       "                        <td id=\"T_06783e50_cf61_11ea_8e20_98fa9b095f1crow10_col1\" class=\"data row10 col1\" >0.718700</td>\n",
       "                        <td id=\"T_06783e50_cf61_11ea_8e20_98fa9b095f1crow10_col2\" class=\"data row10 col2\" >0.788500</td>\n",
       "                        <td id=\"T_06783e50_cf61_11ea_8e20_98fa9b095f1crow10_col3\" class=\"data row10 col3\" >0.577800</td>\n",
       "                        <td id=\"T_06783e50_cf61_11ea_8e20_98fa9b095f1crow10_col4\" class=\"data row10 col4\" >0.610200</td>\n",
       "                        <td id=\"T_06783e50_cf61_11ea_8e20_98fa9b095f1crow10_col5\" class=\"data row10 col5\" >0.586900</td>\n",
       "                        <td id=\"T_06783e50_cf61_11ea_8e20_98fa9b095f1crow10_col6\" class=\"data row10 col6\" >0.375400</td>\n",
       "            </tr>\n",
       "            <tr>\n",
       "                        <th id=\"T_06783e50_cf61_11ea_8e20_98fa9b095f1clevel0_row11\" class=\"row_heading level0 row11\" >11</th>\n",
       "                        <td id=\"T_06783e50_cf61_11ea_8e20_98fa9b095f1crow11_col0\" class=\"data row11 col0\" >Decision Tree Classifier</td>\n",
       "                        <td id=\"T_06783e50_cf61_11ea_8e20_98fa9b095f1crow11_col1\" class=\"data row11 col1\" >0.709500</td>\n",
       "                        <td id=\"T_06783e50_cf61_11ea_8e20_98fa9b095f1crow11_col2\" class=\"data row11 col2\" >0.685200</td>\n",
       "                        <td id=\"T_06783e50_cf61_11ea_8e20_98fa9b095f1crow11_col3\" class=\"data row11 col3\" >0.604700</td>\n",
       "                        <td id=\"T_06783e50_cf61_11ea_8e20_98fa9b095f1crow11_col4\" class=\"data row11 col4\" >0.583100</td>\n",
       "                        <td id=\"T_06783e50_cf61_11ea_8e20_98fa9b095f1crow11_col5\" class=\"data row11 col5\" >0.587400</td>\n",
       "                        <td id=\"T_06783e50_cf61_11ea_8e20_98fa9b095f1crow11_col6\" class=\"data row11 col6\" >0.365200</td>\n",
       "            </tr>\n",
       "            <tr>\n",
       "                        <th id=\"T_06783e50_cf61_11ea_8e20_98fa9b095f1clevel0_row12\" class=\"row_heading level0 row12\" >12</th>\n",
       "                        <td id=\"T_06783e50_cf61_11ea_8e20_98fa9b095f1crow12_col0\" class=\"data row12 col0\" >Naive Bayes</td>\n",
       "                        <td id=\"T_06783e50_cf61_11ea_8e20_98fa9b095f1crow12_col1\" class=\"data row12 col1\" >0.696400</td>\n",
       "                        <td id=\"T_06783e50_cf61_11ea_8e20_98fa9b095f1crow12_col2\" class=\"data row12 col2\" >0.750300</td>\n",
       "                        <td id=\"T_06783e50_cf61_11ea_8e20_98fa9b095f1crow12_col3\" class=\"data row12 col3\" >0.363500</td>\n",
       "                        <td id=\"T_06783e50_cf61_11ea_8e20_98fa9b095f1crow12_col4\" class=\"data row12 col4\" >0.597600</td>\n",
       "                        <td id=\"T_06783e50_cf61_11ea_8e20_98fa9b095f1crow12_col5\" class=\"data row12 col5\" >0.435600</td>\n",
       "                        <td id=\"T_06783e50_cf61_11ea_8e20_98fa9b095f1crow12_col6\" class=\"data row12 col6\" >0.255600</td>\n",
       "            </tr>\n",
       "            <tr>\n",
       "                        <th id=\"T_06783e50_cf61_11ea_8e20_98fa9b095f1clevel0_row13\" class=\"row_heading level0 row13\" >13</th>\n",
       "                        <td id=\"T_06783e50_cf61_11ea_8e20_98fa9b095f1crow13_col0\" class=\"data row13 col0\" >Quadratic Discriminant Analysis</td>\n",
       "                        <td id=\"T_06783e50_cf61_11ea_8e20_98fa9b095f1crow13_col1\" class=\"data row13 col1\" >0.629200</td>\n",
       "                        <td id=\"T_06783e50_cf61_11ea_8e20_98fa9b095f1crow13_col2\" class=\"data row13 col2\" >0.593600</td>\n",
       "                        <td id=\"T_06783e50_cf61_11ea_8e20_98fa9b095f1crow13_col3\" class=\"data row13 col3\" >0.400300</td>\n",
       "                        <td id=\"T_06783e50_cf61_11ea_8e20_98fa9b095f1crow13_col4\" class=\"data row13 col4\" >0.478800</td>\n",
       "                        <td id=\"T_06783e50_cf61_11ea_8e20_98fa9b095f1crow13_col5\" class=\"data row13 col5\" >0.423200</td>\n",
       "                        <td id=\"T_06783e50_cf61_11ea_8e20_98fa9b095f1crow13_col6\" class=\"data row13 col6\" >0.158000</td>\n",
       "            </tr>\n",
       "            <tr>\n",
       "                        <th id=\"T_06783e50_cf61_11ea_8e20_98fa9b095f1clevel0_row14\" class=\"row_heading level0 row14\" >14</th>\n",
       "                        <td id=\"T_06783e50_cf61_11ea_8e20_98fa9b095f1crow14_col0\" class=\"data row14 col0\" >SVM - Linear Kernel</td>\n",
       "                        <td id=\"T_06783e50_cf61_11ea_8e20_98fa9b095f1crow14_col1\" class=\"data row14 col1\" >0.564800</td>\n",
       "                        <td id=\"T_06783e50_cf61_11ea_8e20_98fa9b095f1crow14_col2\" class=\"data row14 col2\" >0.000000</td>\n",
       "                        <td id=\"T_06783e50_cf61_11ea_8e20_98fa9b095f1crow14_col3\" class=\"data row14 col3\" >0.401500</td>\n",
       "                        <td id=\"T_06783e50_cf61_11ea_8e20_98fa9b095f1crow14_col4\" class=\"data row14 col4\" >0.491800</td>\n",
       "                        <td id=\"T_06783e50_cf61_11ea_8e20_98fa9b095f1crow14_col5\" class=\"data row14 col5\" >0.303000</td>\n",
       "                        <td id=\"T_06783e50_cf61_11ea_8e20_98fa9b095f1crow14_col6\" class=\"data row14 col6\" >0.057900</td>\n",
       "            </tr>\n",
       "    </tbody></table>"
      ],
      "text/plain": [
       "<pandas.io.formats.style.Styler at 0x1f9eadc4fd0>"
      ]
     },
     "execution_count": 5,
     "metadata": {},
     "output_type": "execute_result"
    }
   ],
   "source": [
    "compare_models()"
   ]
  },
  {
   "cell_type": "markdown",
   "metadata": {},
   "source": [
    "# Regression"
   ]
  },
  {
   "cell_type": "code",
   "execution_count": 7,
   "metadata": {
    "scrolled": true
   },
   "outputs": [
    {
     "data": {
      "text/html": [
       "<div>\n",
       "<style scoped>\n",
       "    .dataframe tbody tr th:only-of-type {\n",
       "        vertical-align: middle;\n",
       "    }\n",
       "\n",
       "    .dataframe tbody tr th {\n",
       "        vertical-align: top;\n",
       "    }\n",
       "\n",
       "    .dataframe thead th {\n",
       "        text-align: right;\n",
       "    }\n",
       "</style>\n",
       "<table border=\"1\" class=\"dataframe\">\n",
       "  <thead>\n",
       "    <tr style=\"text-align: right;\">\n",
       "      <th></th>\n",
       "      <th>crim</th>\n",
       "      <th>zn</th>\n",
       "      <th>indus</th>\n",
       "      <th>chas</th>\n",
       "      <th>nox</th>\n",
       "      <th>rm</th>\n",
       "      <th>age</th>\n",
       "      <th>dis</th>\n",
       "      <th>rad</th>\n",
       "      <th>tax</th>\n",
       "      <th>ptratio</th>\n",
       "      <th>black</th>\n",
       "      <th>lstat</th>\n",
       "      <th>medv</th>\n",
       "    </tr>\n",
       "  </thead>\n",
       "  <tbody>\n",
       "    <tr>\n",
       "      <th>0</th>\n",
       "      <td>0.00632</td>\n",
       "      <td>18.0</td>\n",
       "      <td>2.31</td>\n",
       "      <td>0</td>\n",
       "      <td>0.538</td>\n",
       "      <td>6.575</td>\n",
       "      <td>65.2</td>\n",
       "      <td>4.0900</td>\n",
       "      <td>1</td>\n",
       "      <td>296</td>\n",
       "      <td>15.3</td>\n",
       "      <td>396.90</td>\n",
       "      <td>4.98</td>\n",
       "      <td>24.0</td>\n",
       "    </tr>\n",
       "    <tr>\n",
       "      <th>1</th>\n",
       "      <td>0.02731</td>\n",
       "      <td>0.0</td>\n",
       "      <td>7.07</td>\n",
       "      <td>0</td>\n",
       "      <td>0.469</td>\n",
       "      <td>6.421</td>\n",
       "      <td>78.9</td>\n",
       "      <td>4.9671</td>\n",
       "      <td>2</td>\n",
       "      <td>242</td>\n",
       "      <td>17.8</td>\n",
       "      <td>396.90</td>\n",
       "      <td>9.14</td>\n",
       "      <td>21.6</td>\n",
       "    </tr>\n",
       "    <tr>\n",
       "      <th>2</th>\n",
       "      <td>0.02729</td>\n",
       "      <td>0.0</td>\n",
       "      <td>7.07</td>\n",
       "      <td>0</td>\n",
       "      <td>0.469</td>\n",
       "      <td>7.185</td>\n",
       "      <td>61.1</td>\n",
       "      <td>4.9671</td>\n",
       "      <td>2</td>\n",
       "      <td>242</td>\n",
       "      <td>17.8</td>\n",
       "      <td>392.83</td>\n",
       "      <td>4.03</td>\n",
       "      <td>34.7</td>\n",
       "    </tr>\n",
       "    <tr>\n",
       "      <th>3</th>\n",
       "      <td>0.03237</td>\n",
       "      <td>0.0</td>\n",
       "      <td>2.18</td>\n",
       "      <td>0</td>\n",
       "      <td>0.458</td>\n",
       "      <td>6.998</td>\n",
       "      <td>45.8</td>\n",
       "      <td>6.0622</td>\n",
       "      <td>3</td>\n",
       "      <td>222</td>\n",
       "      <td>18.7</td>\n",
       "      <td>394.63</td>\n",
       "      <td>2.94</td>\n",
       "      <td>33.4</td>\n",
       "    </tr>\n",
       "    <tr>\n",
       "      <th>4</th>\n",
       "      <td>0.06905</td>\n",
       "      <td>0.0</td>\n",
       "      <td>2.18</td>\n",
       "      <td>0</td>\n",
       "      <td>0.458</td>\n",
       "      <td>7.147</td>\n",
       "      <td>54.2</td>\n",
       "      <td>6.0622</td>\n",
       "      <td>3</td>\n",
       "      <td>222</td>\n",
       "      <td>18.7</td>\n",
       "      <td>396.90</td>\n",
       "      <td>5.33</td>\n",
       "      <td>36.2</td>\n",
       "    </tr>\n",
       "  </tbody>\n",
       "</table>\n",
       "</div>"
      ],
      "text/plain": [
       "      crim    zn  indus  chas    nox     rm   age     dis  rad  tax  ptratio  \\\n",
       "0  0.00632  18.0   2.31     0  0.538  6.575  65.2  4.0900    1  296     15.3   \n",
       "1  0.02731   0.0   7.07     0  0.469  6.421  78.9  4.9671    2  242     17.8   \n",
       "2  0.02729   0.0   7.07     0  0.469  7.185  61.1  4.9671    2  242     17.8   \n",
       "3  0.03237   0.0   2.18     0  0.458  6.998  45.8  6.0622    3  222     18.7   \n",
       "4  0.06905   0.0   2.18     0  0.458  7.147  54.2  6.0622    3  222     18.7   \n",
       "\n",
       "    black  lstat  medv  \n",
       "0  396.90   4.98  24.0  \n",
       "1  396.90   9.14  21.6  \n",
       "2  392.83   4.03  34.7  \n",
       "3  394.63   2.94  33.4  \n",
       "4  396.90   5.33  36.2  "
      ]
     },
     "metadata": {},
     "output_type": "display_data"
    }
   ],
   "source": [
    "boston_df=get_data('boston')"
   ]
  },
  {
   "cell_type": "code",
   "execution_count": 11,
   "metadata": {},
   "outputs": [
    {
     "name": "stdout",
     "output_type": "stream",
     "text": [
      " \n",
      "Setup Succesfully Completed!\n"
     ]
    },
    {
     "data": {
      "text/html": [
       "<style  type=\"text/css\" >\n",
       "</style><table id=\"T_29fbcc82_cf63_11ea_9526_98fa9b095f1c\" ><thead>    <tr>        <th class=\"blank level0\" ></th>        <th class=\"col_heading level0 col0\" >Description</th>        <th class=\"col_heading level0 col1\" >Value</th>    </tr></thead><tbody>\n",
       "                <tr>\n",
       "                        <th id=\"T_29fbcc82_cf63_11ea_9526_98fa9b095f1clevel0_row0\" class=\"row_heading level0 row0\" >0</th>\n",
       "                        <td id=\"T_29fbcc82_cf63_11ea_9526_98fa9b095f1crow0_col0\" class=\"data row0 col0\" >session_id</td>\n",
       "                        <td id=\"T_29fbcc82_cf63_11ea_9526_98fa9b095f1crow0_col1\" class=\"data row0 col1\" >404</td>\n",
       "            </tr>\n",
       "            <tr>\n",
       "                        <th id=\"T_29fbcc82_cf63_11ea_9526_98fa9b095f1clevel0_row1\" class=\"row_heading level0 row1\" >1</th>\n",
       "                        <td id=\"T_29fbcc82_cf63_11ea_9526_98fa9b095f1crow1_col0\" class=\"data row1 col0\" >Transform Target </td>\n",
       "                        <td id=\"T_29fbcc82_cf63_11ea_9526_98fa9b095f1crow1_col1\" class=\"data row1 col1\" >False</td>\n",
       "            </tr>\n",
       "            <tr>\n",
       "                        <th id=\"T_29fbcc82_cf63_11ea_9526_98fa9b095f1clevel0_row2\" class=\"row_heading level0 row2\" >2</th>\n",
       "                        <td id=\"T_29fbcc82_cf63_11ea_9526_98fa9b095f1crow2_col0\" class=\"data row2 col0\" >Transform Target Method</td>\n",
       "                        <td id=\"T_29fbcc82_cf63_11ea_9526_98fa9b095f1crow2_col1\" class=\"data row2 col1\" >None</td>\n",
       "            </tr>\n",
       "            <tr>\n",
       "                        <th id=\"T_29fbcc82_cf63_11ea_9526_98fa9b095f1clevel0_row3\" class=\"row_heading level0 row3\" >3</th>\n",
       "                        <td id=\"T_29fbcc82_cf63_11ea_9526_98fa9b095f1crow3_col0\" class=\"data row3 col0\" >Original Data</td>\n",
       "                        <td id=\"T_29fbcc82_cf63_11ea_9526_98fa9b095f1crow3_col1\" class=\"data row3 col1\" >(506, 14)</td>\n",
       "            </tr>\n",
       "            <tr>\n",
       "                        <th id=\"T_29fbcc82_cf63_11ea_9526_98fa9b095f1clevel0_row4\" class=\"row_heading level0 row4\" >4</th>\n",
       "                        <td id=\"T_29fbcc82_cf63_11ea_9526_98fa9b095f1crow4_col0\" class=\"data row4 col0\" >Missing Values </td>\n",
       "                        <td id=\"T_29fbcc82_cf63_11ea_9526_98fa9b095f1crow4_col1\" class=\"data row4 col1\" >False</td>\n",
       "            </tr>\n",
       "            <tr>\n",
       "                        <th id=\"T_29fbcc82_cf63_11ea_9526_98fa9b095f1clevel0_row5\" class=\"row_heading level0 row5\" >5</th>\n",
       "                        <td id=\"T_29fbcc82_cf63_11ea_9526_98fa9b095f1crow5_col0\" class=\"data row5 col0\" >Numeric Features </td>\n",
       "                        <td id=\"T_29fbcc82_cf63_11ea_9526_98fa9b095f1crow5_col1\" class=\"data row5 col1\" >11</td>\n",
       "            </tr>\n",
       "            <tr>\n",
       "                        <th id=\"T_29fbcc82_cf63_11ea_9526_98fa9b095f1clevel0_row6\" class=\"row_heading level0 row6\" >6</th>\n",
       "                        <td id=\"T_29fbcc82_cf63_11ea_9526_98fa9b095f1crow6_col0\" class=\"data row6 col0\" >Categorical Features </td>\n",
       "                        <td id=\"T_29fbcc82_cf63_11ea_9526_98fa9b095f1crow6_col1\" class=\"data row6 col1\" >2</td>\n",
       "            </tr>\n",
       "            <tr>\n",
       "                        <th id=\"T_29fbcc82_cf63_11ea_9526_98fa9b095f1clevel0_row7\" class=\"row_heading level0 row7\" >7</th>\n",
       "                        <td id=\"T_29fbcc82_cf63_11ea_9526_98fa9b095f1crow7_col0\" class=\"data row7 col0\" >Ordinal Features </td>\n",
       "                        <td id=\"T_29fbcc82_cf63_11ea_9526_98fa9b095f1crow7_col1\" class=\"data row7 col1\" >False</td>\n",
       "            </tr>\n",
       "            <tr>\n",
       "                        <th id=\"T_29fbcc82_cf63_11ea_9526_98fa9b095f1clevel0_row8\" class=\"row_heading level0 row8\" >8</th>\n",
       "                        <td id=\"T_29fbcc82_cf63_11ea_9526_98fa9b095f1crow8_col0\" class=\"data row8 col0\" >High Cardinality Features </td>\n",
       "                        <td id=\"T_29fbcc82_cf63_11ea_9526_98fa9b095f1crow8_col1\" class=\"data row8 col1\" >False</td>\n",
       "            </tr>\n",
       "            <tr>\n",
       "                        <th id=\"T_29fbcc82_cf63_11ea_9526_98fa9b095f1clevel0_row9\" class=\"row_heading level0 row9\" >9</th>\n",
       "                        <td id=\"T_29fbcc82_cf63_11ea_9526_98fa9b095f1crow9_col0\" class=\"data row9 col0\" >High Cardinality Method </td>\n",
       "                        <td id=\"T_29fbcc82_cf63_11ea_9526_98fa9b095f1crow9_col1\" class=\"data row9 col1\" >None</td>\n",
       "            </tr>\n",
       "            <tr>\n",
       "                        <th id=\"T_29fbcc82_cf63_11ea_9526_98fa9b095f1clevel0_row10\" class=\"row_heading level0 row10\" >10</th>\n",
       "                        <td id=\"T_29fbcc82_cf63_11ea_9526_98fa9b095f1crow10_col0\" class=\"data row10 col0\" >Sampled Data</td>\n",
       "                        <td id=\"T_29fbcc82_cf63_11ea_9526_98fa9b095f1crow10_col1\" class=\"data row10 col1\" >(506, 14)</td>\n",
       "            </tr>\n",
       "            <tr>\n",
       "                        <th id=\"T_29fbcc82_cf63_11ea_9526_98fa9b095f1clevel0_row11\" class=\"row_heading level0 row11\" >11</th>\n",
       "                        <td id=\"T_29fbcc82_cf63_11ea_9526_98fa9b095f1crow11_col0\" class=\"data row11 col0\" >Transformed Train Set</td>\n",
       "                        <td id=\"T_29fbcc82_cf63_11ea_9526_98fa9b095f1crow11_col1\" class=\"data row11 col1\" >(354, 21)</td>\n",
       "            </tr>\n",
       "            <tr>\n",
       "                        <th id=\"T_29fbcc82_cf63_11ea_9526_98fa9b095f1clevel0_row12\" class=\"row_heading level0 row12\" >12</th>\n",
       "                        <td id=\"T_29fbcc82_cf63_11ea_9526_98fa9b095f1crow12_col0\" class=\"data row12 col0\" >Transformed Test Set</td>\n",
       "                        <td id=\"T_29fbcc82_cf63_11ea_9526_98fa9b095f1crow12_col1\" class=\"data row12 col1\" >(152, 21)</td>\n",
       "            </tr>\n",
       "            <tr>\n",
       "                        <th id=\"T_29fbcc82_cf63_11ea_9526_98fa9b095f1clevel0_row13\" class=\"row_heading level0 row13\" >13</th>\n",
       "                        <td id=\"T_29fbcc82_cf63_11ea_9526_98fa9b095f1crow13_col0\" class=\"data row13 col0\" >Numeric Imputer </td>\n",
       "                        <td id=\"T_29fbcc82_cf63_11ea_9526_98fa9b095f1crow13_col1\" class=\"data row13 col1\" >mean</td>\n",
       "            </tr>\n",
       "            <tr>\n",
       "                        <th id=\"T_29fbcc82_cf63_11ea_9526_98fa9b095f1clevel0_row14\" class=\"row_heading level0 row14\" >14</th>\n",
       "                        <td id=\"T_29fbcc82_cf63_11ea_9526_98fa9b095f1crow14_col0\" class=\"data row14 col0\" >Categorical Imputer </td>\n",
       "                        <td id=\"T_29fbcc82_cf63_11ea_9526_98fa9b095f1crow14_col1\" class=\"data row14 col1\" >constant</td>\n",
       "            </tr>\n",
       "            <tr>\n",
       "                        <th id=\"T_29fbcc82_cf63_11ea_9526_98fa9b095f1clevel0_row15\" class=\"row_heading level0 row15\" >15</th>\n",
       "                        <td id=\"T_29fbcc82_cf63_11ea_9526_98fa9b095f1crow15_col0\" class=\"data row15 col0\" >Normalize </td>\n",
       "                        <td id=\"T_29fbcc82_cf63_11ea_9526_98fa9b095f1crow15_col1\" class=\"data row15 col1\" >False</td>\n",
       "            </tr>\n",
       "            <tr>\n",
       "                        <th id=\"T_29fbcc82_cf63_11ea_9526_98fa9b095f1clevel0_row16\" class=\"row_heading level0 row16\" >16</th>\n",
       "                        <td id=\"T_29fbcc82_cf63_11ea_9526_98fa9b095f1crow16_col0\" class=\"data row16 col0\" >Normalize Method </td>\n",
       "                        <td id=\"T_29fbcc82_cf63_11ea_9526_98fa9b095f1crow16_col1\" class=\"data row16 col1\" >None</td>\n",
       "            </tr>\n",
       "            <tr>\n",
       "                        <th id=\"T_29fbcc82_cf63_11ea_9526_98fa9b095f1clevel0_row17\" class=\"row_heading level0 row17\" >17</th>\n",
       "                        <td id=\"T_29fbcc82_cf63_11ea_9526_98fa9b095f1crow17_col0\" class=\"data row17 col0\" >Transformation </td>\n",
       "                        <td id=\"T_29fbcc82_cf63_11ea_9526_98fa9b095f1crow17_col1\" class=\"data row17 col1\" >False</td>\n",
       "            </tr>\n",
       "            <tr>\n",
       "                        <th id=\"T_29fbcc82_cf63_11ea_9526_98fa9b095f1clevel0_row18\" class=\"row_heading level0 row18\" >18</th>\n",
       "                        <td id=\"T_29fbcc82_cf63_11ea_9526_98fa9b095f1crow18_col0\" class=\"data row18 col0\" >Transformation Method </td>\n",
       "                        <td id=\"T_29fbcc82_cf63_11ea_9526_98fa9b095f1crow18_col1\" class=\"data row18 col1\" >None</td>\n",
       "            </tr>\n",
       "            <tr>\n",
       "                        <th id=\"T_29fbcc82_cf63_11ea_9526_98fa9b095f1clevel0_row19\" class=\"row_heading level0 row19\" >19</th>\n",
       "                        <td id=\"T_29fbcc82_cf63_11ea_9526_98fa9b095f1crow19_col0\" class=\"data row19 col0\" >PCA </td>\n",
       "                        <td id=\"T_29fbcc82_cf63_11ea_9526_98fa9b095f1crow19_col1\" class=\"data row19 col1\" >False</td>\n",
       "            </tr>\n",
       "            <tr>\n",
       "                        <th id=\"T_29fbcc82_cf63_11ea_9526_98fa9b095f1clevel0_row20\" class=\"row_heading level0 row20\" >20</th>\n",
       "                        <td id=\"T_29fbcc82_cf63_11ea_9526_98fa9b095f1crow20_col0\" class=\"data row20 col0\" >PCA Method </td>\n",
       "                        <td id=\"T_29fbcc82_cf63_11ea_9526_98fa9b095f1crow20_col1\" class=\"data row20 col1\" >None</td>\n",
       "            </tr>\n",
       "            <tr>\n",
       "                        <th id=\"T_29fbcc82_cf63_11ea_9526_98fa9b095f1clevel0_row21\" class=\"row_heading level0 row21\" >21</th>\n",
       "                        <td id=\"T_29fbcc82_cf63_11ea_9526_98fa9b095f1crow21_col0\" class=\"data row21 col0\" >PCA Components </td>\n",
       "                        <td id=\"T_29fbcc82_cf63_11ea_9526_98fa9b095f1crow21_col1\" class=\"data row21 col1\" >None</td>\n",
       "            </tr>\n",
       "            <tr>\n",
       "                        <th id=\"T_29fbcc82_cf63_11ea_9526_98fa9b095f1clevel0_row22\" class=\"row_heading level0 row22\" >22</th>\n",
       "                        <td id=\"T_29fbcc82_cf63_11ea_9526_98fa9b095f1crow22_col0\" class=\"data row22 col0\" >Ignore Low Variance </td>\n",
       "                        <td id=\"T_29fbcc82_cf63_11ea_9526_98fa9b095f1crow22_col1\" class=\"data row22 col1\" >False</td>\n",
       "            </tr>\n",
       "            <tr>\n",
       "                        <th id=\"T_29fbcc82_cf63_11ea_9526_98fa9b095f1clevel0_row23\" class=\"row_heading level0 row23\" >23</th>\n",
       "                        <td id=\"T_29fbcc82_cf63_11ea_9526_98fa9b095f1crow23_col0\" class=\"data row23 col0\" >Combine Rare Levels </td>\n",
       "                        <td id=\"T_29fbcc82_cf63_11ea_9526_98fa9b095f1crow23_col1\" class=\"data row23 col1\" >False</td>\n",
       "            </tr>\n",
       "            <tr>\n",
       "                        <th id=\"T_29fbcc82_cf63_11ea_9526_98fa9b095f1clevel0_row24\" class=\"row_heading level0 row24\" >24</th>\n",
       "                        <td id=\"T_29fbcc82_cf63_11ea_9526_98fa9b095f1crow24_col0\" class=\"data row24 col0\" >Rare Level Threshold </td>\n",
       "                        <td id=\"T_29fbcc82_cf63_11ea_9526_98fa9b095f1crow24_col1\" class=\"data row24 col1\" >None</td>\n",
       "            </tr>\n",
       "            <tr>\n",
       "                        <th id=\"T_29fbcc82_cf63_11ea_9526_98fa9b095f1clevel0_row25\" class=\"row_heading level0 row25\" >25</th>\n",
       "                        <td id=\"T_29fbcc82_cf63_11ea_9526_98fa9b095f1crow25_col0\" class=\"data row25 col0\" >Numeric Binning </td>\n",
       "                        <td id=\"T_29fbcc82_cf63_11ea_9526_98fa9b095f1crow25_col1\" class=\"data row25 col1\" >False</td>\n",
       "            </tr>\n",
       "            <tr>\n",
       "                        <th id=\"T_29fbcc82_cf63_11ea_9526_98fa9b095f1clevel0_row26\" class=\"row_heading level0 row26\" >26</th>\n",
       "                        <td id=\"T_29fbcc82_cf63_11ea_9526_98fa9b095f1crow26_col0\" class=\"data row26 col0\" >Remove Outliers </td>\n",
       "                        <td id=\"T_29fbcc82_cf63_11ea_9526_98fa9b095f1crow26_col1\" class=\"data row26 col1\" >False</td>\n",
       "            </tr>\n",
       "            <tr>\n",
       "                        <th id=\"T_29fbcc82_cf63_11ea_9526_98fa9b095f1clevel0_row27\" class=\"row_heading level0 row27\" >27</th>\n",
       "                        <td id=\"T_29fbcc82_cf63_11ea_9526_98fa9b095f1crow27_col0\" class=\"data row27 col0\" >Outliers Threshold </td>\n",
       "                        <td id=\"T_29fbcc82_cf63_11ea_9526_98fa9b095f1crow27_col1\" class=\"data row27 col1\" >None</td>\n",
       "            </tr>\n",
       "            <tr>\n",
       "                        <th id=\"T_29fbcc82_cf63_11ea_9526_98fa9b095f1clevel0_row28\" class=\"row_heading level0 row28\" >28</th>\n",
       "                        <td id=\"T_29fbcc82_cf63_11ea_9526_98fa9b095f1crow28_col0\" class=\"data row28 col0\" >Remove Multicollinearity </td>\n",
       "                        <td id=\"T_29fbcc82_cf63_11ea_9526_98fa9b095f1crow28_col1\" class=\"data row28 col1\" >False</td>\n",
       "            </tr>\n",
       "            <tr>\n",
       "                        <th id=\"T_29fbcc82_cf63_11ea_9526_98fa9b095f1clevel0_row29\" class=\"row_heading level0 row29\" >29</th>\n",
       "                        <td id=\"T_29fbcc82_cf63_11ea_9526_98fa9b095f1crow29_col0\" class=\"data row29 col0\" >Multicollinearity Threshold </td>\n",
       "                        <td id=\"T_29fbcc82_cf63_11ea_9526_98fa9b095f1crow29_col1\" class=\"data row29 col1\" >None</td>\n",
       "            </tr>\n",
       "            <tr>\n",
       "                        <th id=\"T_29fbcc82_cf63_11ea_9526_98fa9b095f1clevel0_row30\" class=\"row_heading level0 row30\" >30</th>\n",
       "                        <td id=\"T_29fbcc82_cf63_11ea_9526_98fa9b095f1crow30_col0\" class=\"data row30 col0\" >Clustering </td>\n",
       "                        <td id=\"T_29fbcc82_cf63_11ea_9526_98fa9b095f1crow30_col1\" class=\"data row30 col1\" >False</td>\n",
       "            </tr>\n",
       "            <tr>\n",
       "                        <th id=\"T_29fbcc82_cf63_11ea_9526_98fa9b095f1clevel0_row31\" class=\"row_heading level0 row31\" >31</th>\n",
       "                        <td id=\"T_29fbcc82_cf63_11ea_9526_98fa9b095f1crow31_col0\" class=\"data row31 col0\" >Clustering Iteration </td>\n",
       "                        <td id=\"T_29fbcc82_cf63_11ea_9526_98fa9b095f1crow31_col1\" class=\"data row31 col1\" >None</td>\n",
       "            </tr>\n",
       "            <tr>\n",
       "                        <th id=\"T_29fbcc82_cf63_11ea_9526_98fa9b095f1clevel0_row32\" class=\"row_heading level0 row32\" >32</th>\n",
       "                        <td id=\"T_29fbcc82_cf63_11ea_9526_98fa9b095f1crow32_col0\" class=\"data row32 col0\" >Polynomial Features </td>\n",
       "                        <td id=\"T_29fbcc82_cf63_11ea_9526_98fa9b095f1crow32_col1\" class=\"data row32 col1\" >False</td>\n",
       "            </tr>\n",
       "            <tr>\n",
       "                        <th id=\"T_29fbcc82_cf63_11ea_9526_98fa9b095f1clevel0_row33\" class=\"row_heading level0 row33\" >33</th>\n",
       "                        <td id=\"T_29fbcc82_cf63_11ea_9526_98fa9b095f1crow33_col0\" class=\"data row33 col0\" >Polynomial Degree </td>\n",
       "                        <td id=\"T_29fbcc82_cf63_11ea_9526_98fa9b095f1crow33_col1\" class=\"data row33 col1\" >None</td>\n",
       "            </tr>\n",
       "            <tr>\n",
       "                        <th id=\"T_29fbcc82_cf63_11ea_9526_98fa9b095f1clevel0_row34\" class=\"row_heading level0 row34\" >34</th>\n",
       "                        <td id=\"T_29fbcc82_cf63_11ea_9526_98fa9b095f1crow34_col0\" class=\"data row34 col0\" >Trignometry Features </td>\n",
       "                        <td id=\"T_29fbcc82_cf63_11ea_9526_98fa9b095f1crow34_col1\" class=\"data row34 col1\" >False</td>\n",
       "            </tr>\n",
       "            <tr>\n",
       "                        <th id=\"T_29fbcc82_cf63_11ea_9526_98fa9b095f1clevel0_row35\" class=\"row_heading level0 row35\" >35</th>\n",
       "                        <td id=\"T_29fbcc82_cf63_11ea_9526_98fa9b095f1crow35_col0\" class=\"data row35 col0\" >Polynomial Threshold </td>\n",
       "                        <td id=\"T_29fbcc82_cf63_11ea_9526_98fa9b095f1crow35_col1\" class=\"data row35 col1\" >None</td>\n",
       "            </tr>\n",
       "            <tr>\n",
       "                        <th id=\"T_29fbcc82_cf63_11ea_9526_98fa9b095f1clevel0_row36\" class=\"row_heading level0 row36\" >36</th>\n",
       "                        <td id=\"T_29fbcc82_cf63_11ea_9526_98fa9b095f1crow36_col0\" class=\"data row36 col0\" >Group Features </td>\n",
       "                        <td id=\"T_29fbcc82_cf63_11ea_9526_98fa9b095f1crow36_col1\" class=\"data row36 col1\" >False</td>\n",
       "            </tr>\n",
       "            <tr>\n",
       "                        <th id=\"T_29fbcc82_cf63_11ea_9526_98fa9b095f1clevel0_row37\" class=\"row_heading level0 row37\" >37</th>\n",
       "                        <td id=\"T_29fbcc82_cf63_11ea_9526_98fa9b095f1crow37_col0\" class=\"data row37 col0\" >Feature Selection </td>\n",
       "                        <td id=\"T_29fbcc82_cf63_11ea_9526_98fa9b095f1crow37_col1\" class=\"data row37 col1\" >False</td>\n",
       "            </tr>\n",
       "            <tr>\n",
       "                        <th id=\"T_29fbcc82_cf63_11ea_9526_98fa9b095f1clevel0_row38\" class=\"row_heading level0 row38\" >38</th>\n",
       "                        <td id=\"T_29fbcc82_cf63_11ea_9526_98fa9b095f1crow38_col0\" class=\"data row38 col0\" >Features Selection Threshold </td>\n",
       "                        <td id=\"T_29fbcc82_cf63_11ea_9526_98fa9b095f1crow38_col1\" class=\"data row38 col1\" >None</td>\n",
       "            </tr>\n",
       "            <tr>\n",
       "                        <th id=\"T_29fbcc82_cf63_11ea_9526_98fa9b095f1clevel0_row39\" class=\"row_heading level0 row39\" >39</th>\n",
       "                        <td id=\"T_29fbcc82_cf63_11ea_9526_98fa9b095f1crow39_col0\" class=\"data row39 col0\" >Feature Interaction </td>\n",
       "                        <td id=\"T_29fbcc82_cf63_11ea_9526_98fa9b095f1crow39_col1\" class=\"data row39 col1\" >False</td>\n",
       "            </tr>\n",
       "            <tr>\n",
       "                        <th id=\"T_29fbcc82_cf63_11ea_9526_98fa9b095f1clevel0_row40\" class=\"row_heading level0 row40\" >40</th>\n",
       "                        <td id=\"T_29fbcc82_cf63_11ea_9526_98fa9b095f1crow40_col0\" class=\"data row40 col0\" >Feature Ratio </td>\n",
       "                        <td id=\"T_29fbcc82_cf63_11ea_9526_98fa9b095f1crow40_col1\" class=\"data row40 col1\" >False</td>\n",
       "            </tr>\n",
       "            <tr>\n",
       "                        <th id=\"T_29fbcc82_cf63_11ea_9526_98fa9b095f1clevel0_row41\" class=\"row_heading level0 row41\" >41</th>\n",
       "                        <td id=\"T_29fbcc82_cf63_11ea_9526_98fa9b095f1crow41_col0\" class=\"data row41 col0\" >Interaction Threshold </td>\n",
       "                        <td id=\"T_29fbcc82_cf63_11ea_9526_98fa9b095f1crow41_col1\" class=\"data row41 col1\" >None</td>\n",
       "            </tr>\n",
       "    </tbody></table>"
      ],
      "text/plain": [
       "<pandas.io.formats.style.Styler at 0x1f9f0da08d0>"
      ]
     },
     "metadata": {},
     "output_type": "display_data"
    }
   ],
   "source": [
    "from pycaret.regression import *\n",
    "reg1 = setup(data = boston_df, target = 'medv')"
   ]
  },
  {
   "cell_type": "code",
   "execution_count": 12,
   "metadata": {},
   "outputs": [
    {
     "data": {
      "text/html": [
       "<style  type=\"text/css\" >\n",
       "    #T_b66b7ed2_cf63_11ea_98bd_98fa9b095f1c th {\n",
       "          text-align: left;\n",
       "    }    #T_b66b7ed2_cf63_11ea_98bd_98fa9b095f1crow0_col0 {\n",
       "            text-align:  left;\n",
       "        }    #T_b66b7ed2_cf63_11ea_98bd_98fa9b095f1crow0_col1 {\n",
       "            background-color:  yellow;\n",
       "            text-align:  left;\n",
       "        }    #T_b66b7ed2_cf63_11ea_98bd_98fa9b095f1crow0_col2 {\n",
       "            : ;\n",
       "            text-align:  left;\n",
       "        }    #T_b66b7ed2_cf63_11ea_98bd_98fa9b095f1crow0_col3 {\n",
       "            background-color:  yellow;\n",
       "            text-align:  left;\n",
       "        }    #T_b66b7ed2_cf63_11ea_98bd_98fa9b095f1crow0_col4 {\n",
       "            text-align:  left;\n",
       "        }    #T_b66b7ed2_cf63_11ea_98bd_98fa9b095f1crow0_col5 {\n",
       "            : ;\n",
       "            text-align:  left;\n",
       "        }    #T_b66b7ed2_cf63_11ea_98bd_98fa9b095f1crow0_col6 {\n",
       "            background-color:  yellow;\n",
       "            text-align:  left;\n",
       "        }    #T_b66b7ed2_cf63_11ea_98bd_98fa9b095f1crow1_col0 {\n",
       "            text-align:  left;\n",
       "        }    #T_b66b7ed2_cf63_11ea_98bd_98fa9b095f1crow1_col1 {\n",
       "            : ;\n",
       "            text-align:  left;\n",
       "        }    #T_b66b7ed2_cf63_11ea_98bd_98fa9b095f1crow1_col2 {\n",
       "            background-color:  yellow;\n",
       "            text-align:  left;\n",
       "        }    #T_b66b7ed2_cf63_11ea_98bd_98fa9b095f1crow1_col3 {\n",
       "            : ;\n",
       "            text-align:  left;\n",
       "        }    #T_b66b7ed2_cf63_11ea_98bd_98fa9b095f1crow1_col4 {\n",
       "            text-align:  left;\n",
       "        }    #T_b66b7ed2_cf63_11ea_98bd_98fa9b095f1crow1_col5 {\n",
       "            background-color:  yellow;\n",
       "            text-align:  left;\n",
       "        }    #T_b66b7ed2_cf63_11ea_98bd_98fa9b095f1crow1_col6 {\n",
       "            : ;\n",
       "            text-align:  left;\n",
       "        }    #T_b66b7ed2_cf63_11ea_98bd_98fa9b095f1crow2_col0 {\n",
       "            text-align:  left;\n",
       "        }    #T_b66b7ed2_cf63_11ea_98bd_98fa9b095f1crow2_col1 {\n",
       "            : ;\n",
       "            text-align:  left;\n",
       "        }    #T_b66b7ed2_cf63_11ea_98bd_98fa9b095f1crow2_col2 {\n",
       "            : ;\n",
       "            text-align:  left;\n",
       "        }    #T_b66b7ed2_cf63_11ea_98bd_98fa9b095f1crow2_col3 {\n",
       "            : ;\n",
       "            text-align:  left;\n",
       "        }    #T_b66b7ed2_cf63_11ea_98bd_98fa9b095f1crow2_col4 {\n",
       "            text-align:  left;\n",
       "        }    #T_b66b7ed2_cf63_11ea_98bd_98fa9b095f1crow2_col5 {\n",
       "            : ;\n",
       "            text-align:  left;\n",
       "        }    #T_b66b7ed2_cf63_11ea_98bd_98fa9b095f1crow2_col6 {\n",
       "            : ;\n",
       "            text-align:  left;\n",
       "        }    #T_b66b7ed2_cf63_11ea_98bd_98fa9b095f1crow3_col0 {\n",
       "            text-align:  left;\n",
       "        }    #T_b66b7ed2_cf63_11ea_98bd_98fa9b095f1crow3_col1 {\n",
       "            : ;\n",
       "            text-align:  left;\n",
       "        }    #T_b66b7ed2_cf63_11ea_98bd_98fa9b095f1crow3_col2 {\n",
       "            : ;\n",
       "            text-align:  left;\n",
       "        }    #T_b66b7ed2_cf63_11ea_98bd_98fa9b095f1crow3_col3 {\n",
       "            : ;\n",
       "            text-align:  left;\n",
       "        }    #T_b66b7ed2_cf63_11ea_98bd_98fa9b095f1crow3_col4 {\n",
       "            text-align:  left;\n",
       "        }    #T_b66b7ed2_cf63_11ea_98bd_98fa9b095f1crow3_col5 {\n",
       "            : ;\n",
       "            text-align:  left;\n",
       "        }    #T_b66b7ed2_cf63_11ea_98bd_98fa9b095f1crow3_col6 {\n",
       "            : ;\n",
       "            text-align:  left;\n",
       "        }    #T_b66b7ed2_cf63_11ea_98bd_98fa9b095f1crow4_col0 {\n",
       "            text-align:  left;\n",
       "        }    #T_b66b7ed2_cf63_11ea_98bd_98fa9b095f1crow4_col1 {\n",
       "            : ;\n",
       "            text-align:  left;\n",
       "        }    #T_b66b7ed2_cf63_11ea_98bd_98fa9b095f1crow4_col2 {\n",
       "            : ;\n",
       "            text-align:  left;\n",
       "        }    #T_b66b7ed2_cf63_11ea_98bd_98fa9b095f1crow4_col3 {\n",
       "            : ;\n",
       "            text-align:  left;\n",
       "        }    #T_b66b7ed2_cf63_11ea_98bd_98fa9b095f1crow4_col4 {\n",
       "            text-align:  left;\n",
       "        }    #T_b66b7ed2_cf63_11ea_98bd_98fa9b095f1crow4_col5 {\n",
       "            : ;\n",
       "            text-align:  left;\n",
       "        }    #T_b66b7ed2_cf63_11ea_98bd_98fa9b095f1crow4_col6 {\n",
       "            : ;\n",
       "            text-align:  left;\n",
       "        }    #T_b66b7ed2_cf63_11ea_98bd_98fa9b095f1crow5_col0 {\n",
       "            text-align:  left;\n",
       "        }    #T_b66b7ed2_cf63_11ea_98bd_98fa9b095f1crow5_col1 {\n",
       "            : ;\n",
       "            text-align:  left;\n",
       "        }    #T_b66b7ed2_cf63_11ea_98bd_98fa9b095f1crow5_col2 {\n",
       "            : ;\n",
       "            text-align:  left;\n",
       "        }    #T_b66b7ed2_cf63_11ea_98bd_98fa9b095f1crow5_col3 {\n",
       "            : ;\n",
       "            text-align:  left;\n",
       "        }    #T_b66b7ed2_cf63_11ea_98bd_98fa9b095f1crow5_col4 {\n",
       "            text-align:  left;\n",
       "        }    #T_b66b7ed2_cf63_11ea_98bd_98fa9b095f1crow5_col5 {\n",
       "            : ;\n",
       "            text-align:  left;\n",
       "        }    #T_b66b7ed2_cf63_11ea_98bd_98fa9b095f1crow5_col6 {\n",
       "            : ;\n",
       "            text-align:  left;\n",
       "        }    #T_b66b7ed2_cf63_11ea_98bd_98fa9b095f1crow6_col0 {\n",
       "            text-align:  left;\n",
       "        }    #T_b66b7ed2_cf63_11ea_98bd_98fa9b095f1crow6_col1 {\n",
       "            : ;\n",
       "            text-align:  left;\n",
       "        }    #T_b66b7ed2_cf63_11ea_98bd_98fa9b095f1crow6_col2 {\n",
       "            : ;\n",
       "            text-align:  left;\n",
       "        }    #T_b66b7ed2_cf63_11ea_98bd_98fa9b095f1crow6_col3 {\n",
       "            : ;\n",
       "            text-align:  left;\n",
       "        }    #T_b66b7ed2_cf63_11ea_98bd_98fa9b095f1crow6_col4 {\n",
       "            text-align:  left;\n",
       "        }    #T_b66b7ed2_cf63_11ea_98bd_98fa9b095f1crow6_col5 {\n",
       "            : ;\n",
       "            text-align:  left;\n",
       "        }    #T_b66b7ed2_cf63_11ea_98bd_98fa9b095f1crow6_col6 {\n",
       "            : ;\n",
       "            text-align:  left;\n",
       "        }    #T_b66b7ed2_cf63_11ea_98bd_98fa9b095f1crow7_col0 {\n",
       "            text-align:  left;\n",
       "        }    #T_b66b7ed2_cf63_11ea_98bd_98fa9b095f1crow7_col1 {\n",
       "            : ;\n",
       "            text-align:  left;\n",
       "        }    #T_b66b7ed2_cf63_11ea_98bd_98fa9b095f1crow7_col2 {\n",
       "            : ;\n",
       "            text-align:  left;\n",
       "        }    #T_b66b7ed2_cf63_11ea_98bd_98fa9b095f1crow7_col3 {\n",
       "            : ;\n",
       "            text-align:  left;\n",
       "        }    #T_b66b7ed2_cf63_11ea_98bd_98fa9b095f1crow7_col4 {\n",
       "            text-align:  left;\n",
       "        }    #T_b66b7ed2_cf63_11ea_98bd_98fa9b095f1crow7_col5 {\n",
       "            : ;\n",
       "            text-align:  left;\n",
       "        }    #T_b66b7ed2_cf63_11ea_98bd_98fa9b095f1crow7_col6 {\n",
       "            : ;\n",
       "            text-align:  left;\n",
       "        }    #T_b66b7ed2_cf63_11ea_98bd_98fa9b095f1crow8_col0 {\n",
       "            text-align:  left;\n",
       "        }    #T_b66b7ed2_cf63_11ea_98bd_98fa9b095f1crow8_col1 {\n",
       "            : ;\n",
       "            text-align:  left;\n",
       "        }    #T_b66b7ed2_cf63_11ea_98bd_98fa9b095f1crow8_col2 {\n",
       "            : ;\n",
       "            text-align:  left;\n",
       "        }    #T_b66b7ed2_cf63_11ea_98bd_98fa9b095f1crow8_col3 {\n",
       "            : ;\n",
       "            text-align:  left;\n",
       "        }    #T_b66b7ed2_cf63_11ea_98bd_98fa9b095f1crow8_col4 {\n",
       "            text-align:  left;\n",
       "        }    #T_b66b7ed2_cf63_11ea_98bd_98fa9b095f1crow8_col5 {\n",
       "            : ;\n",
       "            text-align:  left;\n",
       "        }    #T_b66b7ed2_cf63_11ea_98bd_98fa9b095f1crow8_col6 {\n",
       "            : ;\n",
       "            text-align:  left;\n",
       "        }    #T_b66b7ed2_cf63_11ea_98bd_98fa9b095f1crow9_col0 {\n",
       "            text-align:  left;\n",
       "        }    #T_b66b7ed2_cf63_11ea_98bd_98fa9b095f1crow9_col1 {\n",
       "            : ;\n",
       "            text-align:  left;\n",
       "        }    #T_b66b7ed2_cf63_11ea_98bd_98fa9b095f1crow9_col2 {\n",
       "            : ;\n",
       "            text-align:  left;\n",
       "        }    #T_b66b7ed2_cf63_11ea_98bd_98fa9b095f1crow9_col3 {\n",
       "            : ;\n",
       "            text-align:  left;\n",
       "        }    #T_b66b7ed2_cf63_11ea_98bd_98fa9b095f1crow9_col4 {\n",
       "            text-align:  left;\n",
       "        }    #T_b66b7ed2_cf63_11ea_98bd_98fa9b095f1crow9_col5 {\n",
       "            : ;\n",
       "            text-align:  left;\n",
       "        }    #T_b66b7ed2_cf63_11ea_98bd_98fa9b095f1crow9_col6 {\n",
       "            : ;\n",
       "            text-align:  left;\n",
       "        }    #T_b66b7ed2_cf63_11ea_98bd_98fa9b095f1crow10_col0 {\n",
       "            text-align:  left;\n",
       "        }    #T_b66b7ed2_cf63_11ea_98bd_98fa9b095f1crow10_col1 {\n",
       "            : ;\n",
       "            text-align:  left;\n",
       "        }    #T_b66b7ed2_cf63_11ea_98bd_98fa9b095f1crow10_col2 {\n",
       "            : ;\n",
       "            text-align:  left;\n",
       "        }    #T_b66b7ed2_cf63_11ea_98bd_98fa9b095f1crow10_col3 {\n",
       "            : ;\n",
       "            text-align:  left;\n",
       "        }    #T_b66b7ed2_cf63_11ea_98bd_98fa9b095f1crow10_col4 {\n",
       "            text-align:  left;\n",
       "        }    #T_b66b7ed2_cf63_11ea_98bd_98fa9b095f1crow10_col5 {\n",
       "            : ;\n",
       "            text-align:  left;\n",
       "        }    #T_b66b7ed2_cf63_11ea_98bd_98fa9b095f1crow10_col6 {\n",
       "            : ;\n",
       "            text-align:  left;\n",
       "        }    #T_b66b7ed2_cf63_11ea_98bd_98fa9b095f1crow11_col0 {\n",
       "            text-align:  left;\n",
       "        }    #T_b66b7ed2_cf63_11ea_98bd_98fa9b095f1crow11_col1 {\n",
       "            : ;\n",
       "            text-align:  left;\n",
       "        }    #T_b66b7ed2_cf63_11ea_98bd_98fa9b095f1crow11_col2 {\n",
       "            : ;\n",
       "            text-align:  left;\n",
       "        }    #T_b66b7ed2_cf63_11ea_98bd_98fa9b095f1crow11_col3 {\n",
       "            : ;\n",
       "            text-align:  left;\n",
       "        }    #T_b66b7ed2_cf63_11ea_98bd_98fa9b095f1crow11_col4 {\n",
       "            text-align:  left;\n",
       "        }    #T_b66b7ed2_cf63_11ea_98bd_98fa9b095f1crow11_col5 {\n",
       "            : ;\n",
       "            text-align:  left;\n",
       "        }    #T_b66b7ed2_cf63_11ea_98bd_98fa9b095f1crow11_col6 {\n",
       "            : ;\n",
       "            text-align:  left;\n",
       "        }    #T_b66b7ed2_cf63_11ea_98bd_98fa9b095f1crow12_col0 {\n",
       "            text-align:  left;\n",
       "        }    #T_b66b7ed2_cf63_11ea_98bd_98fa9b095f1crow12_col1 {\n",
       "            : ;\n",
       "            text-align:  left;\n",
       "        }    #T_b66b7ed2_cf63_11ea_98bd_98fa9b095f1crow12_col2 {\n",
       "            : ;\n",
       "            text-align:  left;\n",
       "        }    #T_b66b7ed2_cf63_11ea_98bd_98fa9b095f1crow12_col3 {\n",
       "            : ;\n",
       "            text-align:  left;\n",
       "        }    #T_b66b7ed2_cf63_11ea_98bd_98fa9b095f1crow12_col4 {\n",
       "            text-align:  left;\n",
       "        }    #T_b66b7ed2_cf63_11ea_98bd_98fa9b095f1crow12_col5 {\n",
       "            : ;\n",
       "            text-align:  left;\n",
       "        }    #T_b66b7ed2_cf63_11ea_98bd_98fa9b095f1crow12_col6 {\n",
       "            : ;\n",
       "            text-align:  left;\n",
       "        }    #T_b66b7ed2_cf63_11ea_98bd_98fa9b095f1crow13_col0 {\n",
       "            text-align:  left;\n",
       "        }    #T_b66b7ed2_cf63_11ea_98bd_98fa9b095f1crow13_col1 {\n",
       "            : ;\n",
       "            text-align:  left;\n",
       "        }    #T_b66b7ed2_cf63_11ea_98bd_98fa9b095f1crow13_col2 {\n",
       "            : ;\n",
       "            text-align:  left;\n",
       "        }    #T_b66b7ed2_cf63_11ea_98bd_98fa9b095f1crow13_col3 {\n",
       "            : ;\n",
       "            text-align:  left;\n",
       "        }    #T_b66b7ed2_cf63_11ea_98bd_98fa9b095f1crow13_col4 {\n",
       "            text-align:  left;\n",
       "        }    #T_b66b7ed2_cf63_11ea_98bd_98fa9b095f1crow13_col5 {\n",
       "            : ;\n",
       "            text-align:  left;\n",
       "        }    #T_b66b7ed2_cf63_11ea_98bd_98fa9b095f1crow13_col6 {\n",
       "            : ;\n",
       "            text-align:  left;\n",
       "        }    #T_b66b7ed2_cf63_11ea_98bd_98fa9b095f1crow14_col0 {\n",
       "            text-align:  left;\n",
       "        }    #T_b66b7ed2_cf63_11ea_98bd_98fa9b095f1crow14_col1 {\n",
       "            : ;\n",
       "            text-align:  left;\n",
       "        }    #T_b66b7ed2_cf63_11ea_98bd_98fa9b095f1crow14_col2 {\n",
       "            : ;\n",
       "            text-align:  left;\n",
       "        }    #T_b66b7ed2_cf63_11ea_98bd_98fa9b095f1crow14_col3 {\n",
       "            : ;\n",
       "            text-align:  left;\n",
       "        }    #T_b66b7ed2_cf63_11ea_98bd_98fa9b095f1crow14_col4 {\n",
       "            text-align:  left;\n",
       "        }    #T_b66b7ed2_cf63_11ea_98bd_98fa9b095f1crow14_col5 {\n",
       "            : ;\n",
       "            text-align:  left;\n",
       "        }    #T_b66b7ed2_cf63_11ea_98bd_98fa9b095f1crow14_col6 {\n",
       "            : ;\n",
       "            text-align:  left;\n",
       "        }    #T_b66b7ed2_cf63_11ea_98bd_98fa9b095f1crow15_col0 {\n",
       "            text-align:  left;\n",
       "        }    #T_b66b7ed2_cf63_11ea_98bd_98fa9b095f1crow15_col1 {\n",
       "            : ;\n",
       "            text-align:  left;\n",
       "        }    #T_b66b7ed2_cf63_11ea_98bd_98fa9b095f1crow15_col2 {\n",
       "            : ;\n",
       "            text-align:  left;\n",
       "        }    #T_b66b7ed2_cf63_11ea_98bd_98fa9b095f1crow15_col3 {\n",
       "            : ;\n",
       "            text-align:  left;\n",
       "        }    #T_b66b7ed2_cf63_11ea_98bd_98fa9b095f1crow15_col4 {\n",
       "            text-align:  left;\n",
       "        }    #T_b66b7ed2_cf63_11ea_98bd_98fa9b095f1crow15_col5 {\n",
       "            : ;\n",
       "            text-align:  left;\n",
       "        }    #T_b66b7ed2_cf63_11ea_98bd_98fa9b095f1crow15_col6 {\n",
       "            : ;\n",
       "            text-align:  left;\n",
       "        }    #T_b66b7ed2_cf63_11ea_98bd_98fa9b095f1crow16_col0 {\n",
       "            text-align:  left;\n",
       "        }    #T_b66b7ed2_cf63_11ea_98bd_98fa9b095f1crow16_col1 {\n",
       "            : ;\n",
       "            text-align:  left;\n",
       "        }    #T_b66b7ed2_cf63_11ea_98bd_98fa9b095f1crow16_col2 {\n",
       "            : ;\n",
       "            text-align:  left;\n",
       "        }    #T_b66b7ed2_cf63_11ea_98bd_98fa9b095f1crow16_col3 {\n",
       "            : ;\n",
       "            text-align:  left;\n",
       "        }    #T_b66b7ed2_cf63_11ea_98bd_98fa9b095f1crow16_col4 {\n",
       "            text-align:  left;\n",
       "        }    #T_b66b7ed2_cf63_11ea_98bd_98fa9b095f1crow16_col5 {\n",
       "            : ;\n",
       "            text-align:  left;\n",
       "        }    #T_b66b7ed2_cf63_11ea_98bd_98fa9b095f1crow16_col6 {\n",
       "            : ;\n",
       "            text-align:  left;\n",
       "        }    #T_b66b7ed2_cf63_11ea_98bd_98fa9b095f1crow17_col0 {\n",
       "            text-align:  left;\n",
       "        }    #T_b66b7ed2_cf63_11ea_98bd_98fa9b095f1crow17_col1 {\n",
       "            : ;\n",
       "            text-align:  left;\n",
       "        }    #T_b66b7ed2_cf63_11ea_98bd_98fa9b095f1crow17_col2 {\n",
       "            : ;\n",
       "            text-align:  left;\n",
       "        }    #T_b66b7ed2_cf63_11ea_98bd_98fa9b095f1crow17_col3 {\n",
       "            : ;\n",
       "            text-align:  left;\n",
       "        }    #T_b66b7ed2_cf63_11ea_98bd_98fa9b095f1crow17_col4 {\n",
       "            text-align:  left;\n",
       "        }    #T_b66b7ed2_cf63_11ea_98bd_98fa9b095f1crow17_col5 {\n",
       "            : ;\n",
       "            text-align:  left;\n",
       "        }    #T_b66b7ed2_cf63_11ea_98bd_98fa9b095f1crow17_col6 {\n",
       "            : ;\n",
       "            text-align:  left;\n",
       "        }    #T_b66b7ed2_cf63_11ea_98bd_98fa9b095f1crow18_col0 {\n",
       "            text-align:  left;\n",
       "        }    #T_b66b7ed2_cf63_11ea_98bd_98fa9b095f1crow18_col1 {\n",
       "            : ;\n",
       "            text-align:  left;\n",
       "        }    #T_b66b7ed2_cf63_11ea_98bd_98fa9b095f1crow18_col2 {\n",
       "            : ;\n",
       "            text-align:  left;\n",
       "        }    #T_b66b7ed2_cf63_11ea_98bd_98fa9b095f1crow18_col3 {\n",
       "            : ;\n",
       "            text-align:  left;\n",
       "        }    #T_b66b7ed2_cf63_11ea_98bd_98fa9b095f1crow18_col4 {\n",
       "            text-align:  left;\n",
       "        }    #T_b66b7ed2_cf63_11ea_98bd_98fa9b095f1crow18_col5 {\n",
       "            : ;\n",
       "            text-align:  left;\n",
       "        }    #T_b66b7ed2_cf63_11ea_98bd_98fa9b095f1crow18_col6 {\n",
       "            : ;\n",
       "            text-align:  left;\n",
       "        }    #T_b66b7ed2_cf63_11ea_98bd_98fa9b095f1crow19_col0 {\n",
       "            text-align:  left;\n",
       "        }    #T_b66b7ed2_cf63_11ea_98bd_98fa9b095f1crow19_col1 {\n",
       "            : ;\n",
       "            text-align:  left;\n",
       "        }    #T_b66b7ed2_cf63_11ea_98bd_98fa9b095f1crow19_col2 {\n",
       "            : ;\n",
       "            text-align:  left;\n",
       "        }    #T_b66b7ed2_cf63_11ea_98bd_98fa9b095f1crow19_col3 {\n",
       "            : ;\n",
       "            text-align:  left;\n",
       "        }    #T_b66b7ed2_cf63_11ea_98bd_98fa9b095f1crow19_col4 {\n",
       "            text-align:  left;\n",
       "        }    #T_b66b7ed2_cf63_11ea_98bd_98fa9b095f1crow19_col5 {\n",
       "            : ;\n",
       "            text-align:  left;\n",
       "        }    #T_b66b7ed2_cf63_11ea_98bd_98fa9b095f1crow19_col6 {\n",
       "            : ;\n",
       "            text-align:  left;\n",
       "        }    #T_b66b7ed2_cf63_11ea_98bd_98fa9b095f1crow20_col0 {\n",
       "            text-align:  left;\n",
       "        }    #T_b66b7ed2_cf63_11ea_98bd_98fa9b095f1crow20_col1 {\n",
       "            : ;\n",
       "            text-align:  left;\n",
       "        }    #T_b66b7ed2_cf63_11ea_98bd_98fa9b095f1crow20_col2 {\n",
       "            : ;\n",
       "            text-align:  left;\n",
       "        }    #T_b66b7ed2_cf63_11ea_98bd_98fa9b095f1crow20_col3 {\n",
       "            : ;\n",
       "            text-align:  left;\n",
       "        }    #T_b66b7ed2_cf63_11ea_98bd_98fa9b095f1crow20_col4 {\n",
       "            text-align:  left;\n",
       "        }    #T_b66b7ed2_cf63_11ea_98bd_98fa9b095f1crow20_col5 {\n",
       "            : ;\n",
       "            text-align:  left;\n",
       "        }    #T_b66b7ed2_cf63_11ea_98bd_98fa9b095f1crow20_col6 {\n",
       "            : ;\n",
       "            text-align:  left;\n",
       "        }    #T_b66b7ed2_cf63_11ea_98bd_98fa9b095f1crow21_col0 {\n",
       "            text-align:  left;\n",
       "        }    #T_b66b7ed2_cf63_11ea_98bd_98fa9b095f1crow21_col1 {\n",
       "            : ;\n",
       "            text-align:  left;\n",
       "        }    #T_b66b7ed2_cf63_11ea_98bd_98fa9b095f1crow21_col2 {\n",
       "            : ;\n",
       "            text-align:  left;\n",
       "        }    #T_b66b7ed2_cf63_11ea_98bd_98fa9b095f1crow21_col3 {\n",
       "            : ;\n",
       "            text-align:  left;\n",
       "        }    #T_b66b7ed2_cf63_11ea_98bd_98fa9b095f1crow21_col4 {\n",
       "            text-align:  left;\n",
       "        }    #T_b66b7ed2_cf63_11ea_98bd_98fa9b095f1crow21_col5 {\n",
       "            : ;\n",
       "            text-align:  left;\n",
       "        }    #T_b66b7ed2_cf63_11ea_98bd_98fa9b095f1crow21_col6 {\n",
       "            : ;\n",
       "            text-align:  left;\n",
       "        }</style><table id=\"T_b66b7ed2_cf63_11ea_98bd_98fa9b095f1c\" ><thead>    <tr>        <th class=\"blank level0\" ></th>        <th class=\"col_heading level0 col0\" >Model</th>        <th class=\"col_heading level0 col1\" >MAE</th>        <th class=\"col_heading level0 col2\" >MSE</th>        <th class=\"col_heading level0 col3\" >RMSE</th>        <th class=\"col_heading level0 col4\" >R2</th>        <th class=\"col_heading level0 col5\" >RMSLE</th>        <th class=\"col_heading level0 col6\" >MAPE</th>    </tr></thead><tbody>\n",
       "                <tr>\n",
       "                        <th id=\"T_b66b7ed2_cf63_11ea_98bd_98fa9b095f1clevel0_row0\" class=\"row_heading level0 row0\" >0</th>\n",
       "                        <td id=\"T_b66b7ed2_cf63_11ea_98bd_98fa9b095f1crow0_col0\" class=\"data row0 col0\" >CatBoost Regressor</td>\n",
       "                        <td id=\"T_b66b7ed2_cf63_11ea_98bd_98fa9b095f1crow0_col1\" class=\"data row0 col1\" >1.978400</td>\n",
       "                        <td id=\"T_b66b7ed2_cf63_11ea_98bd_98fa9b095f1crow0_col2\" class=\"data row0 col2\" >9.728900</td>\n",
       "                        <td id=\"T_b66b7ed2_cf63_11ea_98bd_98fa9b095f1crow0_col3\" class=\"data row0 col3\" >3.006400</td>\n",
       "                        <td id=\"T_b66b7ed2_cf63_11ea_98bd_98fa9b095f1crow0_col4\" class=\"data row0 col4\" >0.895800</td>\n",
       "                        <td id=\"T_b66b7ed2_cf63_11ea_98bd_98fa9b095f1crow0_col5\" class=\"data row0 col5\" >0.136600</td>\n",
       "                        <td id=\"T_b66b7ed2_cf63_11ea_98bd_98fa9b095f1crow0_col6\" class=\"data row0 col6\" >0.100900</td>\n",
       "            </tr>\n",
       "            <tr>\n",
       "                        <th id=\"T_b66b7ed2_cf63_11ea_98bd_98fa9b095f1clevel0_row1\" class=\"row_heading level0 row1\" >1</th>\n",
       "                        <td id=\"T_b66b7ed2_cf63_11ea_98bd_98fa9b095f1crow1_col0\" class=\"data row1 col0\" >Extra Trees Regressor</td>\n",
       "                        <td id=\"T_b66b7ed2_cf63_11ea_98bd_98fa9b095f1crow1_col1\" class=\"data row1 col1\" >2.043800</td>\n",
       "                        <td id=\"T_b66b7ed2_cf63_11ea_98bd_98fa9b095f1crow1_col2\" class=\"data row1 col2\" >9.408500</td>\n",
       "                        <td id=\"T_b66b7ed2_cf63_11ea_98bd_98fa9b095f1crow1_col3\" class=\"data row1 col3\" >3.013100</td>\n",
       "                        <td id=\"T_b66b7ed2_cf63_11ea_98bd_98fa9b095f1crow1_col4\" class=\"data row1 col4\" >0.895000</td>\n",
       "                        <td id=\"T_b66b7ed2_cf63_11ea_98bd_98fa9b095f1crow1_col5\" class=\"data row1 col5\" >0.135600</td>\n",
       "                        <td id=\"T_b66b7ed2_cf63_11ea_98bd_98fa9b095f1crow1_col6\" class=\"data row1 col6\" >0.102700</td>\n",
       "            </tr>\n",
       "            <tr>\n",
       "                        <th id=\"T_b66b7ed2_cf63_11ea_98bd_98fa9b095f1clevel0_row2\" class=\"row_heading level0 row2\" >2</th>\n",
       "                        <td id=\"T_b66b7ed2_cf63_11ea_98bd_98fa9b095f1crow2_col0\" class=\"data row2 col0\" >Gradient Boosting Regressor</td>\n",
       "                        <td id=\"T_b66b7ed2_cf63_11ea_98bd_98fa9b095f1crow2_col1\" class=\"data row2 col1\" >2.166100</td>\n",
       "                        <td id=\"T_b66b7ed2_cf63_11ea_98bd_98fa9b095f1crow2_col2\" class=\"data row2 col2\" >10.408800</td>\n",
       "                        <td id=\"T_b66b7ed2_cf63_11ea_98bd_98fa9b095f1crow2_col3\" class=\"data row2 col3\" >3.139100</td>\n",
       "                        <td id=\"T_b66b7ed2_cf63_11ea_98bd_98fa9b095f1crow2_col4\" class=\"data row2 col4\" >0.880400</td>\n",
       "                        <td id=\"T_b66b7ed2_cf63_11ea_98bd_98fa9b095f1crow2_col5\" class=\"data row2 col5\" >0.147800</td>\n",
       "                        <td id=\"T_b66b7ed2_cf63_11ea_98bd_98fa9b095f1crow2_col6\" class=\"data row2 col6\" >0.114200</td>\n",
       "            </tr>\n",
       "            <tr>\n",
       "                        <th id=\"T_b66b7ed2_cf63_11ea_98bd_98fa9b095f1clevel0_row3\" class=\"row_heading level0 row3\" >3</th>\n",
       "                        <td id=\"T_b66b7ed2_cf63_11ea_98bd_98fa9b095f1crow3_col0\" class=\"data row3 col0\" >Random Forest</td>\n",
       "                        <td id=\"T_b66b7ed2_cf63_11ea_98bd_98fa9b095f1crow3_col1\" class=\"data row3 col1\" >2.258500</td>\n",
       "                        <td id=\"T_b66b7ed2_cf63_11ea_98bd_98fa9b095f1crow3_col2\" class=\"data row3 col2\" >11.052000</td>\n",
       "                        <td id=\"T_b66b7ed2_cf63_11ea_98bd_98fa9b095f1crow3_col3\" class=\"data row3 col3\" >3.245900</td>\n",
       "                        <td id=\"T_b66b7ed2_cf63_11ea_98bd_98fa9b095f1crow3_col4\" class=\"data row3 col4\" >0.875300</td>\n",
       "                        <td id=\"T_b66b7ed2_cf63_11ea_98bd_98fa9b095f1crow3_col5\" class=\"data row3 col5\" >0.149500</td>\n",
       "                        <td id=\"T_b66b7ed2_cf63_11ea_98bd_98fa9b095f1crow3_col6\" class=\"data row3 col6\" >0.116800</td>\n",
       "            </tr>\n",
       "            <tr>\n",
       "                        <th id=\"T_b66b7ed2_cf63_11ea_98bd_98fa9b095f1clevel0_row4\" class=\"row_heading level0 row4\" >4</th>\n",
       "                        <td id=\"T_b66b7ed2_cf63_11ea_98bd_98fa9b095f1crow4_col0\" class=\"data row4 col0\" >Light Gradient Boosting Machine</td>\n",
       "                        <td id=\"T_b66b7ed2_cf63_11ea_98bd_98fa9b095f1crow4_col1\" class=\"data row4 col1\" >2.247400</td>\n",
       "                        <td id=\"T_b66b7ed2_cf63_11ea_98bd_98fa9b095f1crow4_col2\" class=\"data row4 col2\" >11.702800</td>\n",
       "                        <td id=\"T_b66b7ed2_cf63_11ea_98bd_98fa9b095f1crow4_col3\" class=\"data row4 col3\" >3.332500</td>\n",
       "                        <td id=\"T_b66b7ed2_cf63_11ea_98bd_98fa9b095f1crow4_col4\" class=\"data row4 col4\" >0.869700</td>\n",
       "                        <td id=\"T_b66b7ed2_cf63_11ea_98bd_98fa9b095f1crow4_col5\" class=\"data row4 col5\" >0.151500</td>\n",
       "                        <td id=\"T_b66b7ed2_cf63_11ea_98bd_98fa9b095f1crow4_col6\" class=\"data row4 col6\" >0.113700</td>\n",
       "            </tr>\n",
       "            <tr>\n",
       "                        <th id=\"T_b66b7ed2_cf63_11ea_98bd_98fa9b095f1clevel0_row5\" class=\"row_heading level0 row5\" >5</th>\n",
       "                        <td id=\"T_b66b7ed2_cf63_11ea_98bd_98fa9b095f1crow5_col0\" class=\"data row5 col0\" >Extreme Gradient Boosting</td>\n",
       "                        <td id=\"T_b66b7ed2_cf63_11ea_98bd_98fa9b095f1crow5_col1\" class=\"data row5 col1\" >2.269900</td>\n",
       "                        <td id=\"T_b66b7ed2_cf63_11ea_98bd_98fa9b095f1crow5_col2\" class=\"data row5 col2\" >11.524100</td>\n",
       "                        <td id=\"T_b66b7ed2_cf63_11ea_98bd_98fa9b095f1crow5_col3\" class=\"data row5 col3\" >3.327100</td>\n",
       "                        <td id=\"T_b66b7ed2_cf63_11ea_98bd_98fa9b095f1crow5_col4\" class=\"data row5 col4\" >0.869300</td>\n",
       "                        <td id=\"T_b66b7ed2_cf63_11ea_98bd_98fa9b095f1crow5_col5\" class=\"data row5 col5\" >0.155400</td>\n",
       "                        <td id=\"T_b66b7ed2_cf63_11ea_98bd_98fa9b095f1crow5_col6\" class=\"data row5 col6\" >0.118300</td>\n",
       "            </tr>\n",
       "            <tr>\n",
       "                        <th id=\"T_b66b7ed2_cf63_11ea_98bd_98fa9b095f1clevel0_row6\" class=\"row_heading level0 row6\" >6</th>\n",
       "                        <td id=\"T_b66b7ed2_cf63_11ea_98bd_98fa9b095f1crow6_col0\" class=\"data row6 col0\" >AdaBoost Regressor</td>\n",
       "                        <td id=\"T_b66b7ed2_cf63_11ea_98bd_98fa9b095f1crow6_col1\" class=\"data row6 col1\" >2.610700</td>\n",
       "                        <td id=\"T_b66b7ed2_cf63_11ea_98bd_98fa9b095f1crow6_col2\" class=\"data row6 col2\" >13.674300</td>\n",
       "                        <td id=\"T_b66b7ed2_cf63_11ea_98bd_98fa9b095f1crow6_col3\" class=\"data row6 col3\" >3.610900</td>\n",
       "                        <td id=\"T_b66b7ed2_cf63_11ea_98bd_98fa9b095f1crow6_col4\" class=\"data row6 col4\" >0.845800</td>\n",
       "                        <td id=\"T_b66b7ed2_cf63_11ea_98bd_98fa9b095f1crow6_col5\" class=\"data row6 col5\" >0.176600</td>\n",
       "                        <td id=\"T_b66b7ed2_cf63_11ea_98bd_98fa9b095f1crow6_col6\" class=\"data row6 col6\" >0.145900</td>\n",
       "            </tr>\n",
       "            <tr>\n",
       "                        <th id=\"T_b66b7ed2_cf63_11ea_98bd_98fa9b095f1clevel0_row7\" class=\"row_heading level0 row7\" >7</th>\n",
       "                        <td id=\"T_b66b7ed2_cf63_11ea_98bd_98fa9b095f1crow7_col0\" class=\"data row7 col0\" >Ridge Regression</td>\n",
       "                        <td id=\"T_b66b7ed2_cf63_11ea_98bd_98fa9b095f1crow7_col1\" class=\"data row7 col1\" >3.369900</td>\n",
       "                        <td id=\"T_b66b7ed2_cf63_11ea_98bd_98fa9b095f1crow7_col2\" class=\"data row7 col2\" >24.443400</td>\n",
       "                        <td id=\"T_b66b7ed2_cf63_11ea_98bd_98fa9b095f1crow7_col3\" class=\"data row7 col3\" >4.799200</td>\n",
       "                        <td id=\"T_b66b7ed2_cf63_11ea_98bd_98fa9b095f1crow7_col4\" class=\"data row7 col4\" >0.729000</td>\n",
       "                        <td id=\"T_b66b7ed2_cf63_11ea_98bd_98fa9b095f1crow7_col5\" class=\"data row7 col5\" >0.234900</td>\n",
       "                        <td id=\"T_b66b7ed2_cf63_11ea_98bd_98fa9b095f1crow7_col6\" class=\"data row7 col6\" >0.166200</td>\n",
       "            </tr>\n",
       "            <tr>\n",
       "                        <th id=\"T_b66b7ed2_cf63_11ea_98bd_98fa9b095f1clevel0_row8\" class=\"row_heading level0 row8\" >8</th>\n",
       "                        <td id=\"T_b66b7ed2_cf63_11ea_98bd_98fa9b095f1crow8_col0\" class=\"data row8 col0\" >Linear Regression</td>\n",
       "                        <td id=\"T_b66b7ed2_cf63_11ea_98bd_98fa9b095f1crow8_col1\" class=\"data row8 col1\" >3.445300</td>\n",
       "                        <td id=\"T_b66b7ed2_cf63_11ea_98bd_98fa9b095f1crow8_col2\" class=\"data row8 col2\" >24.281500</td>\n",
       "                        <td id=\"T_b66b7ed2_cf63_11ea_98bd_98fa9b095f1crow8_col3\" class=\"data row8 col3\" >4.805300</td>\n",
       "                        <td id=\"T_b66b7ed2_cf63_11ea_98bd_98fa9b095f1crow8_col4\" class=\"data row8 col4\" >0.728800</td>\n",
       "                        <td id=\"T_b66b7ed2_cf63_11ea_98bd_98fa9b095f1crow8_col5\" class=\"data row8 col5\" >0.225800</td>\n",
       "                        <td id=\"T_b66b7ed2_cf63_11ea_98bd_98fa9b095f1crow8_col6\" class=\"data row8 col6\" >0.170000</td>\n",
       "            </tr>\n",
       "            <tr>\n",
       "                        <th id=\"T_b66b7ed2_cf63_11ea_98bd_98fa9b095f1clevel0_row9\" class=\"row_heading level0 row9\" >9</th>\n",
       "                        <td id=\"T_b66b7ed2_cf63_11ea_98bd_98fa9b095f1crow9_col0\" class=\"data row9 col0\" >Least Angle Regression</td>\n",
       "                        <td id=\"T_b66b7ed2_cf63_11ea_98bd_98fa9b095f1crow9_col1\" class=\"data row9 col1\" >3.441300</td>\n",
       "                        <td id=\"T_b66b7ed2_cf63_11ea_98bd_98fa9b095f1crow9_col2\" class=\"data row9 col2\" >24.470600</td>\n",
       "                        <td id=\"T_b66b7ed2_cf63_11ea_98bd_98fa9b095f1crow9_col3\" class=\"data row9 col3\" >4.819300</td>\n",
       "                        <td id=\"T_b66b7ed2_cf63_11ea_98bd_98fa9b095f1crow9_col4\" class=\"data row9 col4\" >0.727300</td>\n",
       "                        <td id=\"T_b66b7ed2_cf63_11ea_98bd_98fa9b095f1crow9_col5\" class=\"data row9 col5\" >0.230000</td>\n",
       "                        <td id=\"T_b66b7ed2_cf63_11ea_98bd_98fa9b095f1crow9_col6\" class=\"data row9 col6\" >0.170600</td>\n",
       "            </tr>\n",
       "            <tr>\n",
       "                        <th id=\"T_b66b7ed2_cf63_11ea_98bd_98fa9b095f1clevel0_row10\" class=\"row_heading level0 row10\" >10</th>\n",
       "                        <td id=\"T_b66b7ed2_cf63_11ea_98bd_98fa9b095f1crow10_col0\" class=\"data row10 col0\" >Bayesian Ridge</td>\n",
       "                        <td id=\"T_b66b7ed2_cf63_11ea_98bd_98fa9b095f1crow10_col1\" class=\"data row10 col1\" >3.385100</td>\n",
       "                        <td id=\"T_b66b7ed2_cf63_11ea_98bd_98fa9b095f1crow10_col2\" class=\"data row10 col2\" >25.277200</td>\n",
       "                        <td id=\"T_b66b7ed2_cf63_11ea_98bd_98fa9b095f1crow10_col3\" class=\"data row10 col3\" >4.871200</td>\n",
       "                        <td id=\"T_b66b7ed2_cf63_11ea_98bd_98fa9b095f1crow10_col4\" class=\"data row10 col4\" >0.720700</td>\n",
       "                        <td id=\"T_b66b7ed2_cf63_11ea_98bd_98fa9b095f1crow10_col5\" class=\"data row10 col5\" >0.231600</td>\n",
       "                        <td id=\"T_b66b7ed2_cf63_11ea_98bd_98fa9b095f1crow10_col6\" class=\"data row10 col6\" >0.166600</td>\n",
       "            </tr>\n",
       "            <tr>\n",
       "                        <th id=\"T_b66b7ed2_cf63_11ea_98bd_98fa9b095f1clevel0_row11\" class=\"row_heading level0 row11\" >11</th>\n",
       "                        <td id=\"T_b66b7ed2_cf63_11ea_98bd_98fa9b095f1crow11_col0\" class=\"data row11 col0\" >Decision Tree</td>\n",
       "                        <td id=\"T_b66b7ed2_cf63_11ea_98bd_98fa9b095f1crow11_col1\" class=\"data row11 col1\" >3.324500</td>\n",
       "                        <td id=\"T_b66b7ed2_cf63_11ea_98bd_98fa9b095f1crow11_col2\" class=\"data row11 col2\" >24.393900</td>\n",
       "                        <td id=\"T_b66b7ed2_cf63_11ea_98bd_98fa9b095f1crow11_col3\" class=\"data row11 col3\" >4.831100</td>\n",
       "                        <td id=\"T_b66b7ed2_cf63_11ea_98bd_98fa9b095f1crow11_col4\" class=\"data row11 col4\" >0.717900</td>\n",
       "                        <td id=\"T_b66b7ed2_cf63_11ea_98bd_98fa9b095f1crow11_col5\" class=\"data row11 col5\" >0.221000</td>\n",
       "                        <td id=\"T_b66b7ed2_cf63_11ea_98bd_98fa9b095f1crow11_col6\" class=\"data row11 col6\" >0.174300</td>\n",
       "            </tr>\n",
       "            <tr>\n",
       "                        <th id=\"T_b66b7ed2_cf63_11ea_98bd_98fa9b095f1clevel0_row12\" class=\"row_heading level0 row12\" >12</th>\n",
       "                        <td id=\"T_b66b7ed2_cf63_11ea_98bd_98fa9b095f1crow12_col0\" class=\"data row12 col0\" >TheilSen Regressor</td>\n",
       "                        <td id=\"T_b66b7ed2_cf63_11ea_98bd_98fa9b095f1crow12_col1\" class=\"data row12 col1\" >3.311200</td>\n",
       "                        <td id=\"T_b66b7ed2_cf63_11ea_98bd_98fa9b095f1crow12_col2\" class=\"data row12 col2\" >26.338500</td>\n",
       "                        <td id=\"T_b66b7ed2_cf63_11ea_98bd_98fa9b095f1crow12_col3\" class=\"data row12 col3\" >4.944800</td>\n",
       "                        <td id=\"T_b66b7ed2_cf63_11ea_98bd_98fa9b095f1crow12_col4\" class=\"data row12 col4\" >0.717300</td>\n",
       "                        <td id=\"T_b66b7ed2_cf63_11ea_98bd_98fa9b095f1crow12_col5\" class=\"data row12 col5\" >0.230800</td>\n",
       "                        <td id=\"T_b66b7ed2_cf63_11ea_98bd_98fa9b095f1crow12_col6\" class=\"data row12 col6\" >0.156500</td>\n",
       "            </tr>\n",
       "            <tr>\n",
       "                        <th id=\"T_b66b7ed2_cf63_11ea_98bd_98fa9b095f1clevel0_row13\" class=\"row_heading level0 row13\" >13</th>\n",
       "                        <td id=\"T_b66b7ed2_cf63_11ea_98bd_98fa9b095f1crow13_col0\" class=\"data row13 col0\" >Random Sample Consensus</td>\n",
       "                        <td id=\"T_b66b7ed2_cf63_11ea_98bd_98fa9b095f1crow13_col1\" class=\"data row13 col1\" >3.240900</td>\n",
       "                        <td id=\"T_b66b7ed2_cf63_11ea_98bd_98fa9b095f1crow13_col2\" class=\"data row13 col2\" >28.155200</td>\n",
       "                        <td id=\"T_b66b7ed2_cf63_11ea_98bd_98fa9b095f1crow13_col3\" class=\"data row13 col3\" >5.043900</td>\n",
       "                        <td id=\"T_b66b7ed2_cf63_11ea_98bd_98fa9b095f1crow13_col4\" class=\"data row13 col4\" >0.701400</td>\n",
       "                        <td id=\"T_b66b7ed2_cf63_11ea_98bd_98fa9b095f1crow13_col5\" class=\"data row13 col5\" >0.242500</td>\n",
       "                        <td id=\"T_b66b7ed2_cf63_11ea_98bd_98fa9b095f1crow13_col6\" class=\"data row13 col6\" >0.160000</td>\n",
       "            </tr>\n",
       "            <tr>\n",
       "                        <th id=\"T_b66b7ed2_cf63_11ea_98bd_98fa9b095f1clevel0_row14\" class=\"row_heading level0 row14\" >14</th>\n",
       "                        <td id=\"T_b66b7ed2_cf63_11ea_98bd_98fa9b095f1crow14_col0\" class=\"data row14 col0\" >Huber Regressor</td>\n",
       "                        <td id=\"T_b66b7ed2_cf63_11ea_98bd_98fa9b095f1crow14_col1\" class=\"data row14 col1\" >3.430700</td>\n",
       "                        <td id=\"T_b66b7ed2_cf63_11ea_98bd_98fa9b095f1crow14_col2\" class=\"data row14 col2\" >29.677200</td>\n",
       "                        <td id=\"T_b66b7ed2_cf63_11ea_98bd_98fa9b095f1crow14_col3\" class=\"data row14 col3\" >5.233900</td>\n",
       "                        <td id=\"T_b66b7ed2_cf63_11ea_98bd_98fa9b095f1crow14_col4\" class=\"data row14 col4\" >0.678900</td>\n",
       "                        <td id=\"T_b66b7ed2_cf63_11ea_98bd_98fa9b095f1crow14_col5\" class=\"data row14 col5\" >0.283800</td>\n",
       "                        <td id=\"T_b66b7ed2_cf63_11ea_98bd_98fa9b095f1crow14_col6\" class=\"data row14 col6\" >0.169800</td>\n",
       "            </tr>\n",
       "            <tr>\n",
       "                        <th id=\"T_b66b7ed2_cf63_11ea_98bd_98fa9b095f1clevel0_row15\" class=\"row_heading level0 row15\" >15</th>\n",
       "                        <td id=\"T_b66b7ed2_cf63_11ea_98bd_98fa9b095f1crow15_col0\" class=\"data row15 col0\" >Elastic Net</td>\n",
       "                        <td id=\"T_b66b7ed2_cf63_11ea_98bd_98fa9b095f1crow15_col1\" class=\"data row15 col1\" >3.744000</td>\n",
       "                        <td id=\"T_b66b7ed2_cf63_11ea_98bd_98fa9b095f1crow15_col2\" class=\"data row15 col2\" >29.819200</td>\n",
       "                        <td id=\"T_b66b7ed2_cf63_11ea_98bd_98fa9b095f1crow15_col3\" class=\"data row15 col3\" >5.320300</td>\n",
       "                        <td id=\"T_b66b7ed2_cf63_11ea_98bd_98fa9b095f1crow15_col4\" class=\"data row15 col4\" >0.668700</td>\n",
       "                        <td id=\"T_b66b7ed2_cf63_11ea_98bd_98fa9b095f1crow15_col5\" class=\"data row15 col5\" >0.250400</td>\n",
       "                        <td id=\"T_b66b7ed2_cf63_11ea_98bd_98fa9b095f1crow15_col6\" class=\"data row15 col6\" >0.177300</td>\n",
       "            </tr>\n",
       "            <tr>\n",
       "                        <th id=\"T_b66b7ed2_cf63_11ea_98bd_98fa9b095f1clevel0_row16\" class=\"row_heading level0 row16\" >16</th>\n",
       "                        <td id=\"T_b66b7ed2_cf63_11ea_98bd_98fa9b095f1crow16_col0\" class=\"data row16 col0\" >Lasso Regression</td>\n",
       "                        <td id=\"T_b66b7ed2_cf63_11ea_98bd_98fa9b095f1crow16_col1\" class=\"data row16 col1\" >3.765400</td>\n",
       "                        <td id=\"T_b66b7ed2_cf63_11ea_98bd_98fa9b095f1crow16_col2\" class=\"data row16 col2\" >30.027700</td>\n",
       "                        <td id=\"T_b66b7ed2_cf63_11ea_98bd_98fa9b095f1crow16_col3\" class=\"data row16 col3\" >5.341800</td>\n",
       "                        <td id=\"T_b66b7ed2_cf63_11ea_98bd_98fa9b095f1crow16_col4\" class=\"data row16 col4\" >0.666000</td>\n",
       "                        <td id=\"T_b66b7ed2_cf63_11ea_98bd_98fa9b095f1crow16_col5\" class=\"data row16 col5\" >0.253000</td>\n",
       "                        <td id=\"T_b66b7ed2_cf63_11ea_98bd_98fa9b095f1crow16_col6\" class=\"data row16 col6\" >0.178000</td>\n",
       "            </tr>\n",
       "            <tr>\n",
       "                        <th id=\"T_b66b7ed2_cf63_11ea_98bd_98fa9b095f1clevel0_row17\" class=\"row_heading level0 row17\" >17</th>\n",
       "                        <td id=\"T_b66b7ed2_cf63_11ea_98bd_98fa9b095f1crow17_col0\" class=\"data row17 col0\" >Orthogonal Matching Pursuit</td>\n",
       "                        <td id=\"T_b66b7ed2_cf63_11ea_98bd_98fa9b095f1crow17_col1\" class=\"data row17 col1\" >3.932500</td>\n",
       "                        <td id=\"T_b66b7ed2_cf63_11ea_98bd_98fa9b095f1crow17_col2\" class=\"data row17 col2\" >31.859900</td>\n",
       "                        <td id=\"T_b66b7ed2_cf63_11ea_98bd_98fa9b095f1crow17_col3\" class=\"data row17 col3\" >5.500100</td>\n",
       "                        <td id=\"T_b66b7ed2_cf63_11ea_98bd_98fa9b095f1crow17_col4\" class=\"data row17 col4\" >0.644800</td>\n",
       "                        <td id=\"T_b66b7ed2_cf63_11ea_98bd_98fa9b095f1crow17_col5\" class=\"data row17 col5\" >0.294600</td>\n",
       "                        <td id=\"T_b66b7ed2_cf63_11ea_98bd_98fa9b095f1crow17_col6\" class=\"data row17 col6\" >0.201000</td>\n",
       "            </tr>\n",
       "            <tr>\n",
       "                        <th id=\"T_b66b7ed2_cf63_11ea_98bd_98fa9b095f1clevel0_row18\" class=\"row_heading level0 row18\" >18</th>\n",
       "                        <td id=\"T_b66b7ed2_cf63_11ea_98bd_98fa9b095f1crow18_col0\" class=\"data row18 col0\" >K Neighbors Regressor</td>\n",
       "                        <td id=\"T_b66b7ed2_cf63_11ea_98bd_98fa9b095f1crow18_col1\" class=\"data row18 col1\" >4.648300</td>\n",
       "                        <td id=\"T_b66b7ed2_cf63_11ea_98bd_98fa9b095f1crow18_col2\" class=\"data row18 col2\" >47.061200</td>\n",
       "                        <td id=\"T_b66b7ed2_cf63_11ea_98bd_98fa9b095f1crow18_col3\" class=\"data row18 col3\" >6.685400</td>\n",
       "                        <td id=\"T_b66b7ed2_cf63_11ea_98bd_98fa9b095f1crow18_col4\" class=\"data row18 col4\" >0.483900</td>\n",
       "                        <td id=\"T_b66b7ed2_cf63_11ea_98bd_98fa9b095f1crow18_col5\" class=\"data row18 col5\" >0.258400</td>\n",
       "                        <td id=\"T_b66b7ed2_cf63_11ea_98bd_98fa9b095f1crow18_col6\" class=\"data row18 col6\" >0.215100</td>\n",
       "            </tr>\n",
       "            <tr>\n",
       "                        <th id=\"T_b66b7ed2_cf63_11ea_98bd_98fa9b095f1clevel0_row19\" class=\"row_heading level0 row19\" >19</th>\n",
       "                        <td id=\"T_b66b7ed2_cf63_11ea_98bd_98fa9b095f1crow19_col0\" class=\"data row19 col0\" >Support Vector Machine</td>\n",
       "                        <td id=\"T_b66b7ed2_cf63_11ea_98bd_98fa9b095f1crow19_col1\" class=\"data row19 col1\" >5.547700</td>\n",
       "                        <td id=\"T_b66b7ed2_cf63_11ea_98bd_98fa9b095f1crow19_col2\" class=\"data row19 col2\" >72.598000</td>\n",
       "                        <td id=\"T_b66b7ed2_cf63_11ea_98bd_98fa9b095f1crow19_col3\" class=\"data row19 col3\" >8.382100</td>\n",
       "                        <td id=\"T_b66b7ed2_cf63_11ea_98bd_98fa9b095f1crow19_col4\" class=\"data row19 col4\" >0.188200</td>\n",
       "                        <td id=\"T_b66b7ed2_cf63_11ea_98bd_98fa9b095f1crow19_col5\" class=\"data row19 col5\" >0.320300</td>\n",
       "                        <td id=\"T_b66b7ed2_cf63_11ea_98bd_98fa9b095f1crow19_col6\" class=\"data row19 col6\" >0.251100</td>\n",
       "            </tr>\n",
       "            <tr>\n",
       "                        <th id=\"T_b66b7ed2_cf63_11ea_98bd_98fa9b095f1clevel0_row20\" class=\"row_heading level0 row20\" >20</th>\n",
       "                        <td id=\"T_b66b7ed2_cf63_11ea_98bd_98fa9b095f1crow20_col0\" class=\"data row20 col0\" >Passive Aggressive Regressor</td>\n",
       "                        <td id=\"T_b66b7ed2_cf63_11ea_98bd_98fa9b095f1crow20_col1\" class=\"data row20 col1\" >6.739900</td>\n",
       "                        <td id=\"T_b66b7ed2_cf63_11ea_98bd_98fa9b095f1crow20_col2\" class=\"data row20 col2\" >86.134400</td>\n",
       "                        <td id=\"T_b66b7ed2_cf63_11ea_98bd_98fa9b095f1crow20_col3\" class=\"data row20 col3\" >9.053600</td>\n",
       "                        <td id=\"T_b66b7ed2_cf63_11ea_98bd_98fa9b095f1crow20_col4\" class=\"data row20 col4\" >0.043300</td>\n",
       "                        <td id=\"T_b66b7ed2_cf63_11ea_98bd_98fa9b095f1crow20_col5\" class=\"data row20 col5\" >0.420000</td>\n",
       "                        <td id=\"T_b66b7ed2_cf63_11ea_98bd_98fa9b095f1crow20_col6\" class=\"data row20 col6\" >0.338800</td>\n",
       "            </tr>\n",
       "            <tr>\n",
       "                        <th id=\"T_b66b7ed2_cf63_11ea_98bd_98fa9b095f1clevel0_row21\" class=\"row_heading level0 row21\" >21</th>\n",
       "                        <td id=\"T_b66b7ed2_cf63_11ea_98bd_98fa9b095f1crow21_col0\" class=\"data row21 col0\" >Lasso Least Angle Regression</td>\n",
       "                        <td id=\"T_b66b7ed2_cf63_11ea_98bd_98fa9b095f1crow21_col1\" class=\"data row21 col1\" >6.827100</td>\n",
       "                        <td id=\"T_b66b7ed2_cf63_11ea_98bd_98fa9b095f1crow21_col2\" class=\"data row21 col2\" >88.855800</td>\n",
       "                        <td id=\"T_b66b7ed2_cf63_11ea_98bd_98fa9b095f1crow21_col3\" class=\"data row21 col3\" >9.336800</td>\n",
       "                        <td id=\"T_b66b7ed2_cf63_11ea_98bd_98fa9b095f1crow21_col4\" class=\"data row21 col4\" >-0.013200</td>\n",
       "                        <td id=\"T_b66b7ed2_cf63_11ea_98bd_98fa9b095f1crow21_col5\" class=\"data row21 col5\" >0.394100</td>\n",
       "                        <td id=\"T_b66b7ed2_cf63_11ea_98bd_98fa9b095f1crow21_col6\" class=\"data row21 col6\" >0.371600</td>\n",
       "            </tr>\n",
       "    </tbody></table>"
      ],
      "text/plain": [
       "<pandas.io.formats.style.Styler at 0x1f9f0d9d9e8>"
      ]
     },
     "execution_count": 12,
     "metadata": {},
     "output_type": "execute_result"
    }
   ],
   "source": [
    "compare_models()"
   ]
  },
  {
   "cell_type": "code",
   "execution_count": 14,
   "metadata": {},
   "outputs": [
    {
     "data": {
      "text/html": [
       "<div>\n",
       "<style scoped>\n",
       "    .dataframe tbody tr th:only-of-type {\n",
       "        vertical-align: middle;\n",
       "    }\n",
       "\n",
       "    .dataframe tbody tr th {\n",
       "        vertical-align: top;\n",
       "    }\n",
       "\n",
       "    .dataframe thead th {\n",
       "        text-align: right;\n",
       "    }\n",
       "</style>\n",
       "<table border=\"1\" class=\"dataframe\">\n",
       "  <thead>\n",
       "    <tr style=\"text-align: right;\">\n",
       "      <th></th>\n",
       "      <th>MAE</th>\n",
       "      <th>MSE</th>\n",
       "      <th>RMSE</th>\n",
       "      <th>R2</th>\n",
       "      <th>RMSLE</th>\n",
       "      <th>MAPE</th>\n",
       "    </tr>\n",
       "  </thead>\n",
       "  <tbody>\n",
       "    <tr>\n",
       "      <th>0</th>\n",
       "      <td>1.3720</td>\n",
       "      <td>3.1658</td>\n",
       "      <td>1.7793</td>\n",
       "      <td>0.9313</td>\n",
       "      <td>0.0879</td>\n",
       "      <td>0.0682</td>\n",
       "    </tr>\n",
       "    <tr>\n",
       "      <th>1</th>\n",
       "      <td>1.9392</td>\n",
       "      <td>7.3208</td>\n",
       "      <td>2.7057</td>\n",
       "      <td>0.8980</td>\n",
       "      <td>0.1176</td>\n",
       "      <td>0.0879</td>\n",
       "    </tr>\n",
       "    <tr>\n",
       "      <th>2</th>\n",
       "      <td>2.6314</td>\n",
       "      <td>15.3445</td>\n",
       "      <td>3.9172</td>\n",
       "      <td>0.8597</td>\n",
       "      <td>0.1414</td>\n",
       "      <td>0.1106</td>\n",
       "    </tr>\n",
       "    <tr>\n",
       "      <th>3</th>\n",
       "      <td>2.3820</td>\n",
       "      <td>18.1305</td>\n",
       "      <td>4.2580</td>\n",
       "      <td>0.8478</td>\n",
       "      <td>0.1841</td>\n",
       "      <td>0.1228</td>\n",
       "    </tr>\n",
       "    <tr>\n",
       "      <th>4</th>\n",
       "      <td>1.9684</td>\n",
       "      <td>11.9596</td>\n",
       "      <td>3.4583</td>\n",
       "      <td>0.8973</td>\n",
       "      <td>0.1497</td>\n",
       "      <td>0.1032</td>\n",
       "    </tr>\n",
       "    <tr>\n",
       "      <th>5</th>\n",
       "      <td>2.2868</td>\n",
       "      <td>12.0299</td>\n",
       "      <td>3.4684</td>\n",
       "      <td>0.8782</td>\n",
       "      <td>0.1662</td>\n",
       "      <td>0.1261</td>\n",
       "    </tr>\n",
       "    <tr>\n",
       "      <th>6</th>\n",
       "      <td>1.4520</td>\n",
       "      <td>3.5441</td>\n",
       "      <td>1.8826</td>\n",
       "      <td>0.9369</td>\n",
       "      <td>0.0915</td>\n",
       "      <td>0.0744</td>\n",
       "    </tr>\n",
       "    <tr>\n",
       "      <th>7</th>\n",
       "      <td>2.1711</td>\n",
       "      <td>10.5806</td>\n",
       "      <td>3.2528</td>\n",
       "      <td>0.8931</td>\n",
       "      <td>0.1165</td>\n",
       "      <td>0.0931</td>\n",
       "    </tr>\n",
       "    <tr>\n",
       "      <th>8</th>\n",
       "      <td>1.3839</td>\n",
       "      <td>3.9324</td>\n",
       "      <td>1.9830</td>\n",
       "      <td>0.9494</td>\n",
       "      <td>0.1404</td>\n",
       "      <td>0.0987</td>\n",
       "    </tr>\n",
       "    <tr>\n",
       "      <th>9</th>\n",
       "      <td>2.1974</td>\n",
       "      <td>11.2807</td>\n",
       "      <td>3.3587</td>\n",
       "      <td>0.8663</td>\n",
       "      <td>0.1707</td>\n",
       "      <td>0.1239</td>\n",
       "    </tr>\n",
       "    <tr>\n",
       "      <th>Mean</th>\n",
       "      <td>1.9784</td>\n",
       "      <td>9.7289</td>\n",
       "      <td>3.0064</td>\n",
       "      <td>0.8958</td>\n",
       "      <td>0.1366</td>\n",
       "      <td>0.1009</td>\n",
       "    </tr>\n",
       "    <tr>\n",
       "      <th>SD</th>\n",
       "      <td>0.4206</td>\n",
       "      <td>4.8606</td>\n",
       "      <td>0.8310</td>\n",
       "      <td>0.0326</td>\n",
       "      <td>0.0311</td>\n",
       "      <td>0.0194</td>\n",
       "    </tr>\n",
       "  </tbody>\n",
       "</table>\n",
       "</div>"
      ],
      "text/plain": [
       "         MAE      MSE    RMSE      R2   RMSLE    MAPE\n",
       "0     1.3720   3.1658  1.7793  0.9313  0.0879  0.0682\n",
       "1     1.9392   7.3208  2.7057  0.8980  0.1176  0.0879\n",
       "2     2.6314  15.3445  3.9172  0.8597  0.1414  0.1106\n",
       "3     2.3820  18.1305  4.2580  0.8478  0.1841  0.1228\n",
       "4     1.9684  11.9596  3.4583  0.8973  0.1497  0.1032\n",
       "5     2.2868  12.0299  3.4684  0.8782  0.1662  0.1261\n",
       "6     1.4520   3.5441  1.8826  0.9369  0.0915  0.0744\n",
       "7     2.1711  10.5806  3.2528  0.8931  0.1165  0.0931\n",
       "8     1.3839   3.9324  1.9830  0.9494  0.1404  0.0987\n",
       "9     2.1974  11.2807  3.3587  0.8663  0.1707  0.1239\n",
       "Mean  1.9784   9.7289  3.0064  0.8958  0.1366  0.1009\n",
       "SD    0.4206   4.8606  0.8310  0.0326  0.0311  0.0194"
      ]
     },
     "metadata": {},
     "output_type": "display_data"
    }
   ],
   "source": [
    "reg_model=create_model('catboost')"
   ]
  },
  {
   "cell_type": "code",
   "execution_count": 15,
   "metadata": {},
   "outputs": [
    {
     "data": {
      "text/plain": [
       "<catboost.core.CatBoostRegressor at 0x1f9f03f3198>"
      ]
     },
     "execution_count": 15,
     "metadata": {},
     "output_type": "execute_result"
    }
   ],
   "source": [
    "reg_model"
   ]
  },
  {
   "cell_type": "markdown",
   "metadata": {},
   "source": [
    "# Hyper Tuning of Model"
   ]
  },
  {
   "cell_type": "code",
   "execution_count": 16,
   "metadata": {},
   "outputs": [
    {
     "data": {
      "text/html": [
       "<div>\n",
       "<style scoped>\n",
       "    .dataframe tbody tr th:only-of-type {\n",
       "        vertical-align: middle;\n",
       "    }\n",
       "\n",
       "    .dataframe tbody tr th {\n",
       "        vertical-align: top;\n",
       "    }\n",
       "\n",
       "    .dataframe thead th {\n",
       "        text-align: right;\n",
       "    }\n",
       "</style>\n",
       "<table border=\"1\" class=\"dataframe\">\n",
       "  <thead>\n",
       "    <tr style=\"text-align: right;\">\n",
       "      <th></th>\n",
       "      <th>MAE</th>\n",
       "      <th>MSE</th>\n",
       "      <th>RMSE</th>\n",
       "      <th>R2</th>\n",
       "      <th>RMSLE</th>\n",
       "      <th>MAPE</th>\n",
       "    </tr>\n",
       "  </thead>\n",
       "  <tbody>\n",
       "    <tr>\n",
       "      <th>0</th>\n",
       "      <td>1.5321</td>\n",
       "      <td>3.7499</td>\n",
       "      <td>1.9365</td>\n",
       "      <td>0.9186</td>\n",
       "      <td>0.0863</td>\n",
       "      <td>0.0711</td>\n",
       "    </tr>\n",
       "    <tr>\n",
       "      <th>1</th>\n",
       "      <td>2.1270</td>\n",
       "      <td>9.0039</td>\n",
       "      <td>3.0007</td>\n",
       "      <td>0.8746</td>\n",
       "      <td>0.1249</td>\n",
       "      <td>0.0931</td>\n",
       "    </tr>\n",
       "    <tr>\n",
       "      <th>2</th>\n",
       "      <td>2.7154</td>\n",
       "      <td>18.5503</td>\n",
       "      <td>4.3070</td>\n",
       "      <td>0.8304</td>\n",
       "      <td>0.1541</td>\n",
       "      <td>0.1122</td>\n",
       "    </tr>\n",
       "    <tr>\n",
       "      <th>3</th>\n",
       "      <td>2.3026</td>\n",
       "      <td>12.1384</td>\n",
       "      <td>3.4840</td>\n",
       "      <td>0.8981</td>\n",
       "      <td>0.1587</td>\n",
       "      <td>0.1190</td>\n",
       "    </tr>\n",
       "    <tr>\n",
       "      <th>4</th>\n",
       "      <td>2.0013</td>\n",
       "      <td>10.2167</td>\n",
       "      <td>3.1963</td>\n",
       "      <td>0.9123</td>\n",
       "      <td>0.1438</td>\n",
       "      <td>0.1047</td>\n",
       "    </tr>\n",
       "    <tr>\n",
       "      <th>5</th>\n",
       "      <td>2.2860</td>\n",
       "      <td>13.1372</td>\n",
       "      <td>3.6245</td>\n",
       "      <td>0.8670</td>\n",
       "      <td>0.1715</td>\n",
       "      <td>0.1276</td>\n",
       "    </tr>\n",
       "    <tr>\n",
       "      <th>6</th>\n",
       "      <td>1.6996</td>\n",
       "      <td>4.7512</td>\n",
       "      <td>2.1797</td>\n",
       "      <td>0.9155</td>\n",
       "      <td>0.1062</td>\n",
       "      <td>0.0871</td>\n",
       "    </tr>\n",
       "    <tr>\n",
       "      <th>7</th>\n",
       "      <td>2.1696</td>\n",
       "      <td>11.1506</td>\n",
       "      <td>3.3393</td>\n",
       "      <td>0.8873</td>\n",
       "      <td>0.1150</td>\n",
       "      <td>0.0900</td>\n",
       "    </tr>\n",
       "    <tr>\n",
       "      <th>8</th>\n",
       "      <td>1.6198</td>\n",
       "      <td>4.7958</td>\n",
       "      <td>2.1899</td>\n",
       "      <td>0.9383</td>\n",
       "      <td>0.1474</td>\n",
       "      <td>0.1110</td>\n",
       "    </tr>\n",
       "    <tr>\n",
       "      <th>9</th>\n",
       "      <td>2.3404</td>\n",
       "      <td>16.8184</td>\n",
       "      <td>4.1010</td>\n",
       "      <td>0.8006</td>\n",
       "      <td>0.1941</td>\n",
       "      <td>0.1360</td>\n",
       "    </tr>\n",
       "    <tr>\n",
       "      <th>Mean</th>\n",
       "      <td>2.0794</td>\n",
       "      <td>10.4312</td>\n",
       "      <td>3.1359</td>\n",
       "      <td>0.8843</td>\n",
       "      <td>0.1402</td>\n",
       "      <td>0.1052</td>\n",
       "    </tr>\n",
       "    <tr>\n",
       "      <th>SD</th>\n",
       "      <td>0.3517</td>\n",
       "      <td>4.7772</td>\n",
       "      <td>0.7729</td>\n",
       "      <td>0.0404</td>\n",
       "      <td>0.0307</td>\n",
       "      <td>0.0190</td>\n",
       "    </tr>\n",
       "  </tbody>\n",
       "</table>\n",
       "</div>"
      ],
      "text/plain": [
       "         MAE      MSE    RMSE      R2   RMSLE    MAPE\n",
       "0     1.5321   3.7499  1.9365  0.9186  0.0863  0.0711\n",
       "1     2.1270   9.0039  3.0007  0.8746  0.1249  0.0931\n",
       "2     2.7154  18.5503  4.3070  0.8304  0.1541  0.1122\n",
       "3     2.3026  12.1384  3.4840  0.8981  0.1587  0.1190\n",
       "4     2.0013  10.2167  3.1963  0.9123  0.1438  0.1047\n",
       "5     2.2860  13.1372  3.6245  0.8670  0.1715  0.1276\n",
       "6     1.6996   4.7512  2.1797  0.9155  0.1062  0.0871\n",
       "7     2.1696  11.1506  3.3393  0.8873  0.1150  0.0900\n",
       "8     1.6198   4.7958  2.1899  0.9383  0.1474  0.1110\n",
       "9     2.3404  16.8184  4.1010  0.8006  0.1941  0.1360\n",
       "Mean  2.0794  10.4312  3.1359  0.8843  0.1402  0.1052\n",
       "SD    0.3517   4.7772  0.7729  0.0404  0.0307  0.0190"
      ]
     },
     "metadata": {},
     "output_type": "display_data"
    }
   ],
   "source": [
    "reg_model_hypertune=tune_model('catboost',n_iter=50,optimize='mae')"
   ]
  },
  {
   "cell_type": "markdown",
   "metadata": {},
   "source": [
    "# Clustering Techniques"
   ]
  },
  {
   "cell_type": "code",
   "execution_count": 19,
   "metadata": {},
   "outputs": [
    {
     "data": {
      "text/html": [
       "<div>\n",
       "<style scoped>\n",
       "    .dataframe tbody tr th:only-of-type {\n",
       "        vertical-align: middle;\n",
       "    }\n",
       "\n",
       "    .dataframe tbody tr th {\n",
       "        vertical-align: top;\n",
       "    }\n",
       "\n",
       "    .dataframe thead th {\n",
       "        text-align: right;\n",
       "    }\n",
       "</style>\n",
       "<table border=\"1\" class=\"dataframe\">\n",
       "  <thead>\n",
       "    <tr style=\"text-align: right;\">\n",
       "      <th></th>\n",
       "      <th>Age</th>\n",
       "      <th>Income</th>\n",
       "      <th>SpendingScore</th>\n",
       "      <th>Savings</th>\n",
       "    </tr>\n",
       "  </thead>\n",
       "  <tbody>\n",
       "    <tr>\n",
       "      <th>0</th>\n",
       "      <td>58</td>\n",
       "      <td>77769</td>\n",
       "      <td>0.791329</td>\n",
       "      <td>6559.829923</td>\n",
       "    </tr>\n",
       "    <tr>\n",
       "      <th>1</th>\n",
       "      <td>59</td>\n",
       "      <td>81799</td>\n",
       "      <td>0.791082</td>\n",
       "      <td>5417.661426</td>\n",
       "    </tr>\n",
       "    <tr>\n",
       "      <th>2</th>\n",
       "      <td>62</td>\n",
       "      <td>74751</td>\n",
       "      <td>0.702657</td>\n",
       "      <td>9258.992965</td>\n",
       "    </tr>\n",
       "    <tr>\n",
       "      <th>3</th>\n",
       "      <td>59</td>\n",
       "      <td>74373</td>\n",
       "      <td>0.765680</td>\n",
       "      <td>7346.334504</td>\n",
       "    </tr>\n",
       "    <tr>\n",
       "      <th>4</th>\n",
       "      <td>87</td>\n",
       "      <td>17760</td>\n",
       "      <td>0.348778</td>\n",
       "      <td>16869.507130</td>\n",
       "    </tr>\n",
       "  </tbody>\n",
       "</table>\n",
       "</div>"
      ],
      "text/plain": [
       "   Age  Income  SpendingScore       Savings\n",
       "0   58   77769       0.791329   6559.829923\n",
       "1   59   81799       0.791082   5417.661426\n",
       "2   62   74751       0.702657   9258.992965\n",
       "3   59   74373       0.765680   7346.334504\n",
       "4   87   17760       0.348778  16869.507130"
      ]
     },
     "metadata": {},
     "output_type": "display_data"
    }
   ],
   "source": [
    "a=get_data('jewellery')"
   ]
  },
  {
   "cell_type": "code",
   "execution_count": 20,
   "metadata": {},
   "outputs": [
    {
     "name": "stdout",
     "output_type": "stream",
     "text": [
      "\n",
      "Setup Succesfully Completed!\n"
     ]
    },
    {
     "data": {
      "text/html": [
       "<style  type=\"text/css\" >\n",
       "</style><table id=\"T_fc6e6400_cf6b_11ea_8043_98fa9b095f1c\" ><thead>    <tr>        <th class=\"blank level0\" ></th>        <th class=\"col_heading level0 col0\" >Description</th>        <th class=\"col_heading level0 col1\" >Value</th>    </tr></thead><tbody>\n",
       "                <tr>\n",
       "                        <th id=\"T_fc6e6400_cf6b_11ea_8043_98fa9b095f1clevel0_row0\" class=\"row_heading level0 row0\" >0</th>\n",
       "                        <td id=\"T_fc6e6400_cf6b_11ea_8043_98fa9b095f1crow0_col0\" class=\"data row0 col0\" >session_id </td>\n",
       "                        <td id=\"T_fc6e6400_cf6b_11ea_8043_98fa9b095f1crow0_col1\" class=\"data row0 col1\" >2742</td>\n",
       "            </tr>\n",
       "            <tr>\n",
       "                        <th id=\"T_fc6e6400_cf6b_11ea_8043_98fa9b095f1clevel0_row1\" class=\"row_heading level0 row1\" >1</th>\n",
       "                        <td id=\"T_fc6e6400_cf6b_11ea_8043_98fa9b095f1crow1_col0\" class=\"data row1 col0\" >Original Data </td>\n",
       "                        <td id=\"T_fc6e6400_cf6b_11ea_8043_98fa9b095f1crow1_col1\" class=\"data row1 col1\" >(505, 4)</td>\n",
       "            </tr>\n",
       "            <tr>\n",
       "                        <th id=\"T_fc6e6400_cf6b_11ea_8043_98fa9b095f1clevel0_row2\" class=\"row_heading level0 row2\" >2</th>\n",
       "                        <td id=\"T_fc6e6400_cf6b_11ea_8043_98fa9b095f1crow2_col0\" class=\"data row2 col0\" >Missing Values </td>\n",
       "                        <td id=\"T_fc6e6400_cf6b_11ea_8043_98fa9b095f1crow2_col1\" class=\"data row2 col1\" >False</td>\n",
       "            </tr>\n",
       "            <tr>\n",
       "                        <th id=\"T_fc6e6400_cf6b_11ea_8043_98fa9b095f1clevel0_row3\" class=\"row_heading level0 row3\" >3</th>\n",
       "                        <td id=\"T_fc6e6400_cf6b_11ea_8043_98fa9b095f1crow3_col0\" class=\"data row3 col0\" >Numeric Features </td>\n",
       "                        <td id=\"T_fc6e6400_cf6b_11ea_8043_98fa9b095f1crow3_col1\" class=\"data row3 col1\" >4</td>\n",
       "            </tr>\n",
       "            <tr>\n",
       "                        <th id=\"T_fc6e6400_cf6b_11ea_8043_98fa9b095f1clevel0_row4\" class=\"row_heading level0 row4\" >4</th>\n",
       "                        <td id=\"T_fc6e6400_cf6b_11ea_8043_98fa9b095f1crow4_col0\" class=\"data row4 col0\" >Categorical Features </td>\n",
       "                        <td id=\"T_fc6e6400_cf6b_11ea_8043_98fa9b095f1crow4_col1\" class=\"data row4 col1\" >0</td>\n",
       "            </tr>\n",
       "            <tr>\n",
       "                        <th id=\"T_fc6e6400_cf6b_11ea_8043_98fa9b095f1clevel0_row5\" class=\"row_heading level0 row5\" >5</th>\n",
       "                        <td id=\"T_fc6e6400_cf6b_11ea_8043_98fa9b095f1crow5_col0\" class=\"data row5 col0\" >Ordinal Features </td>\n",
       "                        <td id=\"T_fc6e6400_cf6b_11ea_8043_98fa9b095f1crow5_col1\" class=\"data row5 col1\" >False</td>\n",
       "            </tr>\n",
       "            <tr>\n",
       "                        <th id=\"T_fc6e6400_cf6b_11ea_8043_98fa9b095f1clevel0_row6\" class=\"row_heading level0 row6\" >6</th>\n",
       "                        <td id=\"T_fc6e6400_cf6b_11ea_8043_98fa9b095f1crow6_col0\" class=\"data row6 col0\" >High Cardinality Features </td>\n",
       "                        <td id=\"T_fc6e6400_cf6b_11ea_8043_98fa9b095f1crow6_col1\" class=\"data row6 col1\" >False</td>\n",
       "            </tr>\n",
       "            <tr>\n",
       "                        <th id=\"T_fc6e6400_cf6b_11ea_8043_98fa9b095f1clevel0_row7\" class=\"row_heading level0 row7\" >7</th>\n",
       "                        <td id=\"T_fc6e6400_cf6b_11ea_8043_98fa9b095f1crow7_col0\" class=\"data row7 col0\" >Transformed Data </td>\n",
       "                        <td id=\"T_fc6e6400_cf6b_11ea_8043_98fa9b095f1crow7_col1\" class=\"data row7 col1\" >(505, 4)</td>\n",
       "            </tr>\n",
       "            <tr>\n",
       "                        <th id=\"T_fc6e6400_cf6b_11ea_8043_98fa9b095f1clevel0_row8\" class=\"row_heading level0 row8\" >8</th>\n",
       "                        <td id=\"T_fc6e6400_cf6b_11ea_8043_98fa9b095f1crow8_col0\" class=\"data row8 col0\" >Numeric Imputer </td>\n",
       "                        <td id=\"T_fc6e6400_cf6b_11ea_8043_98fa9b095f1crow8_col1\" class=\"data row8 col1\" >mean</td>\n",
       "            </tr>\n",
       "            <tr>\n",
       "                        <th id=\"T_fc6e6400_cf6b_11ea_8043_98fa9b095f1clevel0_row9\" class=\"row_heading level0 row9\" >9</th>\n",
       "                        <td id=\"T_fc6e6400_cf6b_11ea_8043_98fa9b095f1crow9_col0\" class=\"data row9 col0\" >Categorical Imputer </td>\n",
       "                        <td id=\"T_fc6e6400_cf6b_11ea_8043_98fa9b095f1crow9_col1\" class=\"data row9 col1\" >constant</td>\n",
       "            </tr>\n",
       "            <tr>\n",
       "                        <th id=\"T_fc6e6400_cf6b_11ea_8043_98fa9b095f1clevel0_row10\" class=\"row_heading level0 row10\" >10</th>\n",
       "                        <td id=\"T_fc6e6400_cf6b_11ea_8043_98fa9b095f1crow10_col0\" class=\"data row10 col0\" >Normalize </td>\n",
       "                        <td id=\"T_fc6e6400_cf6b_11ea_8043_98fa9b095f1crow10_col1\" class=\"data row10 col1\" >False</td>\n",
       "            </tr>\n",
       "            <tr>\n",
       "                        <th id=\"T_fc6e6400_cf6b_11ea_8043_98fa9b095f1clevel0_row11\" class=\"row_heading level0 row11\" >11</th>\n",
       "                        <td id=\"T_fc6e6400_cf6b_11ea_8043_98fa9b095f1crow11_col0\" class=\"data row11 col0\" >Normalize Method </td>\n",
       "                        <td id=\"T_fc6e6400_cf6b_11ea_8043_98fa9b095f1crow11_col1\" class=\"data row11 col1\" >None</td>\n",
       "            </tr>\n",
       "            <tr>\n",
       "                        <th id=\"T_fc6e6400_cf6b_11ea_8043_98fa9b095f1clevel0_row12\" class=\"row_heading level0 row12\" >12</th>\n",
       "                        <td id=\"T_fc6e6400_cf6b_11ea_8043_98fa9b095f1crow12_col0\" class=\"data row12 col0\" >Transformation </td>\n",
       "                        <td id=\"T_fc6e6400_cf6b_11ea_8043_98fa9b095f1crow12_col1\" class=\"data row12 col1\" >False</td>\n",
       "            </tr>\n",
       "            <tr>\n",
       "                        <th id=\"T_fc6e6400_cf6b_11ea_8043_98fa9b095f1clevel0_row13\" class=\"row_heading level0 row13\" >13</th>\n",
       "                        <td id=\"T_fc6e6400_cf6b_11ea_8043_98fa9b095f1crow13_col0\" class=\"data row13 col0\" >Transformation Method </td>\n",
       "                        <td id=\"T_fc6e6400_cf6b_11ea_8043_98fa9b095f1crow13_col1\" class=\"data row13 col1\" >None</td>\n",
       "            </tr>\n",
       "            <tr>\n",
       "                        <th id=\"T_fc6e6400_cf6b_11ea_8043_98fa9b095f1clevel0_row14\" class=\"row_heading level0 row14\" >14</th>\n",
       "                        <td id=\"T_fc6e6400_cf6b_11ea_8043_98fa9b095f1crow14_col0\" class=\"data row14 col0\" >PCA </td>\n",
       "                        <td id=\"T_fc6e6400_cf6b_11ea_8043_98fa9b095f1crow14_col1\" class=\"data row14 col1\" >False</td>\n",
       "            </tr>\n",
       "            <tr>\n",
       "                        <th id=\"T_fc6e6400_cf6b_11ea_8043_98fa9b095f1clevel0_row15\" class=\"row_heading level0 row15\" >15</th>\n",
       "                        <td id=\"T_fc6e6400_cf6b_11ea_8043_98fa9b095f1crow15_col0\" class=\"data row15 col0\" >PCA Method </td>\n",
       "                        <td id=\"T_fc6e6400_cf6b_11ea_8043_98fa9b095f1crow15_col1\" class=\"data row15 col1\" >None</td>\n",
       "            </tr>\n",
       "            <tr>\n",
       "                        <th id=\"T_fc6e6400_cf6b_11ea_8043_98fa9b095f1clevel0_row16\" class=\"row_heading level0 row16\" >16</th>\n",
       "                        <td id=\"T_fc6e6400_cf6b_11ea_8043_98fa9b095f1crow16_col0\" class=\"data row16 col0\" >PCA components </td>\n",
       "                        <td id=\"T_fc6e6400_cf6b_11ea_8043_98fa9b095f1crow16_col1\" class=\"data row16 col1\" >None</td>\n",
       "            </tr>\n",
       "            <tr>\n",
       "                        <th id=\"T_fc6e6400_cf6b_11ea_8043_98fa9b095f1clevel0_row17\" class=\"row_heading level0 row17\" >17</th>\n",
       "                        <td id=\"T_fc6e6400_cf6b_11ea_8043_98fa9b095f1crow17_col0\" class=\"data row17 col0\" >Ignore Low Variance </td>\n",
       "                        <td id=\"T_fc6e6400_cf6b_11ea_8043_98fa9b095f1crow17_col1\" class=\"data row17 col1\" >False</td>\n",
       "            </tr>\n",
       "            <tr>\n",
       "                        <th id=\"T_fc6e6400_cf6b_11ea_8043_98fa9b095f1clevel0_row18\" class=\"row_heading level0 row18\" >18</th>\n",
       "                        <td id=\"T_fc6e6400_cf6b_11ea_8043_98fa9b095f1crow18_col0\" class=\"data row18 col0\" >Combine Rare Levels </td>\n",
       "                        <td id=\"T_fc6e6400_cf6b_11ea_8043_98fa9b095f1crow18_col1\" class=\"data row18 col1\" >False</td>\n",
       "            </tr>\n",
       "            <tr>\n",
       "                        <th id=\"T_fc6e6400_cf6b_11ea_8043_98fa9b095f1clevel0_row19\" class=\"row_heading level0 row19\" >19</th>\n",
       "                        <td id=\"T_fc6e6400_cf6b_11ea_8043_98fa9b095f1crow19_col0\" class=\"data row19 col0\" >Rare Level Threshold </td>\n",
       "                        <td id=\"T_fc6e6400_cf6b_11ea_8043_98fa9b095f1crow19_col1\" class=\"data row19 col1\" >None</td>\n",
       "            </tr>\n",
       "            <tr>\n",
       "                        <th id=\"T_fc6e6400_cf6b_11ea_8043_98fa9b095f1clevel0_row20\" class=\"row_heading level0 row20\" >20</th>\n",
       "                        <td id=\"T_fc6e6400_cf6b_11ea_8043_98fa9b095f1crow20_col0\" class=\"data row20 col0\" >Numeric Binning </td>\n",
       "                        <td id=\"T_fc6e6400_cf6b_11ea_8043_98fa9b095f1crow20_col1\" class=\"data row20 col1\" >False</td>\n",
       "            </tr>\n",
       "            <tr>\n",
       "                        <th id=\"T_fc6e6400_cf6b_11ea_8043_98fa9b095f1clevel0_row21\" class=\"row_heading level0 row21\" >21</th>\n",
       "                        <td id=\"T_fc6e6400_cf6b_11ea_8043_98fa9b095f1crow21_col0\" class=\"data row21 col0\" >Remove Multicollinearity </td>\n",
       "                        <td id=\"T_fc6e6400_cf6b_11ea_8043_98fa9b095f1crow21_col1\" class=\"data row21 col1\" >False</td>\n",
       "            </tr>\n",
       "            <tr>\n",
       "                        <th id=\"T_fc6e6400_cf6b_11ea_8043_98fa9b095f1clevel0_row22\" class=\"row_heading level0 row22\" >22</th>\n",
       "                        <td id=\"T_fc6e6400_cf6b_11ea_8043_98fa9b095f1crow22_col0\" class=\"data row22 col0\" >Multicollinearity Threshold </td>\n",
       "                        <td id=\"T_fc6e6400_cf6b_11ea_8043_98fa9b095f1crow22_col1\" class=\"data row22 col1\" >None</td>\n",
       "            </tr>\n",
       "            <tr>\n",
       "                        <th id=\"T_fc6e6400_cf6b_11ea_8043_98fa9b095f1clevel0_row23\" class=\"row_heading level0 row23\" >23</th>\n",
       "                        <td id=\"T_fc6e6400_cf6b_11ea_8043_98fa9b095f1crow23_col0\" class=\"data row23 col0\" >Group Features </td>\n",
       "                        <td id=\"T_fc6e6400_cf6b_11ea_8043_98fa9b095f1crow23_col1\" class=\"data row23 col1\" >False</td>\n",
       "            </tr>\n",
       "    </tbody></table>"
      ],
      "text/plain": [
       "<pandas.io.formats.style.Styler at 0x1f9f1261908>"
      ]
     },
     "metadata": {},
     "output_type": "display_data"
    }
   ],
   "source": [
    "from pycaret.clustering import*\n",
    "clust_alg=setup(a)"
   ]
  },
  {
   "cell_type": "code",
   "execution_count": 25,
   "metadata": {},
   "outputs": [],
   "source": [
    "Kmeans=create_model('kmeans')"
   ]
  },
  {
   "cell_type": "code",
   "execution_count": 27,
   "metadata": {},
   "outputs": [
    {
     "data": {
      "text/plain": [
       "KMeans(algorithm='auto', copy_x=True, init='k-means++', max_iter=300,\n",
       "       n_clusters=4, n_init=10, n_jobs=None, precompute_distances='auto',\n",
       "       random_state=2742, tol=0.0001, verbose=0)"
      ]
     },
     "execution_count": 27,
     "metadata": {},
     "output_type": "execute_result"
    }
   ],
   "source": [
    "Kmeans"
   ]
  },
  {
   "cell_type": "code",
   "execution_count": 31,
   "metadata": {},
   "outputs": [
    {
     "data": {
      "text/html": [
       "<div>\n",
       "<style scoped>\n",
       "    .dataframe tbody tr th:only-of-type {\n",
       "        vertical-align: middle;\n",
       "    }\n",
       "\n",
       "    .dataframe tbody tr th {\n",
       "        vertical-align: top;\n",
       "    }\n",
       "\n",
       "    .dataframe thead th {\n",
       "        text-align: right;\n",
       "    }\n",
       "</style>\n",
       "<table border=\"1\" class=\"dataframe\">\n",
       "  <thead>\n",
       "    <tr style=\"text-align: right;\">\n",
       "      <th></th>\n",
       "      <th>Age</th>\n",
       "      <th>Income</th>\n",
       "      <th>SpendingScore</th>\n",
       "      <th>Savings</th>\n",
       "      <th>Cluster</th>\n",
       "    </tr>\n",
       "  </thead>\n",
       "  <tbody>\n",
       "    <tr>\n",
       "      <th>0</th>\n",
       "      <td>58</td>\n",
       "      <td>77769</td>\n",
       "      <td>0.791329</td>\n",
       "      <td>6559.829923</td>\n",
       "      <td>Cluster 2</td>\n",
       "    </tr>\n",
       "    <tr>\n",
       "      <th>1</th>\n",
       "      <td>59</td>\n",
       "      <td>81799</td>\n",
       "      <td>0.791082</td>\n",
       "      <td>5417.661426</td>\n",
       "      <td>Cluster 2</td>\n",
       "    </tr>\n",
       "    <tr>\n",
       "      <th>2</th>\n",
       "      <td>62</td>\n",
       "      <td>74751</td>\n",
       "      <td>0.702657</td>\n",
       "      <td>9258.992965</td>\n",
       "      <td>Cluster 2</td>\n",
       "    </tr>\n",
       "    <tr>\n",
       "      <th>3</th>\n",
       "      <td>59</td>\n",
       "      <td>74373</td>\n",
       "      <td>0.765680</td>\n",
       "      <td>7346.334504</td>\n",
       "      <td>Cluster 2</td>\n",
       "    </tr>\n",
       "    <tr>\n",
       "      <th>4</th>\n",
       "      <td>87</td>\n",
       "      <td>17760</td>\n",
       "      <td>0.348778</td>\n",
       "      <td>16869.507130</td>\n",
       "      <td>Cluster 1</td>\n",
       "    </tr>\n",
       "    <tr>\n",
       "      <th>...</th>\n",
       "      <td>...</td>\n",
       "      <td>...</td>\n",
       "      <td>...</td>\n",
       "      <td>...</td>\n",
       "      <td>...</td>\n",
       "    </tr>\n",
       "    <tr>\n",
       "      <th>500</th>\n",
       "      <td>28</td>\n",
       "      <td>101206</td>\n",
       "      <td>0.387441</td>\n",
       "      <td>14936.775389</td>\n",
       "      <td>Cluster 0</td>\n",
       "    </tr>\n",
       "    <tr>\n",
       "      <th>501</th>\n",
       "      <td>93</td>\n",
       "      <td>19934</td>\n",
       "      <td>0.203140</td>\n",
       "      <td>17969.693769</td>\n",
       "      <td>Cluster 1</td>\n",
       "    </tr>\n",
       "    <tr>\n",
       "      <th>502</th>\n",
       "      <td>90</td>\n",
       "      <td>35297</td>\n",
       "      <td>0.355149</td>\n",
       "      <td>16091.401954</td>\n",
       "      <td>Cluster 1</td>\n",
       "    </tr>\n",
       "    <tr>\n",
       "      <th>503</th>\n",
       "      <td>91</td>\n",
       "      <td>20681</td>\n",
       "      <td>0.354679</td>\n",
       "      <td>18401.088445</td>\n",
       "      <td>Cluster 1</td>\n",
       "    </tr>\n",
       "    <tr>\n",
       "      <th>504</th>\n",
       "      <td>89</td>\n",
       "      <td>30267</td>\n",
       "      <td>0.289310</td>\n",
       "      <td>14386.351880</td>\n",
       "      <td>Cluster 1</td>\n",
       "    </tr>\n",
       "  </tbody>\n",
       "</table>\n",
       "<p>505 rows × 5 columns</p>\n",
       "</div>"
      ],
      "text/plain": [
       "     Age  Income  SpendingScore       Savings    Cluster\n",
       "0     58   77769       0.791329   6559.829923  Cluster 2\n",
       "1     59   81799       0.791082   5417.661426  Cluster 2\n",
       "2     62   74751       0.702657   9258.992965  Cluster 2\n",
       "3     59   74373       0.765680   7346.334504  Cluster 2\n",
       "4     87   17760       0.348778  16869.507130  Cluster 1\n",
       "..   ...     ...            ...           ...        ...\n",
       "500   28  101206       0.387441  14936.775389  Cluster 0\n",
       "501   93   19934       0.203140  17969.693769  Cluster 1\n",
       "502   90   35297       0.355149  16091.401954  Cluster 1\n",
       "503   91   20681       0.354679  18401.088445  Cluster 1\n",
       "504   89   30267       0.289310  14386.351880  Cluster 1\n",
       "\n",
       "[505 rows x 5 columns]"
      ]
     },
     "execution_count": 31,
     "metadata": {},
     "output_type": "execute_result"
    }
   ],
   "source": [
    "Kmeans_df=assign_model(Kmeans)\n",
    "Kmeans_df"
   ]
  },
  {
   "cell_type": "code",
   "execution_count": 32,
   "metadata": {},
   "outputs": [
    {
     "data": {
      "text/html": [
       "        <script type=\"text/javascript\">\n",
       "        window.PlotlyConfig = {MathJaxConfig: 'local'};\n",
       "        if (window.MathJax) {MathJax.Hub.Config({SVG: {font: \"STIX-Web\"}});}\n",
       "        if (typeof require !== 'undefined') {\n",
       "        require.undef(\"plotly\");\n",
       "        requirejs.config({\n",
       "            paths: {\n",
       "                'plotly': ['https://cdn.plot.ly/plotly-latest.min']\n",
       "            }\n",
       "        });\n",
       "        require(['plotly'], function(Plotly) {\n",
       "            window._Plotly = Plotly;\n",
       "        });\n",
       "        }\n",
       "        </script>\n",
       "        "
      ]
     },
     "metadata": {},
     "output_type": "display_data"
    },
    {
     "data": {
      "application/vnd.plotly.v1+json": {
       "config": {
        "plotlyServerURL": "https://plot.ly"
       },
       "data": [
        {
         "customdata": [
          [
           58
          ],
          [
           59
          ],
          [
           62
          ],
          [
           59
          ],
          [
           87
          ],
          [
           29
          ],
          [
           54
          ],
          [
           87
          ],
          [
           83
          ],
          [
           84
          ],
          [
           85
          ],
          [
           36
          ],
          [
           30
          ],
          [
           31
          ],
          [
           61
          ],
          [
           92
          ],
          [
           55
          ],
          [
           87
          ],
          [
           82
          ],
          [
           88
          ],
          [
           30
          ],
          [
           84
          ],
          [
           53
          ],
          [
           91
          ],
          [
           89
          ],
          [
           30
          ],
          [
           17
          ],
          [
           55
          ],
          [
           90
          ],
          [
           61
          ],
          [
           59
          ],
          [
           59
          ],
          [
           88
          ],
          [
           56
          ],
          [
           33
          ],
          [
           61
          ],
          [
           84
          ],
          [
           61
          ],
          [
           39
          ],
          [
           31
          ],
          [
           60
          ],
          [
           87
          ],
          [
           20
          ],
          [
           57
          ],
          [
           61
          ],
          [
           18
          ],
          [
           83
          ],
          [
           25
          ],
          [
           31
          ],
          [
           55
          ],
          [
           84
          ],
          [
           36
          ],
          [
           27
          ],
          [
           91
          ],
          [
           53
          ],
          [
           91
          ],
          [
           25
          ],
          [
           83
          ],
          [
           87
          ],
          [
           90
          ],
          [
           83
          ],
          [
           83
          ],
          [
           83
          ],
          [
           61
          ],
          [
           64
          ],
          [
           62
          ],
          [
           91
          ],
          [
           28
          ],
          [
           23
          ],
          [
           55
          ],
          [
           58
          ],
          [
           31
          ],
          [
           83
          ],
          [
           91
          ],
          [
           30
          ],
          [
           57
          ],
          [
           33
          ],
          [
           59
          ],
          [
           58
          ],
          [
           29
          ],
          [
           59
          ],
          [
           84
          ],
          [
           64
          ],
          [
           87
          ],
          [
           88
          ],
          [
           35
          ],
          [
           34
          ],
          [
           58
          ],
          [
           56
          ],
          [
           63
          ],
          [
           58
          ],
          [
           60
          ],
          [
           24
          ],
          [
           94
          ],
          [
           58
          ],
          [
           25
          ],
          [
           36
          ],
          [
           62
          ],
          [
           66
          ],
          [
           37
          ],
          [
           27
          ],
          [
           24
          ],
          [
           31
          ],
          [
           23
          ],
          [
           34
          ],
          [
           88
          ],
          [
           89
          ],
          [
           32
          ],
          [
           38
          ],
          [
           57
          ],
          [
           90
          ],
          [
           33
          ],
          [
           66
          ],
          [
           35
          ],
          [
           31
          ],
          [
           35
          ],
          [
           63
          ],
          [
           30
          ],
          [
           22
          ],
          [
           84
          ],
          [
           28
          ],
          [
           88
          ],
          [
           84
          ],
          [
           88
          ],
          [
           35
          ],
          [
           82
          ],
          [
           64
          ],
          [
           91
          ],
          [
           62
          ],
          [
           62
          ]
         ],
         "hoverlabel": {
          "namelength": 0
         },
         "hovertemplate": "Cluster=Cluster 0<br>PCA1=%{x}<br>PCA2=%{y}<br>Feature=%{customdata[0]}",
         "legendgroup": "Cluster=Cluster 0",
         "marker": {
          "color": "#636efa",
          "opacity": 0.5,
          "symbol": "circle"
         },
         "mode": "markers",
         "name": "Cluster=Cluster 0",
         "showlegend": true,
         "textposition": "top center",
         "type": "scatter",
         "x": [
          34815.254920538064,
          23896.36880790408,
          26578.153196266176,
          28681.549887585734,
          26003.5224319256,
          31202.412682476068,
          33217.92661094809,
          22236.169474372266,
          20592.34661300776,
          39135.37622313005,
          35036.71585548719,
          31317.298064553695,
          18943.37281781302,
          20486.140695945443,
          34834.90179465998,
          35572.715386853546,
          30806.776341952773,
          39399.40138181148,
          34753.148485730795,
          23022.218263126633,
          33379.4205846891,
          29861.546669621443,
          28912.89513619993,
          28627.25985640029,
          37228.73474520067,
          24491.388898644724,
          26507.042872359903,
          32691.869561685715,
          28639.38500245049,
          23196.213306438218,
          32289.540207166643,
          34830.86603735357,
          31016.95277066786,
          30268.705481263274,
          40419.57669510414,
          37194.90227907418,
          33345.15627123117,
          31502.360342968208,
          26343.678673902446,
          32561.025360063282,
          23858.598240023413,
          36008.7253591223,
          30155.334159636972,
          26312.372968927517,
          16918.67620110012,
          15177.31971466768,
          30950.101839682375,
          23748.67781545404,
          23392.942046850578,
          35023.21627080028,
          29240.50974864809,
          35711.07999432943,
          19785.99439327467,
          32853.06228369526,
          30836.978307627433,
          26023.56635140615,
          27412.69140542122,
          38543.62512292868,
          32149.921292682862,
          26228.37628643618,
          34060.87750047383,
          24819.360949497735,
          31330.343984524763,
          27758.387575808196,
          28960.634964946763,
          36813.76713420395,
          33203.842568888016,
          27456.913266673095,
          31960.754514207245,
          29210.55694643968,
          36260.39985707386,
          26983.046364278187,
          37939.71700891234,
          39941.2373750961,
          30614.165778553554,
          38938.11813871433,
          23470.847033328013,
          32322.908553122463,
          26071.981181359235,
          34360.48180735056,
          24294.80847834633,
          14006.000965365394,
          25765.790042328346,
          32307.93672914093,
          25328.069962281657,
          32416.939873895528,
          22105.034591078245,
          30046.48908092605,
          31911.001239366324,
          22350.769816321557,
          23967.006087975617,
          30148.682673916068,
          41298.631292835045,
          25363.9192267204,
          25732.344972190545,
          23032.68012465126,
          38847.169767760795,
          15764.491431415827,
          32345.70842870058,
          31045.220255678774,
          31361.08526779913,
          31253.46853044941,
          32210.979768642395,
          35758.27543553668,
          35579.20581580631,
          19295.267686809562,
          21973.307950443814,
          22258.60866856989,
          22393.417730180117,
          40673.859644327444,
          31614.442565419075,
          25474.40276379727,
          32912.892063315834,
          35187.91053468464,
          24827.97878054596,
          40849.480597690614,
          30584.12461511323,
          30949.636901997932,
          24613.751980326102,
          26298.14841024672,
          38869.649452671685,
          39513.27355543242,
          32572.750272366186,
          22224.556143435275,
          32797.643669354926,
          21900.785300032752,
          25938.050496756237,
          25376.693266073144,
          19017.169464917493,
          24706.128352845146
         ],
         "xaxis": "x",
         "y": [
          -5108.281670571731,
          -4653.572550884042,
          -4542.181472406768,
          -4194.112454577071,
          -3786.13364247153,
          -4006.880782404124,
          -4387.404636496326,
          -4400.042331000773,
          -4611.587648361573,
          -4339.707016425756,
          -6415.699536226249,
          -6141.763263553495,
          -6099.926511675162,
          -4804.203700356802,
          -5079.540930731745,
          -4807.665202226775,
          -5560.204679600003,
          -5202.090344164468,
          -4008.5890127539024,
          -4439.122859420634,
          -4139.05304404694,
          -4210.491742797324,
          -5224.554435670843,
          -3324.816421778016,
          -4575.537648425253,
          -3378.54409054787,
          -5484.6746561210975,
          -6066.457122934576,
          -3130.950539346104,
          -5613.714946473871,
          -3634.34136064074,
          -5377.229021116216,
          -4865.004407317281,
          -4917.675594824386,
          -6642.233640263946,
          -4030.4860762357507,
          -6080.299826048204,
          -5081.205331963823,
          -3863.006874934308,
          -5658.529147335396,
          -4857.997302514554,
          -6111.70517139526,
          -6491.845916302065,
          -4286.4053602873355,
          -2877.1946078768788,
          4253.670268811264,
          -6274.399407676458,
          -4085.38788854078,
          -5117.926369906294,
          -4416.577273256117,
          -5240.709879901142,
          -4543.481105344735,
          -4699.391527469766,
          -5910.595724540102,
          -4248.410998779931,
          -7172.334785619936,
          -5970.65960581778,
          -7198.063753004433,
          -5508.945169399096,
          -4266.484164687802,
          -5075.678351149006,
          -6443.1165674782,
          -5635.163544619186,
          -3524.601882041495,
          -5439.902381792009,
          -4615.46212987063,
          -6552.893169384942,
          -4868.312164441829,
          -7950.1376799045365,
          -6286.356908964105,
          -3890.3447962612577,
          -2897.418110778121,
          -4683.440281859752,
          -5237.495032301001,
          -4762.434912619339,
          -4443.1698152763865,
          -4720.24892540839,
          -3681.290385681804,
          -4687.764619495448,
          -5038.816440742177,
          -3156.174867738153,
          -1775.6050399833543,
          -4647.515091833702,
          -3401.0815217687787,
          -4507.818852759073,
          -3316.8737845198525,
          -4346.187741550611,
          -2733.1094851712664,
          -2672.9112969661546,
          -5405.192380070513,
          -5918.696393593377,
          -3727.6412226852476,
          -6422.065006311351,
          -6518.877743618625,
          -4846.2800097461195,
          -5461.179044520954,
          -8209.63930809387,
          -2149.152212076626,
          -2201.7204362153557,
          -4354.880673536976,
          -4837.589604607754,
          -4792.8201724446635,
          -5806.362366658899,
          -4122.472097486014,
          -6195.256515402726,
          -3266.650100279915,
          -5227.972306159952,
          -5195.925409188556,
          -5150.746928288215,
          -5771.82771658853,
          -3948.4131537015087,
          -4541.161711915866,
          -4588.664684244311,
          -4164.858385743974,
          -5088.6083123016115,
          -5591.4308623525085,
          -5198.651743783721,
          -4397.197322284792,
          -3288.4642893518358,
          -5023.038755192275,
          -4117.836047019013,
          -4805.682520520937,
          -6711.005814772026,
          -5737.014216399171,
          -5654.546848389321,
          -5234.914435436247,
          -4054.252841897085,
          -3922.329207394543,
          -4587.056600403998,
          -6304.286871577941
         ],
         "yaxis": "y"
        },
        {
         "customdata": [
          [
           34
          ],
          [
           60
          ],
          [
           32
          ],
          [
           65
          ],
          [
           24
          ],
          [
           88
          ],
          [
           82
          ],
          [
           26
          ],
          [
           60
          ],
          [
           31
          ],
          [
           85
          ],
          [
           63
          ],
          [
           56
          ],
          [
           28
          ],
          [
           58
          ],
          [
           26
          ],
          [
           62
          ],
          [
           86
          ],
          [
           56
          ],
          [
           91
          ],
          [
           59
          ],
          [
           28
          ],
          [
           85
          ],
          [
           65
          ],
          [
           94
          ],
          [
           86
          ],
          [
           30
          ],
          [
           62
          ],
          [
           85
          ],
          [
           59
          ],
          [
           30
          ],
          [
           83
          ],
          [
           66
          ],
          [
           31
          ],
          [
           88
          ],
          [
           28
          ],
          [
           85
          ],
          [
           64
          ],
          [
           33
          ],
          [
           62
          ],
          [
           89
          ],
          [
           61
          ],
          [
           29
          ],
          [
           56
          ],
          [
           92
          ],
          [
           62
          ],
          [
           60
          ],
          [
           85
          ],
          [
           88
          ],
          [
           94
          ],
          [
           62
          ],
          [
           64
          ],
          [
           29
          ],
          [
           27
          ],
          [
           31
          ],
          [
           87
          ],
          [
           32
          ],
          [
           63
          ],
          [
           58
          ],
          [
           62
          ],
          [
           32
          ],
          [
           93
          ],
          [
           59
          ],
          [
           61
          ],
          [
           53
          ],
          [
           82
          ],
          [
           28
          ],
          [
           32
          ],
          [
           89
          ],
          [
           84
          ],
          [
           87
          ],
          [
           29
          ],
          [
           58
          ],
          [
           29
          ],
          [
           55
          ],
          [
           25
          ],
          [
           60
          ],
          [
           88
          ],
          [
           24
          ],
          [
           56
          ],
          [
           95
          ],
          [
           89
          ],
          [
           86
          ],
          [
           85
          ],
          [
           60
          ],
          [
           87
          ],
          [
           29
          ],
          [
           23
          ],
          [
           31
          ],
          [
           89
          ],
          [
           58
          ],
          [
           56
          ],
          [
           37
          ],
          [
           89
          ],
          [
           29
          ],
          [
           23
          ],
          [
           34
          ],
          [
           64
          ],
          [
           63
          ],
          [
           85
          ],
          [
           62
          ],
          [
           59
          ],
          [
           92
          ],
          [
           67
          ],
          [
           58
          ],
          [
           58
          ],
          [
           38
          ],
          [
           57
          ],
          [
           31
          ],
          [
           36
          ],
          [
           25
          ],
          [
           66
          ],
          [
           64
          ],
          [
           59
          ],
          [
           90
          ],
          [
           68
          ],
          [
           35
          ],
          [
           84
          ],
          [
           24
          ],
          [
           29
          ],
          [
           28
          ],
          [
           81
          ],
          [
           57
          ],
          [
           37
          ],
          [
           91
          ],
          [
           82
          ],
          [
           36
          ],
          [
           31
          ],
          [
           61
          ],
          [
           64
          ],
          [
           83
          ],
          [
           63
          ],
          [
           55
          ],
          [
           86
          ],
          [
           57
          ],
          [
           94
          ],
          [
           37
          ],
          [
           26
          ],
          [
           57
          ],
          [
           37
          ],
          [
           88
          ],
          [
           61
          ],
          [
           91
          ],
          [
           84
          ],
          [
           43
          ],
          [
           59
          ],
          [
           90
          ]
         ],
         "hoverlabel": {
          "namelength": 0
         },
         "hovertemplate": "Cluster=Cluster 1<br>PCA1=%{x}<br>PCA2=%{y}<br>Feature=%{customdata[0]}",
         "legendgroup": "Cluster=Cluster 1",
         "marker": {
          "color": "#EF553B",
          "opacity": 0.5,
          "symbol": "circle"
         },
         "mode": "markers",
         "name": "Cluster=Cluster 1",
         "showlegend": true,
         "textposition": "top center",
         "type": "scatter",
         "x": [
          -49206.0729792362,
          -54413.158553524714,
          -48754.55322293145,
          -50446.68725850558,
          -43231.47790879878,
          -63656.34758998012,
          -55368.984275680115,
          -48469.75822555576,
          -51191.183110267935,
          -39063.28667619089,
          -63634.72200273954,
          -49952.56386424753,
          -43811.47262039388,
          -36822.88272990107,
          -42594.24300193297,
          -53514.36608306823,
          -49610.67501015969,
          -28705.21282676981,
          -47927.75615335324,
          -45504.92821664384,
          -46897.287204841836,
          -56491.72616160142,
          -53103.84791289731,
          -50055.78756429355,
          -56854.24491468409,
          -48459.57885316466,
          -50029.048673484416,
          -53329.08890863792,
          -53484.99044797619,
          -49274.44239615929,
          -41272.89533986179,
          -48254.00622992489,
          -55116.83601816837,
          -58771.33010043616,
          -51459.51350546342,
          -57750.75774612389,
          -48448.1898213934,
          -39916.5906115269,
          -56820.08755360424,
          -42172.09142372813,
          -37510.58801132117,
          -42253.87287795822,
          -48890.162042831646,
          -43012.76978349139,
          -44821.271955370925,
          -46206.76070917286,
          -42432.64509966226,
          -48329.375219863425,
          -47000.17170879289,
          -48496.84792497302,
          -46522.91941975117,
          -39882.02333138302,
          -28723.991919565997,
          -37730.76934060818,
          -48762.36466827119,
          -50504.82314273769,
          -45508.35388587766,
          -46108.56441807311,
          -45148.062146087905,
          -58127.50387027001,
          -57495.82751822279,
          -56178.67327005175,
          -39708.646989663466,
          -45316.58140609556,
          -55300.43835611646,
          -51304.420791210185,
          -48867.33422412472,
          -47072.8327082788,
          -52350.13688160767,
          -42485.19893050838,
          -42546.30928703383,
          -52508.303533435734,
          -45053.501151340155,
          -53120.54070874581,
          -48031.600338698336,
          -57516.27318363642,
          -49855.360239061156,
          -38870.67264138034,
          -51858.95285225973,
          -49618.56425158389,
          -42334.047671506334,
          -53905.330808706676,
          -49083.98904448346,
          -47366.64939309711,
          -40276.44813108954,
          -44316.39097613651,
          -46888.40589877376,
          -41183.65207165711,
          -51006.62596717178,
          -46621.675189920854,
          -55003.11473536293,
          -40392.52353813575,
          -55837.896212559055,
          -57945.29400939378,
          -44891.726940178145,
          -33223.787927586905,
          -41229.08532646791,
          -48086.47161506781,
          -45889.16124528393,
          -39730.75492373196,
          -44207.36919669004,
          -52745.27199507382,
          -42152.502819378744,
          -52957.616291780956,
          -48338.70466261931,
          -56895.336026094636,
          -47591.22511121998,
          -52877.381646033355,
          -38257.012522678684,
          -45243.33599570979,
          -51590.972058113,
          -57888.986937986156,
          -52219.788910263225,
          -39255.473865513464,
          -51240.794674902085,
          -47148.04950665259,
          -45489.12002421862,
          -60035.355735186306,
          -44680.893509319234,
          -47339.947334108256,
          -59885.18345080086,
          -41090.432711623645,
          -51335.69636219805,
          -53680.7205852779,
          -43219.57063079796,
          -58306.893741211316,
          -47490.05337363705,
          -42382.6988320362,
          -40724.156885096636,
          -44945.69901444298,
          -47271.41327624211,
          -40907.25147798807,
          -46752.17189114907,
          -42805.17469366227,
          -49640.516333935906,
          -47211.30921897939,
          -42194.798734952405,
          -57176.86780610603,
          -41047.3763668503,
          -47975.62989430368,
          -46294.69652581508,
          -45592.662714596445,
          -33685.823037835005,
          -41654.28537091672,
          -54957.490989172344,
          -47129.8441634206,
          -49427.524137026114
         ],
         "xaxis": "x",
         "y": [
          646.5438723752026,
          -1055.9968931753706,
          -3476.7575329414058,
          -1789.8310613735057,
          -2464.366506729348,
          -672.1303645871014,
          -990.6075970316548,
          -975.011019926938,
          -2999.0481368530072,
          -2178.9512608782675,
          -958.5365645110777,
          -1016.3628176053376,
          -3844.0506429942843,
          -3004.1359250357314,
          -4573.135949676131,
          -3511.6505427575594,
          -2494.34601585477,
          -2125.5165732968326,
          1139.067724989406,
          -1656.4250558163055,
          -1500.5997535503473,
          -1529.949520138384,
          -1838.6646455566604,
          -458.7329379734705,
          -1039.8869670204513,
          -623.0248233972361,
          -2907.798180135492,
          -3704.1152030668836,
          -2964.871161538944,
          -1819.1411133435672,
          -2039.0519450914794,
          -3586.3929123393627,
          -3386.6313874278367,
          -1946.4256348815338,
          -1443.6312210611682,
          -1546.786022798466,
          -424.4944516024711,
          -5860.406970913431,
          -2626.494760123041,
          -3482.950924420315,
          -2385.930673599972,
          -2813.4088657561015,
          -3117.043572435125,
          -2388.3975155671865,
          -809.2478504066148,
          -3972.4372911141977,
          -2804.317598781817,
          -2106.9565485318585,
          -3258.5927312494287,
          -1255.0231217175212,
          -2395.1506203279114,
          -3145.8388116696315,
          -1283.2493416842203,
          -3447.522865699352,
          -1902.3037525718125,
          -2541.1040744024217,
          -1716.0957515179953,
          -4704.9007181400775,
          -918.4435413744588,
          -3329.424155750391,
          -874.5938320396256,
          -1450.7318688866637,
          -2812.640832274528,
          72.34189620852416,
          -2379.445392952536,
          -1341.6421504993384,
          -3330.0950893142635,
          -3652.143022077505,
          -1271.8366968001837,
          -1573.1293339464696,
          -2323.955025066743,
          -2003.379558614895,
          -3267.8530880659678,
          -2373.906852113616,
          -2520.8796709258995,
          -2662.2379174130597,
          -2551.640945867301,
          -4966.632983631628,
          -1998.314514884127,
          -1200.498708574702,
          -946.4427010468281,
          776.7213551828789,
          -2706.9542458595424,
          -2226.5238835946834,
          -3159.403065288739,
          -1681.1078093986168,
          -1747.2845158743758,
          -2299.177576458252,
          1229.6342021037983,
          -1061.3928297006291,
          -1806.3716349634774,
          -1918.0706539765365,
          -2913.1513261933937,
          -1690.2235244245417,
          -1059.5099705589173,
          -4327.599800404027,
          -559.8887343311573,
          -3267.6645334787445,
          -3656.860040523121,
          -3215.311753103619,
          -1788.59501925514,
          -3270.2500120301265,
          -3595.4264994551545,
          -512.1681616652372,
          -296.9479102201368,
          -219.83567344032213,
          -2876.0168218541626,
          -1034.0462861180697,
          -3209.70569985512,
          -2386.74467038797,
          -1709.6809922654047,
          -2297.410428456016,
          -361.8228772290619,
          -2456.0624695072056,
          -337.5831102994596,
          -948.1700320034151,
          -857.2365574199129,
          -2067.7852022028596,
          -3320.2381091067423,
          -2756.2104567652163,
          968.182184170173,
          -2507.468037848858,
          -2253.3249547903147,
          -1523.1531827794768,
          -982.637404545745,
          -1498.307062590402,
          -1025.6556377131592,
          -1026.2178281219428,
          -3403.3549980948783,
          -2663.4363034143603,
          -1422.2632521531468,
          -2247.7230980697605,
          -4260.667936777423,
          -2383.9235864924344,
          -2403.4526565005276,
          -497.02873214681625,
          -2831.244972649777,
          -500.3822260290377,
          163.0086019424056,
          -2697.4806496368724,
          -3445.1407626668765,
          -1858.7415428672755,
          -2359.981060852438,
          -1284.2763352326022,
          -1273.0340909671543,
          -2166.945526513025,
          -3282.496783689518
         ],
         "yaxis": "y"
        },
        {
         "customdata": [
          [
           88
          ],
          [
           59
          ],
          [
           59
          ],
          [
           88
          ],
          [
           37
          ],
          [
           33
          ],
          [
           90
          ],
          [
           31
          ],
          [
           90
          ],
          [
           91
          ],
          [
           29
          ],
          [
           83
          ],
          [
           84
          ],
          [
           87
          ],
          [
           22
          ],
          [
           58
          ],
          [
           31
          ],
          [
           33
          ],
          [
           56
          ],
          [
           30
          ],
          [
           85
          ],
          [
           87
          ],
          [
           34
          ],
          [
           61
          ],
          [
           30
          ],
          [
           88
          ],
          [
           56
          ],
          [
           30
          ],
          [
           25
          ],
          [
           61
          ],
          [
           88
          ],
          [
           37
          ],
          [
           35
          ],
          [
           85
          ],
          [
           85
          ],
          [
           88
          ],
          [
           59
          ],
          [
           90
          ],
          [
           33
          ],
          [
           62
          ],
          [
           59
          ],
          [
           91
          ],
          [
           33
          ],
          [
           87
          ],
          [
           26
          ],
          [
           88
          ],
          [
           24
          ],
          [
           91
          ],
          [
           86
          ],
          [
           36
          ],
          [
           87
          ],
          [
           33
          ],
          [
           59
          ],
          [
           29
          ],
          [
           59
          ],
          [
           57
          ],
          [
           40
          ],
          [
           42
          ],
          [
           89
          ],
          [
           93
          ],
          [
           17
          ],
          [
           24
          ],
          [
           34
          ],
          [
           90
          ],
          [
           20
          ],
          [
           92
          ],
          [
           84
          ],
          [
           59
          ],
          [
           61
          ],
          [
           67
          ],
          [
           82
          ],
          [
           94
          ],
          [
           28
          ],
          [
           36
          ],
          [
           91
          ],
          [
           34
          ],
          [
           77
          ],
          [
           63
          ],
          [
           35
          ],
          [
           21
          ],
          [
           86
          ],
          [
           56
          ],
          [
           83
          ],
          [
           28
          ],
          [
           59
          ],
          [
           83
          ],
          [
           83
          ],
          [
           58
          ],
          [
           91
          ],
          [
           29
          ],
          [
           61
          ],
          [
           84
          ],
          [
           34
          ],
          [
           33
          ],
          [
           55
          ],
          [
           88
          ],
          [
           91
          ],
          [
           91
          ],
          [
           84
          ],
          [
           87
          ],
          [
           39
          ],
          [
           38
          ],
          [
           89
          ],
          [
           59
          ],
          [
           35
          ],
          [
           59
          ],
          [
           87
          ],
          [
           94
          ],
          [
           86
          ],
          [
           60
          ],
          [
           79
          ],
          [
           86
          ],
          [
           60
          ],
          [
           85
          ],
          [
           92
          ],
          [
           37
          ],
          [
           89
          ],
          [
           67
          ],
          [
           31
          ],
          [
           20
          ],
          [
           37
          ],
          [
           57
          ],
          [
           87
          ],
          [
           33
          ],
          [
           56
          ],
          [
           67
          ],
          [
           58
          ],
          [
           89
          ],
          [
           34
          ],
          [
           25
          ],
          [
           44
          ],
          [
           68
          ],
          [
           31
          ],
          [
           58
          ],
          [
           55
          ],
          [
           21
          ],
          [
           36
          ],
          [
           88
          ],
          [
           26
          ],
          [
           29
          ],
          [
           38
          ],
          [
           79
          ],
          [
           51
          ],
          [
           82
          ],
          [
           39
          ],
          [
           87
          ],
          [
           36
          ],
          [
           57
          ],
          [
           61
          ],
          [
           86
          ],
          [
           86
          ],
          [
           35
          ],
          [
           89
          ],
          [
           30
          ],
          [
           60
          ],
          [
           64
          ]
         ],
         "hoverlabel": {
          "namelength": 0
         },
         "hovertemplate": "Cluster=Cluster 2<br>PCA1=%{x}<br>PCA2=%{y}<br>Feature=%{customdata[0]}",
         "legendgroup": "Cluster=Cluster 2",
         "marker": {
          "color": "#00cc96",
          "opacity": 0.5,
          "symbol": "circle"
         },
         "mode": "markers",
         "name": "Cluster=Cluster 2",
         "showlegend": true,
         "textposition": "top center",
         "type": "scatter",
         "x": [
          3574.867628285134,
          -1709.0067116984374,
          -6075.72394591187,
          5619.125538763626,
          -2220.635450610065,
          -1755.366356398991,
          5679.935032255557,
          -4114.665812502663,
          -4883.720561797812,
          -10371.487057071712,
          -5149.414552966308,
          4615.604589783893,
          1855.047986918686,
          -967.1345292294804,
          7017.407229806946,
          -4794.730185972456,
          -811.2733012583011,
          5122.282562298915,
          -12402.614006035732,
          -7981.746810683437,
          2868.67533589181,
          4968.764645874571,
          7034.566991846875,
          -9176.939917160444,
          -805.5182840466942,
          -6214.35491775637,
          -7827.504392605743,
          -7225.6566514965525,
          -6586.375015596342,
          -9270.983246113969,
          -1864.5940590614425,
          -9823.29297141865,
          3607.6218475354462,
          1547.9124395594235,
          -3147.971690102398,
          -3197.7706749317063,
          -3127.7464754071852,
          -10419.65072709327,
          -4661.643199436441,
          3333.0370081988885,
          -4588.845682887326,
          -1424.2968527852472,
          -11770.096221904683,
          -7431.169946592946,
          -6270.130057704632,
          -5787.584457334287,
          -7793.211508914156,
          2555.784235160213,
          -5898.744479681146,
          -5327.512619806882,
          -1710.0091006297725,
          -2630.7941352081784,
          1381.292543803894,
          -10238.837928743029,
          -2329.616759752765,
          -3536.624899618863,
          -11570.013629472285,
          -12594.175242128525,
          -3881.279223544831,
          -9447.566957019655,
          -4595.725467462922,
          5567.478117111807,
          9121.208329826175,
          4848.442764387981,
          499.49661809613417,
          -4176.722631704307,
          -6529.597912750254,
          -7423.928769536226,
          -9153.992100917832,
          4864.683651412996,
          -7249.028129796928,
          7325.256189492691,
          1198.2155272857265,
          -6945.490220855896,
          -5628.983771409206,
          -6874.447300583783,
          3175.73010088768,
          -10072.875118803528,
          -5806.077052611816,
          -6051.798027149634,
          11039.026942031705,
          -4972.922141129964,
          11129.424149229602,
          6644.597612798228,
          -611.8920766835446,
          -879.6961231840186,
          1270.59261863651,
          -3354.4093954920495,
          -3652.0516272195177,
          1535.320034923863,
          3442.0678654010426,
          1691.1469990055018,
          -9514.742122293763,
          -5495.930030665683,
          -11393.264281389038,
          -1006.7942808926935,
          -11385.807297750876,
          10499.407295945575,
          -5228.7735481430955,
          -2009.7086141751704,
          -847.3002227743394,
          -13124.391604038403,
          -6112.701966838933,
          -14757.626854505606,
          -5414.451723823093,
          -4197.9959955725035,
          -907.6690876091174,
          4241.775895153044,
          -2601.869628345944,
          1797.8692846207528,
          -860.4354477953818,
          13091.374153516676,
          -4333.353171495311,
          106.44730782999811,
          -5414.849621380292,
          -1148.5927138363143,
          834.6063416853532,
          -182.87509706289717,
          -12401.012614422623,
          384.48865377878644,
          -15876.014194933861,
          2392.9514000132303,
          -4856.160277619078,
          -9604.976101231396,
          -3578.641166763731,
          3594.042421690832,
          -5713.304475031714,
          -7793.454352086524,
          -18832.32308999509,
          277.3194547180366,
          2456.114942910885,
          3385.8220491313186,
          -1867.5011952055133,
          -4025.534586861492,
          -5506.504775277298,
          1380.9095854822583,
          -1254.7961050822776,
          1223.3332842063571,
          -10817.514881421732,
          375.61202524741367,
          -18377.080919160886,
          -7740.904879089717,
          -9600.009525716889,
          -284.93461613175106,
          -15159.901916245664,
          -4335.121223668245,
          -3902.6507601274043,
          -9955.599000501965,
          8122.08038041554,
          5073.487356522342,
          871.0561448640424,
          3735.222300120541,
          -8175.944783841647,
          -7927.27939399956,
          -3222.028497117645,
          2663.814142724259
         ],
         "xaxis": "x",
         "y": [
          6638.189488143048,
          3684.6952959403593,
          3500.5964543132536,
          4314.803908984969,
          4177.14012928185,
          4273.2053018476345,
          4711.285967238693,
          3078.896438494593,
          4688.370746949258,
          6211.274488459199,
          5556.666139133818,
          5713.442041909503,
          5468.743274286697,
          4638.724240674151,
          5588.800602998204,
          5174.470545977295,
          4771.515153180693,
          3424.073603905288,
          4277.42043279043,
          3467.5659749114184,
          5223.642330390357,
          3943.1170736339127,
          3374.2871342934272,
          7146.662858252778,
          4348.095679784136,
          8154.200533863806,
          5701.697575023513,
          4564.617621855316,
          4795.659622307598,
          5996.549152653393,
          5267.352553209776,
          6862.24757208061,
          4852.444518767339,
          3973.906997486512,
          5506.996622913861,
          5127.949261280455,
          5318.281993622225,
          5982.858221439131,
          4875.41203439204,
          4012.2154933423153,
          4468.268102563843,
          7267.328542397005,
          5001.420783196851,
          6342.036901878027,
          5401.821696967169,
          5711.628393266969,
          6334.243251982047,
          5164.690387393574,
          5205.840154213879,
          5507.674538617933,
          5692.091704359401,
          5512.809888472101,
          5207.22109750901,
          7423.315368546435,
          6502.207882775591,
          5070.413098436326,
          6393.584927460235,
          5058.593507665866,
          3532.7508016456363,
          6026.370137728771,
          4575.315245883314,
          6399.67945792858,
          4076.1888638584974,
          6716.389270082329,
          4450.5724650858,
          5121.948177991021,
          5174.06001607075,
          5595.425208078429,
          6237.4550067497985,
          4834.9539918658875,
          5030.101509904846,
          5245.750156657964,
          6031.597780098119,
          5240.283697626604,
          3413.4609900340324,
          3266.4701832643786,
          4727.0798130553485,
          7033.83230622547,
          5686.132349951808,
          6221.683453940021,
          4384.687289531573,
          5053.974394482307,
          2451.3956456354927,
          6074.108821940039,
          2642.8564628733106,
          4574.029852480233,
          4918.861099714736,
          4039.0497082186084,
          4298.147934215797,
          6617.143404468857,
          3293.925709825785,
          4305.605513370139,
          5484.062210130751,
          5033.927181148622,
          4760.72668383612,
          6827.736752280872,
          5239.83448625213,
          4092.586810582497,
          4906.821369117009,
          4571.311601888515,
          5435.293808150465,
          5122.298575466133,
          7150.265686204209,
          5008.0121037786075,
          6401.496850378557,
          4646.423038232094,
          4662.571801362161,
          4854.373611538008,
          5720.063910631847,
          3616.906622264862,
          1366.2175061913904,
          3878.074005604356,
          6791.121727987131,
          5019.545071865859,
          4509.37894804773,
          6154.518606181515,
          5141.101367432591,
          4411.3243537762855,
          6731.622371228142,
          6845.14181437128,
          7337.462584330768,
          5992.684094109707,
          6861.841710581507,
          5517.456998799792,
          4687.331305792245,
          5244.223767536206,
          6098.407171499209,
          5788.853893383747,
          6823.253328040567,
          5152.077722121314,
          5539.978254276128,
          4513.159427781257,
          2685.6626854367955,
          5644.552199614271,
          6298.430178867734,
          5567.112673818732,
          6380.915494292793,
          5666.367954752701,
          6677.482101590938,
          5049.606296947776,
          5086.374324713102,
          5133.639471687388,
          4923.281603355223,
          4064.0083360808094,
          5573.243592768727,
          2658.297518890414,
          5499.339332721766,
          4085.312250446121,
          4731.012058760931,
          5244.436809348918,
          5689.0004530919105,
          4370.467828822719,
          5599.274828311294,
          5673.527728610803,
          4129.181189416357,
          3399.1203547303226
         ],
         "yaxis": "y"
        },
        {
         "customdata": [
          [
           37
          ],
          [
           65
          ],
          [
           90
          ],
          [
           59
          ],
          [
           29
          ],
          [
           58
          ],
          [
           88
          ],
          [
           63
          ],
          [
           92
          ],
          [
           17
          ],
          [
           34
          ],
          [
           22
          ],
          [
           24
          ],
          [
           36
          ],
          [
           34
          ],
          [
           87
          ],
          [
           85
          ],
          [
           61
          ],
          [
           27
          ],
          [
           59
          ],
          [
           31
          ],
          [
           31
          ],
          [
           93
          ],
          [
           17
          ],
          [
           35
          ],
          [
           28
          ],
          [
           94
          ],
          [
           28
          ],
          [
           33
          ],
          [
           56
          ],
          [
           28
          ],
          [
           86
          ],
          [
           92
          ],
          [
           18
          ],
          [
           61
          ],
          [
           32
          ],
          [
           63
          ],
          [
           58
          ],
          [
           31
          ],
          [
           62
          ],
          [
           60
          ],
          [
           62
          ],
          [
           90
          ],
          [
           33
          ],
          [
           33
          ],
          [
           65
          ],
          [
           59
          ],
          [
           65
          ],
          [
           86
          ],
          [
           32
          ],
          [
           84
          ],
          [
           84
          ],
          [
           90
          ],
          [
           91
          ],
          [
           26
          ],
          [
           92
          ],
          [
           97
          ],
          [
           84
          ],
          [
           58
          ],
          [
           61
          ],
          [
           92
          ],
          [
           87
          ],
          [
           66
          ],
          [
           22
          ],
          [
           91
          ],
          [
           30
          ],
          [
           25
          ],
          [
           28
          ],
          [
           93
          ],
          [
           90
          ],
          [
           91
          ],
          [
           89
          ]
         ],
         "hoverlabel": {
          "namelength": 0
         },
         "hovertemplate": "Cluster=Cluster 3<br>PCA1=%{x}<br>PCA2=%{y}<br>Feature=%{customdata[0]}",
         "legendgroup": "Cluster=Cluster 3",
         "marker": {
          "color": "#ab63fa",
          "opacity": 0.5,
          "symbol": "circle"
         },
         "mode": "markers",
         "name": "Cluster=Cluster 3",
         "showlegend": true,
         "textposition": "top center",
         "type": "scatter",
         "x": [
          48551.897791192634,
          42414.13984409393,
          46271.74999066811,
          48029.235982960905,
          62912.45709780569,
          43629.01273923754,
          55587.35173073357,
          56651.45548374747,
          41328.25266330998,
          43861.74709102551,
          53899.234059979586,
          44952.902035388935,
          47549.76254622708,
          47842.88367906651,
          59798.174828499716,
          47182.0685815558,
          51395.22435599951,
          57857.28905692229,
          47415.38916240533,
          58984.55027496726,
          48410.00929047229,
          55168.45154506188,
          59803.045579193,
          53976.79000263129,
          56449.6781382814,
          46993.641087908385,
          53422.55248570126,
          41580.27174463821,
          47836.44839182684,
          48602.571111840196,
          52465.033586659905,
          52263.494108744446,
          50433.85138453333,
          51532.47005840451,
          46000.802484699554,
          63317.0665324429,
          52086.38065892723,
          50397.083897731354,
          43600.216180309755,
          54542.560260911276,
          52679.13742245059,
          54778.91990969146,
          45728.40114434412,
          59239.85352839813,
          41859.15436997561,
          48281.96476402191,
          54230.3114204766,
          49923.232402586305,
          48577.245944563685,
          45920.303846007584,
          45302.570904167434,
          55809.60825993981,
          43084.431301068376,
          48697.32854440995,
          50874.59373315185,
          44074.74432267948,
          47210.61128412962,
          52844.214540832116,
          47518.88131856792,
          53924.597039558765,
          42157.80542870099,
          66750.62108457655,
          45280.29645748763,
          61617.25602185721,
          61085.161815426894,
          41933.8763490921,
          55783.428858014915,
          42045.7957025714,
          55795.997914963955,
          45049.71303774848,
          59196.5930863391,
          47964.55226138692
         ],
         "xaxis": "x",
         "y": [
          4668.214697412172,
          -5432.2818195096415,
          4207.414796612183,
          5422.323757682564,
          5261.35521326639,
          -6254.840941209122,
          3427.1351952588107,
          4271.292185091135,
          -4823.645899335598,
          -6877.035883382065,
          3176.7468854090907,
          -4985.514801220395,
          3437.89648239478,
          4758.188729714916,
          4315.751792559066,
          -4557.7166017918735,
          5657.241494980817,
          5717.501137167641,
          4709.388807631825,
          3350.711617933647,
          -5693.665441157445,
          4016.981622201614,
          8450.30756249261,
          5488.389984582108,
          5101.398697367522,
          -4647.129088588649,
          3894.2354791277494,
          -5615.560772408638,
          6059.983323374551,
          6249.537360930082,
          3371.5330650130977,
          5916.358054129832,
          -6854.206134077954,
          6006.733833662532,
          3884.452851319084,
          4946.17751012051,
          3388.4270346813746,
          2890.5509685647044,
          -5657.4788315200085,
          4193.8829993723075,
          -4749.057025715362,
          4629.791365281097,
          3658.306501252221,
          4745.144589124808,
          -4543.326267067194,
          8499.966944599806,
          3238.428770323684,
          6048.724079227707,
          -6305.30775967273,
          -4953.921129423359,
          3778.1814213096077,
          3879.149733262657,
          -4660.855622444507,
          5282.497809754306,
          -5178.052813440071,
          -6307.669140625979,
          6674.234677495917,
          -5677.667475551911,
          4941.99936297327,
          5765.842845736466,
          -5954.454601851143,
          2693.008186621753,
          4437.356566167739,
          6726.313750520612,
          4243.721728508765,
          4717.997205237609,
          4732.087714707708,
          -3106.1034758683563,
          4252.897540706996,
          4590.8725834561055,
          3903.9749268153705,
          -4397.186114919677
         ],
         "yaxis": "y"
        }
       ],
       "layout": {
        "height": 600,
        "legend": {
         "tracegroupgap": 0
        },
        "margin": {
         "t": 60
        },
        "plot_bgcolor": "rgb(240,240,240)",
        "template": {
         "data": {
          "bar": [
           {
            "error_x": {
             "color": "#2a3f5f"
            },
            "error_y": {
             "color": "#2a3f5f"
            },
            "marker": {
             "line": {
              "color": "#E5ECF6",
              "width": 0.5
             }
            },
            "type": "bar"
           }
          ],
          "barpolar": [
           {
            "marker": {
             "line": {
              "color": "#E5ECF6",
              "width": 0.5
             }
            },
            "type": "barpolar"
           }
          ],
          "carpet": [
           {
            "aaxis": {
             "endlinecolor": "#2a3f5f",
             "gridcolor": "white",
             "linecolor": "white",
             "minorgridcolor": "white",
             "startlinecolor": "#2a3f5f"
            },
            "baxis": {
             "endlinecolor": "#2a3f5f",
             "gridcolor": "white",
             "linecolor": "white",
             "minorgridcolor": "white",
             "startlinecolor": "#2a3f5f"
            },
            "type": "carpet"
           }
          ],
          "choropleth": [
           {
            "colorbar": {
             "outlinewidth": 0,
             "ticks": ""
            },
            "type": "choropleth"
           }
          ],
          "contour": [
           {
            "colorbar": {
             "outlinewidth": 0,
             "ticks": ""
            },
            "colorscale": [
             [
              0,
              "#0d0887"
             ],
             [
              0.1111111111111111,
              "#46039f"
             ],
             [
              0.2222222222222222,
              "#7201a8"
             ],
             [
              0.3333333333333333,
              "#9c179e"
             ],
             [
              0.4444444444444444,
              "#bd3786"
             ],
             [
              0.5555555555555556,
              "#d8576b"
             ],
             [
              0.6666666666666666,
              "#ed7953"
             ],
             [
              0.7777777777777778,
              "#fb9f3a"
             ],
             [
              0.8888888888888888,
              "#fdca26"
             ],
             [
              1,
              "#f0f921"
             ]
            ],
            "type": "contour"
           }
          ],
          "contourcarpet": [
           {
            "colorbar": {
             "outlinewidth": 0,
             "ticks": ""
            },
            "type": "contourcarpet"
           }
          ],
          "heatmap": [
           {
            "colorbar": {
             "outlinewidth": 0,
             "ticks": ""
            },
            "colorscale": [
             [
              0,
              "#0d0887"
             ],
             [
              0.1111111111111111,
              "#46039f"
             ],
             [
              0.2222222222222222,
              "#7201a8"
             ],
             [
              0.3333333333333333,
              "#9c179e"
             ],
             [
              0.4444444444444444,
              "#bd3786"
             ],
             [
              0.5555555555555556,
              "#d8576b"
             ],
             [
              0.6666666666666666,
              "#ed7953"
             ],
             [
              0.7777777777777778,
              "#fb9f3a"
             ],
             [
              0.8888888888888888,
              "#fdca26"
             ],
             [
              1,
              "#f0f921"
             ]
            ],
            "type": "heatmap"
           }
          ],
          "heatmapgl": [
           {
            "colorbar": {
             "outlinewidth": 0,
             "ticks": ""
            },
            "colorscale": [
             [
              0,
              "#0d0887"
             ],
             [
              0.1111111111111111,
              "#46039f"
             ],
             [
              0.2222222222222222,
              "#7201a8"
             ],
             [
              0.3333333333333333,
              "#9c179e"
             ],
             [
              0.4444444444444444,
              "#bd3786"
             ],
             [
              0.5555555555555556,
              "#d8576b"
             ],
             [
              0.6666666666666666,
              "#ed7953"
             ],
             [
              0.7777777777777778,
              "#fb9f3a"
             ],
             [
              0.8888888888888888,
              "#fdca26"
             ],
             [
              1,
              "#f0f921"
             ]
            ],
            "type": "heatmapgl"
           }
          ],
          "histogram": [
           {
            "marker": {
             "colorbar": {
              "outlinewidth": 0,
              "ticks": ""
             }
            },
            "type": "histogram"
           }
          ],
          "histogram2d": [
           {
            "colorbar": {
             "outlinewidth": 0,
             "ticks": ""
            },
            "colorscale": [
             [
              0,
              "#0d0887"
             ],
             [
              0.1111111111111111,
              "#46039f"
             ],
             [
              0.2222222222222222,
              "#7201a8"
             ],
             [
              0.3333333333333333,
              "#9c179e"
             ],
             [
              0.4444444444444444,
              "#bd3786"
             ],
             [
              0.5555555555555556,
              "#d8576b"
             ],
             [
              0.6666666666666666,
              "#ed7953"
             ],
             [
              0.7777777777777778,
              "#fb9f3a"
             ],
             [
              0.8888888888888888,
              "#fdca26"
             ],
             [
              1,
              "#f0f921"
             ]
            ],
            "type": "histogram2d"
           }
          ],
          "histogram2dcontour": [
           {
            "colorbar": {
             "outlinewidth": 0,
             "ticks": ""
            },
            "colorscale": [
             [
              0,
              "#0d0887"
             ],
             [
              0.1111111111111111,
              "#46039f"
             ],
             [
              0.2222222222222222,
              "#7201a8"
             ],
             [
              0.3333333333333333,
              "#9c179e"
             ],
             [
              0.4444444444444444,
              "#bd3786"
             ],
             [
              0.5555555555555556,
              "#d8576b"
             ],
             [
              0.6666666666666666,
              "#ed7953"
             ],
             [
              0.7777777777777778,
              "#fb9f3a"
             ],
             [
              0.8888888888888888,
              "#fdca26"
             ],
             [
              1,
              "#f0f921"
             ]
            ],
            "type": "histogram2dcontour"
           }
          ],
          "mesh3d": [
           {
            "colorbar": {
             "outlinewidth": 0,
             "ticks": ""
            },
            "type": "mesh3d"
           }
          ],
          "parcoords": [
           {
            "line": {
             "colorbar": {
              "outlinewidth": 0,
              "ticks": ""
             }
            },
            "type": "parcoords"
           }
          ],
          "pie": [
           {
            "automargin": true,
            "type": "pie"
           }
          ],
          "scatter": [
           {
            "marker": {
             "colorbar": {
              "outlinewidth": 0,
              "ticks": ""
             }
            },
            "type": "scatter"
           }
          ],
          "scatter3d": [
           {
            "line": {
             "colorbar": {
              "outlinewidth": 0,
              "ticks": ""
             }
            },
            "marker": {
             "colorbar": {
              "outlinewidth": 0,
              "ticks": ""
             }
            },
            "type": "scatter3d"
           }
          ],
          "scattercarpet": [
           {
            "marker": {
             "colorbar": {
              "outlinewidth": 0,
              "ticks": ""
             }
            },
            "type": "scattercarpet"
           }
          ],
          "scattergeo": [
           {
            "marker": {
             "colorbar": {
              "outlinewidth": 0,
              "ticks": ""
             }
            },
            "type": "scattergeo"
           }
          ],
          "scattergl": [
           {
            "marker": {
             "colorbar": {
              "outlinewidth": 0,
              "ticks": ""
             }
            },
            "type": "scattergl"
           }
          ],
          "scattermapbox": [
           {
            "marker": {
             "colorbar": {
              "outlinewidth": 0,
              "ticks": ""
             }
            },
            "type": "scattermapbox"
           }
          ],
          "scatterpolar": [
           {
            "marker": {
             "colorbar": {
              "outlinewidth": 0,
              "ticks": ""
             }
            },
            "type": "scatterpolar"
           }
          ],
          "scatterpolargl": [
           {
            "marker": {
             "colorbar": {
              "outlinewidth": 0,
              "ticks": ""
             }
            },
            "type": "scatterpolargl"
           }
          ],
          "scatterternary": [
           {
            "marker": {
             "colorbar": {
              "outlinewidth": 0,
              "ticks": ""
             }
            },
            "type": "scatterternary"
           }
          ],
          "surface": [
           {
            "colorbar": {
             "outlinewidth": 0,
             "ticks": ""
            },
            "colorscale": [
             [
              0,
              "#0d0887"
             ],
             [
              0.1111111111111111,
              "#46039f"
             ],
             [
              0.2222222222222222,
              "#7201a8"
             ],
             [
              0.3333333333333333,
              "#9c179e"
             ],
             [
              0.4444444444444444,
              "#bd3786"
             ],
             [
              0.5555555555555556,
              "#d8576b"
             ],
             [
              0.6666666666666666,
              "#ed7953"
             ],
             [
              0.7777777777777778,
              "#fb9f3a"
             ],
             [
              0.8888888888888888,
              "#fdca26"
             ],
             [
              1,
              "#f0f921"
             ]
            ],
            "type": "surface"
           }
          ],
          "table": [
           {
            "cells": {
             "fill": {
              "color": "#EBF0F8"
             },
             "line": {
              "color": "white"
             }
            },
            "header": {
             "fill": {
              "color": "#C8D4E3"
             },
             "line": {
              "color": "white"
             }
            },
            "type": "table"
           }
          ]
         },
         "layout": {
          "annotationdefaults": {
           "arrowcolor": "#2a3f5f",
           "arrowhead": 0,
           "arrowwidth": 1
          },
          "coloraxis": {
           "colorbar": {
            "outlinewidth": 0,
            "ticks": ""
           }
          },
          "colorscale": {
           "diverging": [
            [
             0,
             "#8e0152"
            ],
            [
             0.1,
             "#c51b7d"
            ],
            [
             0.2,
             "#de77ae"
            ],
            [
             0.3,
             "#f1b6da"
            ],
            [
             0.4,
             "#fde0ef"
            ],
            [
             0.5,
             "#f7f7f7"
            ],
            [
             0.6,
             "#e6f5d0"
            ],
            [
             0.7,
             "#b8e186"
            ],
            [
             0.8,
             "#7fbc41"
            ],
            [
             0.9,
             "#4d9221"
            ],
            [
             1,
             "#276419"
            ]
           ],
           "sequential": [
            [
             0,
             "#0d0887"
            ],
            [
             0.1111111111111111,
             "#46039f"
            ],
            [
             0.2222222222222222,
             "#7201a8"
            ],
            [
             0.3333333333333333,
             "#9c179e"
            ],
            [
             0.4444444444444444,
             "#bd3786"
            ],
            [
             0.5555555555555556,
             "#d8576b"
            ],
            [
             0.6666666666666666,
             "#ed7953"
            ],
            [
             0.7777777777777778,
             "#fb9f3a"
            ],
            [
             0.8888888888888888,
             "#fdca26"
            ],
            [
             1,
             "#f0f921"
            ]
           ],
           "sequentialminus": [
            [
             0,
             "#0d0887"
            ],
            [
             0.1111111111111111,
             "#46039f"
            ],
            [
             0.2222222222222222,
             "#7201a8"
            ],
            [
             0.3333333333333333,
             "#9c179e"
            ],
            [
             0.4444444444444444,
             "#bd3786"
            ],
            [
             0.5555555555555556,
             "#d8576b"
            ],
            [
             0.6666666666666666,
             "#ed7953"
            ],
            [
             0.7777777777777778,
             "#fb9f3a"
            ],
            [
             0.8888888888888888,
             "#fdca26"
            ],
            [
             1,
             "#f0f921"
            ]
           ]
          },
          "colorway": [
           "#636efa",
           "#EF553B",
           "#00cc96",
           "#ab63fa",
           "#FFA15A",
           "#19d3f3",
           "#FF6692",
           "#B6E880",
           "#FF97FF",
           "#FECB52"
          ],
          "font": {
           "color": "#2a3f5f"
          },
          "geo": {
           "bgcolor": "white",
           "lakecolor": "white",
           "landcolor": "#E5ECF6",
           "showlakes": true,
           "showland": true,
           "subunitcolor": "white"
          },
          "hoverlabel": {
           "align": "left"
          },
          "hovermode": "closest",
          "mapbox": {
           "style": "light"
          },
          "paper_bgcolor": "white",
          "plot_bgcolor": "#E5ECF6",
          "polar": {
           "angularaxis": {
            "gridcolor": "white",
            "linecolor": "white",
            "ticks": ""
           },
           "bgcolor": "#E5ECF6",
           "radialaxis": {
            "gridcolor": "white",
            "linecolor": "white",
            "ticks": ""
           }
          },
          "scene": {
           "xaxis": {
            "backgroundcolor": "#E5ECF6",
            "gridcolor": "white",
            "gridwidth": 2,
            "linecolor": "white",
            "showbackground": true,
            "ticks": "",
            "zerolinecolor": "white"
           },
           "yaxis": {
            "backgroundcolor": "#E5ECF6",
            "gridcolor": "white",
            "gridwidth": 2,
            "linecolor": "white",
            "showbackground": true,
            "ticks": "",
            "zerolinecolor": "white"
           },
           "zaxis": {
            "backgroundcolor": "#E5ECF6",
            "gridcolor": "white",
            "gridwidth": 2,
            "linecolor": "white",
            "showbackground": true,
            "ticks": "",
            "zerolinecolor": "white"
           }
          },
          "shapedefaults": {
           "line": {
            "color": "#2a3f5f"
           }
          },
          "ternary": {
           "aaxis": {
            "gridcolor": "white",
            "linecolor": "white",
            "ticks": ""
           },
           "baxis": {
            "gridcolor": "white",
            "linecolor": "white",
            "ticks": ""
           },
           "bgcolor": "#E5ECF6",
           "caxis": {
            "gridcolor": "white",
            "linecolor": "white",
            "ticks": ""
           }
          },
          "title": {
           "x": 0.05
          },
          "xaxis": {
           "automargin": true,
           "gridcolor": "white",
           "linecolor": "white",
           "ticks": "",
           "title": {
            "standoff": 15
           },
           "zerolinecolor": "white",
           "zerolinewidth": 2
          },
          "yaxis": {
           "automargin": true,
           "gridcolor": "white",
           "linecolor": "white",
           "ticks": "",
           "title": {
            "standoff": 15
           },
           "zerolinecolor": "white",
           "zerolinewidth": 2
          }
         }
        },
        "title": {
         "text": "2D Cluster PCA Plot"
        },
        "xaxis": {
         "anchor": "y",
         "domain": [
          0,
          1
         ],
         "title": {
          "text": "PCA1"
         }
        },
        "yaxis": {
         "anchor": "x",
         "domain": [
          0,
          1
         ],
         "title": {
          "text": "PCA2"
         }
        }
       }
      },
      "text/html": [
       "<div>\n",
       "        \n",
       "        \n",
       "            <div id=\"29ed3a4b-90e7-4f29-9362-9e457c492cb3\" class=\"plotly-graph-div\" style=\"height:600px; width:100%;\"></div>\n",
       "            <script type=\"text/javascript\">\n",
       "                require([\"plotly\"], function(Plotly) {\n",
       "                    window.PLOTLYENV=window.PLOTLYENV || {};\n",
       "                    \n",
       "                if (document.getElementById(\"29ed3a4b-90e7-4f29-9362-9e457c492cb3\")) {\n",
       "                    Plotly.newPlot(\n",
       "                        '29ed3a4b-90e7-4f29-9362-9e457c492cb3',\n",
       "                        [{\"customdata\": [[58], [59], [62], [59], [87], [29], [54], [87], [83], [84], [85], [36], [30], [31], [61], [92], [55], [87], [82], [88], [30], [84], [53], [91], [89], [30], [17], [55], [90], [61], [59], [59], [88], [56], [33], [61], [84], [61], [39], [31], [60], [87], [20], [57], [61], [18], [83], [25], [31], [55], [84], [36], [27], [91], [53], [91], [25], [83], [87], [90], [83], [83], [83], [61], [64], [62], [91], [28], [23], [55], [58], [31], [83], [91], [30], [57], [33], [59], [58], [29], [59], [84], [64], [87], [88], [35], [34], [58], [56], [63], [58], [60], [24], [94], [58], [25], [36], [62], [66], [37], [27], [24], [31], [23], [34], [88], [89], [32], [38], [57], [90], [33], [66], [35], [31], [35], [63], [30], [22], [84], [28], [88], [84], [88], [35], [82], [64], [91], [62], [62]], \"hoverlabel\": {\"namelength\": 0}, \"hovertemplate\": \"Cluster=Cluster 0<br>PCA1=%{x}<br>PCA2=%{y}<br>Feature=%{customdata[0]}\", \"legendgroup\": \"Cluster=Cluster 0\", \"marker\": {\"color\": \"#636efa\", \"opacity\": 0.5, \"symbol\": \"circle\"}, \"mode\": \"markers\", \"name\": \"Cluster=Cluster 0\", \"showlegend\": true, \"textposition\": \"top center\", \"type\": \"scatter\", \"x\": [34815.254920538064, 23896.36880790408, 26578.153196266176, 28681.549887585734, 26003.5224319256, 31202.412682476068, 33217.92661094809, 22236.169474372266, 20592.34661300776, 39135.37622313005, 35036.71585548719, 31317.298064553695, 18943.37281781302, 20486.140695945443, 34834.90179465998, 35572.715386853546, 30806.776341952773, 39399.40138181148, 34753.148485730795, 23022.218263126633, 33379.4205846891, 29861.546669621443, 28912.89513619993, 28627.25985640029, 37228.73474520067, 24491.388898644724, 26507.042872359903, 32691.869561685715, 28639.38500245049, 23196.213306438218, 32289.540207166643, 34830.86603735357, 31016.95277066786, 30268.705481263274, 40419.57669510414, 37194.90227907418, 33345.15627123117, 31502.360342968208, 26343.678673902446, 32561.025360063282, 23858.598240023413, 36008.7253591223, 30155.334159636972, 26312.372968927517, 16918.67620110012, 15177.31971466768, 30950.101839682375, 23748.67781545404, 23392.942046850578, 35023.21627080028, 29240.50974864809, 35711.07999432943, 19785.99439327467, 32853.06228369526, 30836.978307627433, 26023.56635140615, 27412.69140542122, 38543.62512292868, 32149.921292682862, 26228.37628643618, 34060.87750047383, 24819.360949497735, 31330.343984524763, 27758.387575808196, 28960.634964946763, 36813.76713420395, 33203.842568888016, 27456.913266673095, 31960.754514207245, 29210.55694643968, 36260.39985707386, 26983.046364278187, 37939.71700891234, 39941.2373750961, 30614.165778553554, 38938.11813871433, 23470.847033328013, 32322.908553122463, 26071.981181359235, 34360.48180735056, 24294.80847834633, 14006.000965365394, 25765.790042328346, 32307.93672914093, 25328.069962281657, 32416.939873895528, 22105.034591078245, 30046.48908092605, 31911.001239366324, 22350.769816321557, 23967.006087975617, 30148.682673916068, 41298.631292835045, 25363.9192267204, 25732.344972190545, 23032.68012465126, 38847.169767760795, 15764.491431415827, 32345.70842870058, 31045.220255678774, 31361.08526779913, 31253.46853044941, 32210.979768642395, 35758.27543553668, 35579.20581580631, 19295.267686809562, 21973.307950443814, 22258.60866856989, 22393.417730180117, 40673.859644327444, 31614.442565419075, 25474.40276379727, 32912.892063315834, 35187.91053468464, 24827.97878054596, 40849.480597690614, 30584.12461511323, 30949.636901997932, 24613.751980326102, 26298.14841024672, 38869.649452671685, 39513.27355543242, 32572.750272366186, 22224.556143435275, 32797.643669354926, 21900.785300032752, 25938.050496756237, 25376.693266073144, 19017.169464917493, 24706.128352845146], \"xaxis\": \"x\", \"y\": [-5108.281670571731, -4653.572550884042, -4542.181472406768, -4194.112454577071, -3786.13364247153, -4006.880782404124, -4387.404636496326, -4400.042331000773, -4611.587648361573, -4339.707016425756, -6415.699536226249, -6141.763263553495, -6099.926511675162, -4804.203700356802, -5079.540930731745, -4807.665202226775, -5560.204679600003, -5202.090344164468, -4008.5890127539024, -4439.122859420634, -4139.05304404694, -4210.491742797324, -5224.554435670843, -3324.816421778016, -4575.537648425253, -3378.54409054787, -5484.6746561210975, -6066.457122934576, -3130.950539346104, -5613.714946473871, -3634.34136064074, -5377.229021116216, -4865.004407317281, -4917.675594824386, -6642.233640263946, -4030.4860762357507, -6080.299826048204, -5081.205331963823, -3863.006874934308, -5658.529147335396, -4857.997302514554, -6111.70517139526, -6491.845916302065, -4286.4053602873355, -2877.1946078768788, 4253.670268811264, -6274.399407676458, -4085.38788854078, -5117.926369906294, -4416.577273256117, -5240.709879901142, -4543.481105344735, -4699.391527469766, -5910.595724540102, -4248.410998779931, -7172.334785619936, -5970.65960581778, -7198.063753004433, -5508.945169399096, -4266.484164687802, -5075.678351149006, -6443.1165674782, -5635.163544619186, -3524.601882041495, -5439.902381792009, -4615.46212987063, -6552.893169384942, -4868.312164441829, -7950.1376799045365, -6286.356908964105, -3890.3447962612577, -2897.418110778121, -4683.440281859752, -5237.495032301001, -4762.434912619339, -4443.1698152763865, -4720.24892540839, -3681.290385681804, -4687.764619495448, -5038.816440742177, -3156.174867738153, -1775.6050399833543, -4647.515091833702, -3401.0815217687787, -4507.818852759073, -3316.8737845198525, -4346.187741550611, -2733.1094851712664, -2672.9112969661546, -5405.192380070513, -5918.696393593377, -3727.6412226852476, -6422.065006311351, -6518.877743618625, -4846.2800097461195, -5461.179044520954, -8209.63930809387, -2149.152212076626, -2201.7204362153557, -4354.880673536976, -4837.589604607754, -4792.8201724446635, -5806.362366658899, -4122.472097486014, -6195.256515402726, -3266.650100279915, -5227.972306159952, -5195.925409188556, -5150.746928288215, -5771.82771658853, -3948.4131537015087, -4541.161711915866, -4588.664684244311, -4164.858385743974, -5088.6083123016115, -5591.4308623525085, -5198.651743783721, -4397.197322284792, -3288.4642893518358, -5023.038755192275, -4117.836047019013, -4805.682520520937, -6711.005814772026, -5737.014216399171, -5654.546848389321, -5234.914435436247, -4054.252841897085, -3922.329207394543, -4587.056600403998, -6304.286871577941], \"yaxis\": \"y\"}, {\"customdata\": [[34], [60], [32], [65], [24], [88], [82], [26], [60], [31], [85], [63], [56], [28], [58], [26], [62], [86], [56], [91], [59], [28], [85], [65], [94], [86], [30], [62], [85], [59], [30], [83], [66], [31], [88], [28], [85], [64], [33], [62], [89], [61], [29], [56], [92], [62], [60], [85], [88], [94], [62], [64], [29], [27], [31], [87], [32], [63], [58], [62], [32], [93], [59], [61], [53], [82], [28], [32], [89], [84], [87], [29], [58], [29], [55], [25], [60], [88], [24], [56], [95], [89], [86], [85], [60], [87], [29], [23], [31], [89], [58], [56], [37], [89], [29], [23], [34], [64], [63], [85], [62], [59], [92], [67], [58], [58], [38], [57], [31], [36], [25], [66], [64], [59], [90], [68], [35], [84], [24], [29], [28], [81], [57], [37], [91], [82], [36], [31], [61], [64], [83], [63], [55], [86], [57], [94], [37], [26], [57], [37], [88], [61], [91], [84], [43], [59], [90]], \"hoverlabel\": {\"namelength\": 0}, \"hovertemplate\": \"Cluster=Cluster 1<br>PCA1=%{x}<br>PCA2=%{y}<br>Feature=%{customdata[0]}\", \"legendgroup\": \"Cluster=Cluster 1\", \"marker\": {\"color\": \"#EF553B\", \"opacity\": 0.5, \"symbol\": \"circle\"}, \"mode\": \"markers\", \"name\": \"Cluster=Cluster 1\", \"showlegend\": true, \"textposition\": \"top center\", \"type\": \"scatter\", \"x\": [-49206.0729792362, -54413.158553524714, -48754.55322293145, -50446.68725850558, -43231.47790879878, -63656.34758998012, -55368.984275680115, -48469.75822555576, -51191.183110267935, -39063.28667619089, -63634.72200273954, -49952.56386424753, -43811.47262039388, -36822.88272990107, -42594.24300193297, -53514.36608306823, -49610.67501015969, -28705.21282676981, -47927.75615335324, -45504.92821664384, -46897.287204841836, -56491.72616160142, -53103.84791289731, -50055.78756429355, -56854.24491468409, -48459.57885316466, -50029.048673484416, -53329.08890863792, -53484.99044797619, -49274.44239615929, -41272.89533986179, -48254.00622992489, -55116.83601816837, -58771.33010043616, -51459.51350546342, -57750.75774612389, -48448.1898213934, -39916.5906115269, -56820.08755360424, -42172.09142372813, -37510.58801132117, -42253.87287795822, -48890.162042831646, -43012.76978349139, -44821.271955370925, -46206.76070917286, -42432.64509966226, -48329.375219863425, -47000.17170879289, -48496.84792497302, -46522.91941975117, -39882.02333138302, -28723.991919565997, -37730.76934060818, -48762.36466827119, -50504.82314273769, -45508.35388587766, -46108.56441807311, -45148.062146087905, -58127.50387027001, -57495.82751822279, -56178.67327005175, -39708.646989663466, -45316.58140609556, -55300.43835611646, -51304.420791210185, -48867.33422412472, -47072.8327082788, -52350.13688160767, -42485.19893050838, -42546.30928703383, -52508.303533435734, -45053.501151340155, -53120.54070874581, -48031.600338698336, -57516.27318363642, -49855.360239061156, -38870.67264138034, -51858.95285225973, -49618.56425158389, -42334.047671506334, -53905.330808706676, -49083.98904448346, -47366.64939309711, -40276.44813108954, -44316.39097613651, -46888.40589877376, -41183.65207165711, -51006.62596717178, -46621.675189920854, -55003.11473536293, -40392.52353813575, -55837.896212559055, -57945.29400939378, -44891.726940178145, -33223.787927586905, -41229.08532646791, -48086.47161506781, -45889.16124528393, -39730.75492373196, -44207.36919669004, -52745.27199507382, -42152.502819378744, -52957.616291780956, -48338.70466261931, -56895.336026094636, -47591.22511121998, -52877.381646033355, -38257.012522678684, -45243.33599570979, -51590.972058113, -57888.986937986156, -52219.788910263225, -39255.473865513464, -51240.794674902085, -47148.04950665259, -45489.12002421862, -60035.355735186306, -44680.893509319234, -47339.947334108256, -59885.18345080086, -41090.432711623645, -51335.69636219805, -53680.7205852779, -43219.57063079796, -58306.893741211316, -47490.05337363705, -42382.6988320362, -40724.156885096636, -44945.69901444298, -47271.41327624211, -40907.25147798807, -46752.17189114907, -42805.17469366227, -49640.516333935906, -47211.30921897939, -42194.798734952405, -57176.86780610603, -41047.3763668503, -47975.62989430368, -46294.69652581508, -45592.662714596445, -33685.823037835005, -41654.28537091672, -54957.490989172344, -47129.8441634206, -49427.524137026114], \"xaxis\": \"x\", \"y\": [646.5438723752026, -1055.9968931753706, -3476.7575329414058, -1789.8310613735057, -2464.366506729348, -672.1303645871014, -990.6075970316548, -975.011019926938, -2999.0481368530072, -2178.9512608782675, -958.5365645110777, -1016.3628176053376, -3844.0506429942843, -3004.1359250357314, -4573.135949676131, -3511.6505427575594, -2494.34601585477, -2125.5165732968326, 1139.067724989406, -1656.4250558163055, -1500.5997535503473, -1529.949520138384, -1838.6646455566604, -458.7329379734705, -1039.8869670204513, -623.0248233972361, -2907.798180135492, -3704.1152030668836, -2964.871161538944, -1819.1411133435672, -2039.0519450914794, -3586.3929123393627, -3386.6313874278367, -1946.4256348815338, -1443.6312210611682, -1546.786022798466, -424.4944516024711, -5860.406970913431, -2626.494760123041, -3482.950924420315, -2385.930673599972, -2813.4088657561015, -3117.043572435125, -2388.3975155671865, -809.2478504066148, -3972.4372911141977, -2804.317598781817, -2106.9565485318585, -3258.5927312494287, -1255.0231217175212, -2395.1506203279114, -3145.8388116696315, -1283.2493416842203, -3447.522865699352, -1902.3037525718125, -2541.1040744024217, -1716.0957515179953, -4704.9007181400775, -918.4435413744588, -3329.424155750391, -874.5938320396256, -1450.7318688866637, -2812.640832274528, 72.34189620852416, -2379.445392952536, -1341.6421504993384, -3330.0950893142635, -3652.143022077505, -1271.8366968001837, -1573.1293339464696, -2323.955025066743, -2003.379558614895, -3267.8530880659678, -2373.906852113616, -2520.8796709258995, -2662.2379174130597, -2551.640945867301, -4966.632983631628, -1998.314514884127, -1200.498708574702, -946.4427010468281, 776.7213551828789, -2706.9542458595424, -2226.5238835946834, -3159.403065288739, -1681.1078093986168, -1747.2845158743758, -2299.177576458252, 1229.6342021037983, -1061.3928297006291, -1806.3716349634774, -1918.0706539765365, -2913.1513261933937, -1690.2235244245417, -1059.5099705589173, -4327.599800404027, -559.8887343311573, -3267.6645334787445, -3656.860040523121, -3215.311753103619, -1788.59501925514, -3270.2500120301265, -3595.4264994551545, -512.1681616652372, -296.9479102201368, -219.83567344032213, -2876.0168218541626, -1034.0462861180697, -3209.70569985512, -2386.74467038797, -1709.6809922654047, -2297.410428456016, -361.8228772290619, -2456.0624695072056, -337.5831102994596, -948.1700320034151, -857.2365574199129, -2067.7852022028596, -3320.2381091067423, -2756.2104567652163, 968.182184170173, -2507.468037848858, -2253.3249547903147, -1523.1531827794768, -982.637404545745, -1498.307062590402, -1025.6556377131592, -1026.2178281219428, -3403.3549980948783, -2663.4363034143603, -1422.2632521531468, -2247.7230980697605, -4260.667936777423, -2383.9235864924344, -2403.4526565005276, -497.02873214681625, -2831.244972649777, -500.3822260290377, 163.0086019424056, -2697.4806496368724, -3445.1407626668765, -1858.7415428672755, -2359.981060852438, -1284.2763352326022, -1273.0340909671543, -2166.945526513025, -3282.496783689518], \"yaxis\": \"y\"}, {\"customdata\": [[88], [59], [59], [88], [37], [33], [90], [31], [90], [91], [29], [83], [84], [87], [22], [58], [31], [33], [56], [30], [85], [87], [34], [61], [30], [88], [56], [30], [25], [61], [88], [37], [35], [85], [85], [88], [59], [90], [33], [62], [59], [91], [33], [87], [26], [88], [24], [91], [86], [36], [87], [33], [59], [29], [59], [57], [40], [42], [89], [93], [17], [24], [34], [90], [20], [92], [84], [59], [61], [67], [82], [94], [28], [36], [91], [34], [77], [63], [35], [21], [86], [56], [83], [28], [59], [83], [83], [58], [91], [29], [61], [84], [34], [33], [55], [88], [91], [91], [84], [87], [39], [38], [89], [59], [35], [59], [87], [94], [86], [60], [79], [86], [60], [85], [92], [37], [89], [67], [31], [20], [37], [57], [87], [33], [56], [67], [58], [89], [34], [25], [44], [68], [31], [58], [55], [21], [36], [88], [26], [29], [38], [79], [51], [82], [39], [87], [36], [57], [61], [86], [86], [35], [89], [30], [60], [64]], \"hoverlabel\": {\"namelength\": 0}, \"hovertemplate\": \"Cluster=Cluster 2<br>PCA1=%{x}<br>PCA2=%{y}<br>Feature=%{customdata[0]}\", \"legendgroup\": \"Cluster=Cluster 2\", \"marker\": {\"color\": \"#00cc96\", \"opacity\": 0.5, \"symbol\": \"circle\"}, \"mode\": \"markers\", \"name\": \"Cluster=Cluster 2\", \"showlegend\": true, \"textposition\": \"top center\", \"type\": \"scatter\", \"x\": [3574.867628285134, -1709.0067116984374, -6075.72394591187, 5619.125538763626, -2220.635450610065, -1755.366356398991, 5679.935032255557, -4114.665812502663, -4883.720561797812, -10371.487057071712, -5149.414552966308, 4615.604589783893, 1855.047986918686, -967.1345292294804, 7017.407229806946, -4794.730185972456, -811.2733012583011, 5122.282562298915, -12402.614006035732, -7981.746810683437, 2868.67533589181, 4968.764645874571, 7034.566991846875, -9176.939917160444, -805.5182840466942, -6214.35491775637, -7827.504392605743, -7225.6566514965525, -6586.375015596342, -9270.983246113969, -1864.5940590614425, -9823.29297141865, 3607.6218475354462, 1547.9124395594235, -3147.971690102398, -3197.7706749317063, -3127.7464754071852, -10419.65072709327, -4661.643199436441, 3333.0370081988885, -4588.845682887326, -1424.2968527852472, -11770.096221904683, -7431.169946592946, -6270.130057704632, -5787.584457334287, -7793.211508914156, 2555.784235160213, -5898.744479681146, -5327.512619806882, -1710.0091006297725, -2630.7941352081784, 1381.292543803894, -10238.837928743029, -2329.616759752765, -3536.624899618863, -11570.013629472285, -12594.175242128525, -3881.279223544831, -9447.566957019655, -4595.725467462922, 5567.478117111807, 9121.208329826175, 4848.442764387981, 499.49661809613417, -4176.722631704307, -6529.597912750254, -7423.928769536226, -9153.992100917832, 4864.683651412996, -7249.028129796928, 7325.256189492691, 1198.2155272857265, -6945.490220855896, -5628.983771409206, -6874.447300583783, 3175.73010088768, -10072.875118803528, -5806.077052611816, -6051.798027149634, 11039.026942031705, -4972.922141129964, 11129.424149229602, 6644.597612798228, -611.8920766835446, -879.6961231840186, 1270.59261863651, -3354.4093954920495, -3652.0516272195177, 1535.320034923863, 3442.0678654010426, 1691.1469990055018, -9514.742122293763, -5495.930030665683, -11393.264281389038, -1006.7942808926935, -11385.807297750876, 10499.407295945575, -5228.7735481430955, -2009.7086141751704, -847.3002227743394, -13124.391604038403, -6112.701966838933, -14757.626854505606, -5414.451723823093, -4197.9959955725035, -907.6690876091174, 4241.775895153044, -2601.869628345944, 1797.8692846207528, -860.4354477953818, 13091.374153516676, -4333.353171495311, 106.44730782999811, -5414.849621380292, -1148.5927138363143, 834.6063416853532, -182.87509706289717, -12401.012614422623, 384.48865377878644, -15876.014194933861, 2392.9514000132303, -4856.160277619078, -9604.976101231396, -3578.641166763731, 3594.042421690832, -5713.304475031714, -7793.454352086524, -18832.32308999509, 277.3194547180366, 2456.114942910885, 3385.8220491313186, -1867.5011952055133, -4025.534586861492, -5506.504775277298, 1380.9095854822583, -1254.7961050822776, 1223.3332842063571, -10817.514881421732, 375.61202524741367, -18377.080919160886, -7740.904879089717, -9600.009525716889, -284.93461613175106, -15159.901916245664, -4335.121223668245, -3902.6507601274043, -9955.599000501965, 8122.08038041554, 5073.487356522342, 871.0561448640424, 3735.222300120541, -8175.944783841647, -7927.27939399956, -3222.028497117645, 2663.814142724259], \"xaxis\": \"x\", \"y\": [6638.189488143048, 3684.6952959403593, 3500.5964543132536, 4314.803908984969, 4177.14012928185, 4273.2053018476345, 4711.285967238693, 3078.896438494593, 4688.370746949258, 6211.274488459199, 5556.666139133818, 5713.442041909503, 5468.743274286697, 4638.724240674151, 5588.800602998204, 5174.470545977295, 4771.515153180693, 3424.073603905288, 4277.42043279043, 3467.5659749114184, 5223.642330390357, 3943.1170736339127, 3374.2871342934272, 7146.662858252778, 4348.095679784136, 8154.200533863806, 5701.697575023513, 4564.617621855316, 4795.659622307598, 5996.549152653393, 5267.352553209776, 6862.24757208061, 4852.444518767339, 3973.906997486512, 5506.996622913861, 5127.949261280455, 5318.281993622225, 5982.858221439131, 4875.41203439204, 4012.2154933423153, 4468.268102563843, 7267.328542397005, 5001.420783196851, 6342.036901878027, 5401.821696967169, 5711.628393266969, 6334.243251982047, 5164.690387393574, 5205.840154213879, 5507.674538617933, 5692.091704359401, 5512.809888472101, 5207.22109750901, 7423.315368546435, 6502.207882775591, 5070.413098436326, 6393.584927460235, 5058.593507665866, 3532.7508016456363, 6026.370137728771, 4575.315245883314, 6399.67945792858, 4076.1888638584974, 6716.389270082329, 4450.5724650858, 5121.948177991021, 5174.06001607075, 5595.425208078429, 6237.4550067497985, 4834.9539918658875, 5030.101509904846, 5245.750156657964, 6031.597780098119, 5240.283697626604, 3413.4609900340324, 3266.4701832643786, 4727.0798130553485, 7033.83230622547, 5686.132349951808, 6221.683453940021, 4384.687289531573, 5053.974394482307, 2451.3956456354927, 6074.108821940039, 2642.8564628733106, 4574.029852480233, 4918.861099714736, 4039.0497082186084, 4298.147934215797, 6617.143404468857, 3293.925709825785, 4305.605513370139, 5484.062210130751, 5033.927181148622, 4760.72668383612, 6827.736752280872, 5239.83448625213, 4092.586810582497, 4906.821369117009, 4571.311601888515, 5435.293808150465, 5122.298575466133, 7150.265686204209, 5008.0121037786075, 6401.496850378557, 4646.423038232094, 4662.571801362161, 4854.373611538008, 5720.063910631847, 3616.906622264862, 1366.2175061913904, 3878.074005604356, 6791.121727987131, 5019.545071865859, 4509.37894804773, 6154.518606181515, 5141.101367432591, 4411.3243537762855, 6731.622371228142, 6845.14181437128, 7337.462584330768, 5992.684094109707, 6861.841710581507, 5517.456998799792, 4687.331305792245, 5244.223767536206, 6098.407171499209, 5788.853893383747, 6823.253328040567, 5152.077722121314, 5539.978254276128, 4513.159427781257, 2685.6626854367955, 5644.552199614271, 6298.430178867734, 5567.112673818732, 6380.915494292793, 5666.367954752701, 6677.482101590938, 5049.606296947776, 5086.374324713102, 5133.639471687388, 4923.281603355223, 4064.0083360808094, 5573.243592768727, 2658.297518890414, 5499.339332721766, 4085.312250446121, 4731.012058760931, 5244.436809348918, 5689.0004530919105, 4370.467828822719, 5599.274828311294, 5673.527728610803, 4129.181189416357, 3399.1203547303226], \"yaxis\": \"y\"}, {\"customdata\": [[37], [65], [90], [59], [29], [58], [88], [63], [92], [17], [34], [22], [24], [36], [34], [87], [85], [61], [27], [59], [31], [31], [93], [17], [35], [28], [94], [28], [33], [56], [28], [86], [92], [18], [61], [32], [63], [58], [31], [62], [60], [62], [90], [33], [33], [65], [59], [65], [86], [32], [84], [84], [90], [91], [26], [92], [97], [84], [58], [61], [92], [87], [66], [22], [91], [30], [25], [28], [93], [90], [91], [89]], \"hoverlabel\": {\"namelength\": 0}, \"hovertemplate\": \"Cluster=Cluster 3<br>PCA1=%{x}<br>PCA2=%{y}<br>Feature=%{customdata[0]}\", \"legendgroup\": \"Cluster=Cluster 3\", \"marker\": {\"color\": \"#ab63fa\", \"opacity\": 0.5, \"symbol\": \"circle\"}, \"mode\": \"markers\", \"name\": \"Cluster=Cluster 3\", \"showlegend\": true, \"textposition\": \"top center\", \"type\": \"scatter\", \"x\": [48551.897791192634, 42414.13984409393, 46271.74999066811, 48029.235982960905, 62912.45709780569, 43629.01273923754, 55587.35173073357, 56651.45548374747, 41328.25266330998, 43861.74709102551, 53899.234059979586, 44952.902035388935, 47549.76254622708, 47842.88367906651, 59798.174828499716, 47182.0685815558, 51395.22435599951, 57857.28905692229, 47415.38916240533, 58984.55027496726, 48410.00929047229, 55168.45154506188, 59803.045579193, 53976.79000263129, 56449.6781382814, 46993.641087908385, 53422.55248570126, 41580.27174463821, 47836.44839182684, 48602.571111840196, 52465.033586659905, 52263.494108744446, 50433.85138453333, 51532.47005840451, 46000.802484699554, 63317.0665324429, 52086.38065892723, 50397.083897731354, 43600.216180309755, 54542.560260911276, 52679.13742245059, 54778.91990969146, 45728.40114434412, 59239.85352839813, 41859.15436997561, 48281.96476402191, 54230.3114204766, 49923.232402586305, 48577.245944563685, 45920.303846007584, 45302.570904167434, 55809.60825993981, 43084.431301068376, 48697.32854440995, 50874.59373315185, 44074.74432267948, 47210.61128412962, 52844.214540832116, 47518.88131856792, 53924.597039558765, 42157.80542870099, 66750.62108457655, 45280.29645748763, 61617.25602185721, 61085.161815426894, 41933.8763490921, 55783.428858014915, 42045.7957025714, 55795.997914963955, 45049.71303774848, 59196.5930863391, 47964.55226138692], \"xaxis\": \"x\", \"y\": [4668.214697412172, -5432.2818195096415, 4207.414796612183, 5422.323757682564, 5261.35521326639, -6254.840941209122, 3427.1351952588107, 4271.292185091135, -4823.645899335598, -6877.035883382065, 3176.7468854090907, -4985.514801220395, 3437.89648239478, 4758.188729714916, 4315.751792559066, -4557.7166017918735, 5657.241494980817, 5717.501137167641, 4709.388807631825, 3350.711617933647, -5693.665441157445, 4016.981622201614, 8450.30756249261, 5488.389984582108, 5101.398697367522, -4647.129088588649, 3894.2354791277494, -5615.560772408638, 6059.983323374551, 6249.537360930082, 3371.5330650130977, 5916.358054129832, -6854.206134077954, 6006.733833662532, 3884.452851319084, 4946.17751012051, 3388.4270346813746, 2890.5509685647044, -5657.4788315200085, 4193.8829993723075, -4749.057025715362, 4629.791365281097, 3658.306501252221, 4745.144589124808, -4543.326267067194, 8499.966944599806, 3238.428770323684, 6048.724079227707, -6305.30775967273, -4953.921129423359, 3778.1814213096077, 3879.149733262657, -4660.855622444507, 5282.497809754306, -5178.052813440071, -6307.669140625979, 6674.234677495917, -5677.667475551911, 4941.99936297327, 5765.842845736466, -5954.454601851143, 2693.008186621753, 4437.356566167739, 6726.313750520612, 4243.721728508765, 4717.997205237609, 4732.087714707708, -3106.1034758683563, 4252.897540706996, 4590.8725834561055, 3903.9749268153705, -4397.186114919677], \"yaxis\": \"y\"}],\n",
       "                        {\"height\": 600, \"legend\": {\"tracegroupgap\": 0}, \"margin\": {\"t\": 60}, \"plot_bgcolor\": \"rgb(240,240,240)\", \"template\": {\"data\": {\"bar\": [{\"error_x\": {\"color\": \"#2a3f5f\"}, \"error_y\": {\"color\": \"#2a3f5f\"}, \"marker\": {\"line\": {\"color\": \"#E5ECF6\", \"width\": 0.5}}, \"type\": \"bar\"}], \"barpolar\": [{\"marker\": {\"line\": {\"color\": \"#E5ECF6\", \"width\": 0.5}}, \"type\": \"barpolar\"}], \"carpet\": [{\"aaxis\": {\"endlinecolor\": \"#2a3f5f\", \"gridcolor\": \"white\", \"linecolor\": \"white\", \"minorgridcolor\": \"white\", \"startlinecolor\": \"#2a3f5f\"}, \"baxis\": {\"endlinecolor\": \"#2a3f5f\", \"gridcolor\": \"white\", \"linecolor\": \"white\", \"minorgridcolor\": \"white\", \"startlinecolor\": \"#2a3f5f\"}, \"type\": \"carpet\"}], \"choropleth\": [{\"colorbar\": {\"outlinewidth\": 0, \"ticks\": \"\"}, \"type\": \"choropleth\"}], \"contour\": [{\"colorbar\": {\"outlinewidth\": 0, \"ticks\": \"\"}, \"colorscale\": [[0.0, \"#0d0887\"], [0.1111111111111111, \"#46039f\"], [0.2222222222222222, \"#7201a8\"], [0.3333333333333333, \"#9c179e\"], [0.4444444444444444, \"#bd3786\"], [0.5555555555555556, \"#d8576b\"], [0.6666666666666666, \"#ed7953\"], [0.7777777777777778, \"#fb9f3a\"], [0.8888888888888888, \"#fdca26\"], [1.0, \"#f0f921\"]], \"type\": \"contour\"}], \"contourcarpet\": [{\"colorbar\": {\"outlinewidth\": 0, \"ticks\": \"\"}, \"type\": \"contourcarpet\"}], \"heatmap\": [{\"colorbar\": {\"outlinewidth\": 0, \"ticks\": \"\"}, \"colorscale\": [[0.0, \"#0d0887\"], [0.1111111111111111, \"#46039f\"], [0.2222222222222222, \"#7201a8\"], [0.3333333333333333, \"#9c179e\"], [0.4444444444444444, \"#bd3786\"], [0.5555555555555556, \"#d8576b\"], [0.6666666666666666, \"#ed7953\"], [0.7777777777777778, \"#fb9f3a\"], [0.8888888888888888, \"#fdca26\"], [1.0, \"#f0f921\"]], \"type\": \"heatmap\"}], \"heatmapgl\": [{\"colorbar\": {\"outlinewidth\": 0, \"ticks\": \"\"}, \"colorscale\": [[0.0, \"#0d0887\"], [0.1111111111111111, \"#46039f\"], [0.2222222222222222, \"#7201a8\"], [0.3333333333333333, \"#9c179e\"], [0.4444444444444444, \"#bd3786\"], [0.5555555555555556, \"#d8576b\"], [0.6666666666666666, \"#ed7953\"], [0.7777777777777778, \"#fb9f3a\"], [0.8888888888888888, \"#fdca26\"], [1.0, \"#f0f921\"]], \"type\": \"heatmapgl\"}], \"histogram\": [{\"marker\": {\"colorbar\": {\"outlinewidth\": 0, \"ticks\": \"\"}}, \"type\": \"histogram\"}], \"histogram2d\": [{\"colorbar\": {\"outlinewidth\": 0, \"ticks\": \"\"}, \"colorscale\": [[0.0, \"#0d0887\"], [0.1111111111111111, \"#46039f\"], [0.2222222222222222, \"#7201a8\"], [0.3333333333333333, \"#9c179e\"], [0.4444444444444444, \"#bd3786\"], [0.5555555555555556, \"#d8576b\"], [0.6666666666666666, \"#ed7953\"], [0.7777777777777778, \"#fb9f3a\"], [0.8888888888888888, \"#fdca26\"], [1.0, \"#f0f921\"]], \"type\": \"histogram2d\"}], \"histogram2dcontour\": [{\"colorbar\": {\"outlinewidth\": 0, \"ticks\": \"\"}, \"colorscale\": [[0.0, \"#0d0887\"], [0.1111111111111111, \"#46039f\"], [0.2222222222222222, \"#7201a8\"], [0.3333333333333333, \"#9c179e\"], [0.4444444444444444, \"#bd3786\"], [0.5555555555555556, \"#d8576b\"], [0.6666666666666666, \"#ed7953\"], [0.7777777777777778, \"#fb9f3a\"], [0.8888888888888888, \"#fdca26\"], [1.0, \"#f0f921\"]], \"type\": \"histogram2dcontour\"}], \"mesh3d\": [{\"colorbar\": {\"outlinewidth\": 0, \"ticks\": \"\"}, \"type\": \"mesh3d\"}], \"parcoords\": [{\"line\": {\"colorbar\": {\"outlinewidth\": 0, \"ticks\": \"\"}}, \"type\": \"parcoords\"}], \"pie\": [{\"automargin\": true, \"type\": \"pie\"}], \"scatter\": [{\"marker\": {\"colorbar\": {\"outlinewidth\": 0, \"ticks\": \"\"}}, \"type\": \"scatter\"}], \"scatter3d\": [{\"line\": {\"colorbar\": {\"outlinewidth\": 0, \"ticks\": \"\"}}, \"marker\": {\"colorbar\": {\"outlinewidth\": 0, \"ticks\": \"\"}}, \"type\": \"scatter3d\"}], \"scattercarpet\": [{\"marker\": {\"colorbar\": {\"outlinewidth\": 0, \"ticks\": \"\"}}, \"type\": \"scattercarpet\"}], \"scattergeo\": [{\"marker\": {\"colorbar\": {\"outlinewidth\": 0, \"ticks\": \"\"}}, \"type\": \"scattergeo\"}], \"scattergl\": [{\"marker\": {\"colorbar\": {\"outlinewidth\": 0, \"ticks\": \"\"}}, \"type\": \"scattergl\"}], \"scattermapbox\": [{\"marker\": {\"colorbar\": {\"outlinewidth\": 0, \"ticks\": \"\"}}, \"type\": \"scattermapbox\"}], \"scatterpolar\": [{\"marker\": {\"colorbar\": {\"outlinewidth\": 0, \"ticks\": \"\"}}, \"type\": \"scatterpolar\"}], \"scatterpolargl\": [{\"marker\": {\"colorbar\": {\"outlinewidth\": 0, \"ticks\": \"\"}}, \"type\": \"scatterpolargl\"}], \"scatterternary\": [{\"marker\": {\"colorbar\": {\"outlinewidth\": 0, \"ticks\": \"\"}}, \"type\": \"scatterternary\"}], \"surface\": [{\"colorbar\": {\"outlinewidth\": 0, \"ticks\": \"\"}, \"colorscale\": [[0.0, \"#0d0887\"], [0.1111111111111111, \"#46039f\"], [0.2222222222222222, \"#7201a8\"], [0.3333333333333333, \"#9c179e\"], [0.4444444444444444, \"#bd3786\"], [0.5555555555555556, \"#d8576b\"], [0.6666666666666666, \"#ed7953\"], [0.7777777777777778, \"#fb9f3a\"], [0.8888888888888888, \"#fdca26\"], [1.0, \"#f0f921\"]], \"type\": \"surface\"}], \"table\": [{\"cells\": {\"fill\": {\"color\": \"#EBF0F8\"}, \"line\": {\"color\": \"white\"}}, \"header\": {\"fill\": {\"color\": \"#C8D4E3\"}, \"line\": {\"color\": \"white\"}}, \"type\": \"table\"}]}, \"layout\": {\"annotationdefaults\": {\"arrowcolor\": \"#2a3f5f\", \"arrowhead\": 0, \"arrowwidth\": 1}, \"coloraxis\": {\"colorbar\": {\"outlinewidth\": 0, \"ticks\": \"\"}}, \"colorscale\": {\"diverging\": [[0, \"#8e0152\"], [0.1, \"#c51b7d\"], [0.2, \"#de77ae\"], [0.3, \"#f1b6da\"], [0.4, \"#fde0ef\"], [0.5, \"#f7f7f7\"], [0.6, \"#e6f5d0\"], [0.7, \"#b8e186\"], [0.8, \"#7fbc41\"], [0.9, \"#4d9221\"], [1, \"#276419\"]], \"sequential\": [[0.0, \"#0d0887\"], [0.1111111111111111, \"#46039f\"], [0.2222222222222222, \"#7201a8\"], [0.3333333333333333, \"#9c179e\"], [0.4444444444444444, \"#bd3786\"], [0.5555555555555556, \"#d8576b\"], [0.6666666666666666, \"#ed7953\"], [0.7777777777777778, \"#fb9f3a\"], [0.8888888888888888, \"#fdca26\"], [1.0, \"#f0f921\"]], \"sequentialminus\": [[0.0, \"#0d0887\"], [0.1111111111111111, \"#46039f\"], [0.2222222222222222, \"#7201a8\"], [0.3333333333333333, \"#9c179e\"], [0.4444444444444444, \"#bd3786\"], [0.5555555555555556, \"#d8576b\"], [0.6666666666666666, \"#ed7953\"], [0.7777777777777778, \"#fb9f3a\"], [0.8888888888888888, \"#fdca26\"], [1.0, \"#f0f921\"]]}, \"colorway\": [\"#636efa\", \"#EF553B\", \"#00cc96\", \"#ab63fa\", \"#FFA15A\", \"#19d3f3\", \"#FF6692\", \"#B6E880\", \"#FF97FF\", \"#FECB52\"], \"font\": {\"color\": \"#2a3f5f\"}, \"geo\": {\"bgcolor\": \"white\", \"lakecolor\": \"white\", \"landcolor\": \"#E5ECF6\", \"showlakes\": true, \"showland\": true, \"subunitcolor\": \"white\"}, \"hoverlabel\": {\"align\": \"left\"}, \"hovermode\": \"closest\", \"mapbox\": {\"style\": \"light\"}, \"paper_bgcolor\": \"white\", \"plot_bgcolor\": \"#E5ECF6\", \"polar\": {\"angularaxis\": {\"gridcolor\": \"white\", \"linecolor\": \"white\", \"ticks\": \"\"}, \"bgcolor\": \"#E5ECF6\", \"radialaxis\": {\"gridcolor\": \"white\", \"linecolor\": \"white\", \"ticks\": \"\"}}, \"scene\": {\"xaxis\": {\"backgroundcolor\": \"#E5ECF6\", \"gridcolor\": \"white\", \"gridwidth\": 2, \"linecolor\": \"white\", \"showbackground\": true, \"ticks\": \"\", \"zerolinecolor\": \"white\"}, \"yaxis\": {\"backgroundcolor\": \"#E5ECF6\", \"gridcolor\": \"white\", \"gridwidth\": 2, \"linecolor\": \"white\", \"showbackground\": true, \"ticks\": \"\", \"zerolinecolor\": \"white\"}, \"zaxis\": {\"backgroundcolor\": \"#E5ECF6\", \"gridcolor\": \"white\", \"gridwidth\": 2, \"linecolor\": \"white\", \"showbackground\": true, \"ticks\": \"\", \"zerolinecolor\": \"white\"}}, \"shapedefaults\": {\"line\": {\"color\": \"#2a3f5f\"}}, \"ternary\": {\"aaxis\": {\"gridcolor\": \"white\", \"linecolor\": \"white\", \"ticks\": \"\"}, \"baxis\": {\"gridcolor\": \"white\", \"linecolor\": \"white\", \"ticks\": \"\"}, \"bgcolor\": \"#E5ECF6\", \"caxis\": {\"gridcolor\": \"white\", \"linecolor\": \"white\", \"ticks\": \"\"}}, \"title\": {\"x\": 0.05}, \"xaxis\": {\"automargin\": true, \"gridcolor\": \"white\", \"linecolor\": \"white\", \"ticks\": \"\", \"title\": {\"standoff\": 15}, \"zerolinecolor\": \"white\", \"zerolinewidth\": 2}, \"yaxis\": {\"automargin\": true, \"gridcolor\": \"white\", \"linecolor\": \"white\", \"ticks\": \"\", \"title\": {\"standoff\": 15}, \"zerolinecolor\": \"white\", \"zerolinewidth\": 2}}}, \"title\": {\"text\": \"2D Cluster PCA Plot\"}, \"xaxis\": {\"anchor\": \"y\", \"domain\": [0.0, 1.0], \"title\": {\"text\": \"PCA1\"}}, \"yaxis\": {\"anchor\": \"x\", \"domain\": [0.0, 1.0], \"title\": {\"text\": \"PCA2\"}}},\n",
       "                        {\"responsive\": true}\n",
       "                    ).then(function(){\n",
       "                            \n",
       "var gd = document.getElementById('29ed3a4b-90e7-4f29-9362-9e457c492cb3');\n",
       "var x = new MutationObserver(function (mutations, observer) {{\n",
       "        var display = window.getComputedStyle(gd).display;\n",
       "        if (!display || display === 'none') {{\n",
       "            console.log([gd, 'removed!']);\n",
       "            Plotly.purge(gd);\n",
       "            observer.disconnect();\n",
       "        }}\n",
       "}});\n",
       "\n",
       "// Listen for the removal of the full notebook cells\n",
       "var notebookContainer = gd.closest('#notebook-container');\n",
       "if (notebookContainer) {{\n",
       "    x.observe(notebookContainer, {childList: true});\n",
       "}}\n",
       "\n",
       "// Listen for the clearing of the current output cell\n",
       "var outputEl = gd.closest('.output');\n",
       "if (outputEl) {{\n",
       "    x.observe(outputEl, {childList: true});\n",
       "}}\n",
       "\n",
       "                        })\n",
       "                };\n",
       "                });\n",
       "            </script>\n",
       "        </div>"
      ]
     },
     "metadata": {},
     "output_type": "display_data"
    }
   ],
   "source": [
    "plot_model(Kmeans)"
   ]
  },
  {
   "cell_type": "code",
   "execution_count": null,
   "metadata": {},
   "outputs": [],
   "source": []
  }
 ],
 "metadata": {
  "kernelspec": {
   "display_name": "Python 3",
   "language": "python",
   "name": "python3"
  },
  "language_info": {
   "codemirror_mode": {
    "name": "ipython",
    "version": 3
   },
   "file_extension": ".py",
   "mimetype": "text/x-python",
   "name": "python",
   "nbconvert_exporter": "python",
   "pygments_lexer": "ipython3",
   "version": "3.6.10"
  }
 },
 "nbformat": 4,
 "nbformat_minor": 4
}
